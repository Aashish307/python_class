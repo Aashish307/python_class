{
 "cells": [
  {
   "cell_type": "code",
   "execution_count": 1,
   "id": "f73ab8f1-d066-4730-a411-f3eab5545928",
   "metadata": {},
   "outputs": [],
   "source": [
    "# per defined function\n",
    "# user defined function"
   ]
  },
  {
   "cell_type": "code",
   "execution_count": 3,
   "id": "eed7a066-1b38-4324-8b44-2b6ecb5995fd",
   "metadata": {},
   "outputs": [],
   "source": [
    "# per defined function\n",
    "# print() int() float() str() list() tuple() dict() set()"
   ]
  },
  {
   "cell_type": "code",
   "execution_count": 7,
   "id": "1ab546d1-44b0-47e6-83dd-4d7ded672983",
   "metadata": {},
   "outputs": [],
   "source": [
    "# def <function_name>():\n",
    "#     <operation>\n",
    "\n",
    "# <function_name>()"
   ]
  },
  {
   "cell_type": "code",
   "execution_count": 17,
   "id": "df125909-7bb3-49e1-83fd-45c651bb160e",
   "metadata": {},
   "outputs": [
    {
     "name": "stdout",
     "output_type": "stream",
     "text": [
      "Hello World\n"
     ]
    }
   ],
   "source": [
    "def hello():\n",
    "    print(\"Hello World\")\n",
    "\n",
    "hello()"
   ]
  },
  {
   "cell_type": "code",
   "execution_count": 19,
   "id": "a45277c7-a2bf-43b1-970d-810ee36b4250",
   "metadata": {},
   "outputs": [
    {
     "name": "stdin",
     "output_type": "stream",
     "text": [
      "Enter l =  10\n",
      "Enter b =  2\n"
     ]
    },
    {
     "name": "stdout",
     "output_type": "stream",
     "text": [
      "20\n"
     ]
    }
   ],
   "source": [
    "def area():\n",
    "    l = int(input(\"Enter l = \"))          #local variable\n",
    "    b = int(input(\"Enter b = \"))          #Local varibale\n",
    "    a = l*b                               #local varibale\n",
    "    print(a)\n",
    "    \n",
    "area()         "
   ]
  },
  {
   "cell_type": "code",
   "execution_count": 21,
   "id": "1c10a0b6-c7b3-45be-a92d-6a0453bbd49f",
   "metadata": {},
   "outputs": [
    {
     "name": "stdin",
     "output_type": "stream",
     "text": [
      "Enter l =  10\n",
      "Enter b =  10\n"
     ]
    },
    {
     "name": "stdout",
     "output_type": "stream",
     "text": [
      "100\n",
      "10\n"
     ]
    }
   ],
   "source": [
    "l = int(input(\"Enter l = \"))          #Global variable\n",
    "b = int(input(\"Enter b = \"))          #Global varibale\n",
    "def area():\n",
    "    a = l*b                               #local varibale\n",
    "    print(a)\n",
    "    \n",
    "area()   \n",
    "print(l)"
   ]
  },
  {
   "cell_type": "code",
   "execution_count": 23,
   "id": "09034e86-2179-417c-aeba-3c5aff5a5bfd",
   "metadata": {},
   "outputs": [
    {
     "name": "stdin",
     "output_type": "stream",
     "text": [
      "Enter l =  10\n",
      "Enter b =  10\n"
     ]
    },
    {
     "name": "stdout",
     "output_type": "stream",
     "text": [
      "100\n",
      "10\n"
     ]
    }
   ],
   "source": [
    "def area():\n",
    "    global l,b\n",
    "    l = int(input(\"Enter l = \"))          #local variable\n",
    "    b = int(input(\"Enter b = \"))          #Local varibale\n",
    "    a = l*b                               #local varibale\n",
    "    print(a)\n",
    "    \n",
    "area()\n",
    "print(l)"
   ]
  },
  {
   "cell_type": "code",
   "execution_count": 25,
   "id": "4ce52b02-4b01-48e2-91b1-2b19bd38c020",
   "metadata": {},
   "outputs": [],
   "source": [
    "# arguments and parameter"
   ]
  },
  {
   "cell_type": "code",
   "execution_count": 27,
   "id": "d13bea05-130c-4dc9-bc4f-633c35da4871",
   "metadata": {},
   "outputs": [
    {
     "name": "stdin",
     "output_type": "stream",
     "text": [
      "Enter l =  100\n",
      "Enter b =  10\n"
     ]
    },
    {
     "name": "stdout",
     "output_type": "stream",
     "text": [
      "1000\n"
     ]
    }
   ],
   "source": [
    "def area(l,b):                        #L,b parameter\n",
    "    a = l*b                               #local varibale\n",
    "    print(a)\n",
    "\n",
    "l = int(input(\"Enter l = \"))          #global variable\n",
    "b = int(input(\"Enter b = \"))          #global varibale\n",
    "area(l,b)                             #L,b arguments"
   ]
  },
  {
   "cell_type": "code",
   "execution_count": 33,
   "id": "a6648485-5304-4c01-acc9-009cb40f29d6",
   "metadata": {},
   "outputs": [
    {
     "name": "stdout",
     "output_type": "stream",
     "text": [
      "Hello World I am Ram. I am from Kathmandu. I am 45\n"
     ]
    }
   ],
   "source": [
    "def info(name,age,add):\n",
    "    data = f\"Hello World I am {name}. I am from {add}. I am {age}\"\n",
    "    print(data)\n",
    "\n",
    "info(\"Ram\",45,\"Kathmandu\")"
   ]
  },
  {
   "cell_type": "code",
   "execution_count": 37,
   "id": "07274cbf-6d4b-43f8-b581-a411ebda2750",
   "metadata": {},
   "outputs": [
    {
     "name": "stdout",
     "output_type": "stream",
     "text": [
      "c\n",
      "C++\n",
      "Java\n",
      "Python\n"
     ]
    }
   ],
   "source": [
    "def language(lan = \"Python\"):\n",
    "    print(lan)\n",
    "\n",
    "language(\"c\")\n",
    "language(\"C++\")\n",
    "language(\"Java\")\n",
    "language()"
   ]
  },
  {
   "cell_type": "code",
   "execution_count": 45,
   "id": "13807103-97a7-41f7-a299-f663c39727d5",
   "metadata": {},
   "outputs": [
    {
     "name": "stdout",
     "output_type": "stream",
     "text": [
      "Hello World, I am Ram. I am from Nepal. I am 45 years old\n"
     ]
    }
   ],
   "source": [
    "def info(name,age,add=\"Nepal\"):\n",
    "    data = f\"Hello World, I am {name}. I am from {add}. I am {age} years old\"\n",
    "    print(data)\n",
    "\n",
    "info(\"Ram\",45)"
   ]
  },
  {
   "cell_type": "code",
   "execution_count": 53,
   "id": "9874faf1-e146-4f8b-9aed-cd674f9ac49e",
   "metadata": {},
   "outputs": [
    {
     "name": "stdin",
     "output_type": "stream",
     "text": [
      "Enter l = 10\n",
      "Enter b = 5\n",
      "Enter h = 10\n"
     ]
    },
    {
     "name": "stdout",
     "output_type": "stream",
     "text": [
      "50\n",
      "500\n"
     ]
    }
   ],
   "source": [
    "# return type function\n",
    "def area(l,b):\n",
    "    a = l*b\n",
    "    return a\n",
    "\n",
    "l = int(input(\"Enter l =\"))\n",
    "b = int(input(\"Enter b =\"))\n",
    "h = int(input(\"Enter h =\"))\n",
    "\n",
    "#print (area(l,b))\n",
    "ar = area(l,b)\n",
    "v = ar*h\n",
    "print(ar)\n",
    "print(v)"
   ]
  },
  {
   "cell_type": "code",
   "execution_count": 65,
   "id": "cb4fd37f-2309-4a79-af2e-c2339fa0620a",
   "metadata": {},
   "outputs": [
    {
     "name": "stdin",
     "output_type": "stream",
     "text": [
      "Enter a =  100\n",
      "Enter b =  50\n",
      "Enter  + or - or * or /  /\n"
     ]
    },
    {
     "name": "stdout",
     "output_type": "stream",
     "text": [
      "2.0\n"
     ]
    }
   ],
   "source": [
    "def add(a,b):\n",
    "    return a+b\n",
    "def sub(a,b):\n",
    "    return a-b\n",
    "def mul(a,b):\n",
    "    return a*b\n",
    "def div(a,b):\n",
    "    return a/b\n",
    "a = int(input(\"Enter a = \"))\n",
    "b = int(input(\"Enter b = \"))\n",
    "o = input(\"Enter  + or - or * or / \")\n",
    "if o == '+':\n",
    "    print(add(a,b))\n",
    "elif o == '-':\n",
    "    print(sub(a,b))\n",
    "elif o == '*': \n",
    "    print(mul(a,b))\n",
    "elif o == '/': \n",
    "    print(div(a,b))\n",
    "else:\n",
    "    print(\"Invalid operator\")"
   ]
  },
  {
   "cell_type": "code",
   "execution_count": 6,
   "id": "8977ca49-c4e0-4e18-9c6d-2f674d2f62d0",
   "metadata": {},
   "outputs": [],
   "source": [
    "# # recursive function\n",
    "# def hello():\n",
    "#     print(\"Hello World\")\n",
    "#     hello()\n",
    "# hello()"
   ]
  },
  {
   "cell_type": "code",
   "execution_count": 12,
   "id": "7d43272f-0d34-473b-a29d-ab596414fa78",
   "metadata": {},
   "outputs": [
    {
     "name": "stdin",
     "output_type": "stream",
     "text": [
      "Enter y for more print =  y\n"
     ]
    },
    {
     "name": "stdout",
     "output_type": "stream",
     "text": [
      "Hello World\n"
     ]
    },
    {
     "name": "stdin",
     "output_type": "stream",
     "text": [
      "Enter y for more print =  y\n"
     ]
    },
    {
     "name": "stdout",
     "output_type": "stream",
     "text": [
      "Hello World\n"
     ]
    },
    {
     "name": "stdin",
     "output_type": "stream",
     "text": [
      "Enter y for more print =  y\n"
     ]
    },
    {
     "name": "stdout",
     "output_type": "stream",
     "text": [
      "Hello World\n"
     ]
    },
    {
     "name": "stdin",
     "output_type": "stream",
     "text": [
      "Enter y for more print =  y\n"
     ]
    },
    {
     "name": "stdout",
     "output_type": "stream",
     "text": [
      "Hello World\n"
     ]
    },
    {
     "name": "stdin",
     "output_type": "stream",
     "text": [
      "Enter y for more print =  fjb\n"
     ]
    }
   ],
   "source": [
    " # recursive function\n",
    "def hello():\n",
    "    x = input(\"Enter y for more print = \")\n",
    "    if x == 'y':\n",
    "        print(\"Hello World\")     \n",
    "        hello()\n",
    "    \n",
    "hello()"
   ]
  },
  {
   "cell_type": "code",
   "execution_count": 14,
   "id": "664d0486-51a8-475b-b28d-83684401383c",
   "metadata": {},
   "outputs": [],
   "source": [
    "# lambda function"
   ]
  },
  {
   "cell_type": "code",
   "execution_count": 16,
   "id": "005cd47d-6ce1-4e46-bc7c-3170fb731d85",
   "metadata": {},
   "outputs": [],
   "source": [
    "# lambda <arguments>:<operations>"
   ]
  },
  {
   "cell_type": "code",
   "execution_count": 20,
   "id": "a48e9999-fb96-433e-b22f-005abd5a255c",
   "metadata": {},
   "outputs": [
    {
     "data": {
      "text/plain": [
       "16"
      ]
     },
     "execution_count": 20,
     "metadata": {},
     "output_type": "execute_result"
    }
   ],
   "source": [
    "x = lambda a:a**2\n",
    "x(4)"
   ]
  },
  {
   "cell_type": "code",
   "execution_count": 22,
   "id": "9e4bb846-1257-4612-80d3-188f39083ed9",
   "metadata": {},
   "outputs": [
    {
     "data": {
      "text/plain": [
       "20"
      ]
     },
     "execution_count": 22,
     "metadata": {},
     "output_type": "execute_result"
    }
   ],
   "source": [
    "x = lambda l,b:l*b\n",
    "x(4,5)"
   ]
  },
  {
   "cell_type": "code",
   "execution_count": 24,
   "id": "06a36d6d-8761-4dc5-ac62-1bcf9909a413",
   "metadata": {},
   "outputs": [],
   "source": [
    "# filter"
   ]
  },
  {
   "cell_type": "code",
   "execution_count": 26,
   "id": "1e26c641-19f4-4c6a-b9dc-55f87817fe22",
   "metadata": {},
   "outputs": [],
   "source": [
    "# list(filter(lambda <arguments>:<operation>,list))"
   ]
  },
  {
   "cell_type": "code",
   "execution_count": 40,
   "id": "44aa237a-4d9e-421e-aefa-1c9db940b896",
   "metadata": {},
   "outputs": [
    {
     "data": {
      "text/plain": [
       "[2, 4, 6, 8, 10]"
      ]
     },
     "execution_count": 40,
     "metadata": {},
     "output_type": "execute_result"
    }
   ],
   "source": [
    "l = [1,2,3,4,5,6,7,8,9,10]\n",
    "list(filter(lambda x: x % 2 == 0, l))"
   ]
  },
  {
   "cell_type": "code",
   "execution_count": 34,
   "id": "64aed073-04b1-4be8-acfc-12f563e82a74",
   "metadata": {},
   "outputs": [
    {
     "data": {
      "text/plain": [
       "['Apple', 'Cat', 'Fish']"
      ]
     },
     "execution_count": 34,
     "metadata": {},
     "output_type": "execute_result"
    }
   ],
   "source": [
    "s = [\"Apple\",\"ball\",\"Cat\",\"dog\",\"Fish\"]\n",
    "list(filter(lambda x: x[0].isupper(), s))"
   ]
  },
  {
   "cell_type": "code",
   "execution_count": 42,
   "id": "82879153-2717-43bd-a4c8-a5fc04a48d76",
   "metadata": {},
   "outputs": [],
   "source": [
    "#map"
   ]
  },
  {
   "cell_type": "code",
   "execution_count": 44,
   "id": "64a1a603-b69e-43f6-8f0a-d22a465d1ccd",
   "metadata": {},
   "outputs": [],
   "source": [
    "# list(map(lambda <arguments>:<operation>,list))"
   ]
  },
  {
   "cell_type": "code",
   "execution_count": 50,
   "id": "0dd8708c-4b1b-4693-86fc-a5b126231694",
   "metadata": {},
   "outputs": [
    {
     "data": {
      "text/plain": [
       "['Apple', 'Ball', 'Cat', 'Dog', 'Fish']"
      ]
     },
     "execution_count": 50,
     "metadata": {},
     "output_type": "execute_result"
    }
   ],
   "source": [
    "s = [\"apple\",\"ball\",\"cat\",\"dog\",\"fish\"]\n",
    "list(map(lambda x:x.title(), s))"
   ]
  },
  {
   "cell_type": "code",
   "execution_count": 54,
   "id": "0b5bbc9f-42af-49b8-97a9-fa917af08c68",
   "metadata": {},
   "outputs": [
    {
     "data": {
      "text/plain": [
       "[1, 4, 9, 16, 25, 36, 49, 64, 81, 100]"
      ]
     },
     "execution_count": 54,
     "metadata": {},
     "output_type": "execute_result"
    }
   ],
   "source": [
    "l = [1,2,3,4,5,6,7,8,9,10]\n",
    "result = list(map(lambda x:x**2, l))\n",
    "result"
   ]
  },
  {
   "cell_type": "code",
   "execution_count": 56,
   "id": "d158691c-a870-44c4-bf76-7ed1c347674e",
   "metadata": {},
   "outputs": [
    {
     "data": {
      "text/plain": [
       "['1', '2', '3', '4', '5', '6', '7', '8', '9', '10']"
      ]
     },
     "execution_count": 56,
     "metadata": {},
     "output_type": "execute_result"
    }
   ],
   "source": [
    "l = [1,2,3,4,5,6,7,8,9,10]\n",
    "result = list(map(lambda x:str(x), l))\n",
    "result"
   ]
  },
  {
   "cell_type": "code",
   "execution_count": 58,
   "id": "2ab50b0d-87ab-442f-a697-fb03942c32d2",
   "metadata": {},
   "outputs": [
    {
     "data": {
      "text/plain": [
       "'[1, 2, 3, 4, 5, 6, 7, 8, 9, 10]'"
      ]
     },
     "execution_count": 58,
     "metadata": {},
     "output_type": "execute_result"
    }
   ],
   "source": [
    "l = [1,2,3,4,5,6,7,8,9,10]\n",
    "str(l)"
   ]
  },
  {
   "cell_type": "code",
   "execution_count": 66,
   "id": "e825de0b-27b6-464c-8791-67d8bd6e8b82",
   "metadata": {},
   "outputs": [
    {
     "name": "stdout",
     "output_type": "stream",
     "text": [
      "[0, 1, 2, 3, 4, 5, 6, 7, 8, 9]\n"
     ]
    }
   ],
   "source": [
    "# list\n",
    "l = []\n",
    "for i in range(10):\n",
    "    l.append(i)\n",
    "print(l)"
   ]
  },
  {
   "cell_type": "code",
   "execution_count": 70,
   "id": "a263a4a4-b0dd-410b-ac16-c0d7cc1547d0",
   "metadata": {},
   "outputs": [
    {
     "data": {
      "text/plain": [
       "[0, 1, 2, 3, 4, 5, 6, 7, 8, 9]"
      ]
     },
     "execution_count": 70,
     "metadata": {},
     "output_type": "execute_result"
    }
   ],
   "source": [
    "l = [i for i in range(10)]\n",
    "l"
   ]
  },
  {
   "cell_type": "code",
   "execution_count": 81,
   "id": "abe465e3-cbf1-4488-ab75-855a974c1ed8",
   "metadata": {},
   "outputs": [
    {
     "data": {
      "text/plain": [
       "['1', '2', '3', '4', '5', '6', '7', '8', '9', '10']"
      ]
     },
     "execution_count": 81,
     "metadata": {},
     "output_type": "execute_result"
    }
   ],
   "source": [
    "l = [1,2,3,4,5,6,7,8,9,10]\n",
    "l = [str(i) for i in l]\n",
    "l"
   ]
  },
  {
   "cell_type": "code",
   "execution_count": 83,
   "id": "cd217a6c-7fe5-45ae-a7c1-859fb3ba2dcb",
   "metadata": {},
   "outputs": [
    {
     "data": {
      "text/plain": [
       "['APPLE', 'BALL', 'CAT', 'DOG', 'FISH']"
      ]
     },
     "execution_count": 83,
     "metadata": {},
     "output_type": "execute_result"
    }
   ],
   "source": [
    "s = [\"apple\",\"ball\",\"cat\",\"dog\",\"fish\"]\n",
    "l = [i.upper() for i in s]\n",
    "l"
   ]
  },
  {
   "cell_type": "code",
   "execution_count": 85,
   "id": "aa0ef2a0-cb81-4a3c-a8bb-91cf4c8f21d6",
   "metadata": {},
   "outputs": [
    {
     "data": {
      "text/plain": [
       "[2, 4, 6, 8, 10]"
      ]
     },
     "execution_count": 85,
     "metadata": {},
     "output_type": "execute_result"
    }
   ],
   "source": [
    "# filter\n",
    "l = [1,2,3,4,5,6,7,8,9,10]\n",
    "f = [i for i in l if i%2==0]\n",
    "f"
   ]
  },
  {
   "cell_type": "code",
   "execution_count": 87,
   "id": "9bd054e3-8219-4df5-949c-91dc792dbe42",
   "metadata": {},
   "outputs": [
    {
     "data": {
      "text/plain": [
       "[10, 20, 30, 40, 50]"
      ]
     },
     "execution_count": 87,
     "metadata": {},
     "output_type": "execute_result"
    }
   ],
   "source": [
    "l = [1,2,3,4,5,6,7,8,9,10]\n",
    "f = [i*5 for i in l if i%2==0]\n",
    "f"
   ]
  },
  {
   "cell_type": "code",
   "execution_count": 93,
   "id": "891ce733-0224-4ba6-abeb-7162315f477a",
   "metadata": {},
   "outputs": [
    {
     "data": {
      "text/plain": [
       "['Apple', 'Cat', 'Fish']"
      ]
     },
     "execution_count": 93,
     "metadata": {},
     "output_type": "execute_result"
    }
   ],
   "source": [
    "s = [\"Apple\",\"ball\",\"Cat\",\"dog\",\"Fish\"]\n",
    "l = [i for i in s if i[0].isupper()]\n",
    "l"
   ]
  },
  {
   "cell_type": "code",
   "execution_count": 97,
   "id": "edc5a1a6-d8bf-4ef0-b937-f6fe3e34c862",
   "metadata": {},
   "outputs": [
    {
     "name": "stdout",
     "output_type": "stream",
     "text": [
      "['APPLE', 'CAT']\n"
     ]
    }
   ],
   "source": [
    "a = ['APPLE', 'BALL', 'CAT', 'DOG', 'FISH']\n",
    "b = [\"APPLE\",\"ball\",\"CAT\",\"dog\",\"Fish\"]\n",
    "common = [i for i in b if i in a]\n",
    "print(common)\n"
   ]
  },
  {
   "cell_type": "code",
   "execution_count": 99,
   "id": "7af2934a-8c9b-403e-8fa3-34a5a9ee9218",
   "metadata": {},
   "outputs": [
    {
     "name": "stdout",
     "output_type": "stream",
     "text": [
      "['ball', 'dog', 'Fish']\n"
     ]
    }
   ],
   "source": [
    "not_common = [i for i in b if i not in a]\n",
    "print(not_common)"
   ]
  },
  {
   "cell_type": "code",
   "execution_count": null,
   "id": "2b7207da-51a8-4591-a5d8-6177ff6b2797",
   "metadata": {},
   "outputs": [],
   "source": []
  }
 ],
 "metadata": {
  "kernelspec": {
   "display_name": "Python [conda env:base] *",
   "language": "python",
   "name": "conda-base-py"
  },
  "language_info": {
   "codemirror_mode": {
    "name": "ipython",
    "version": 3
   },
   "file_extension": ".py",
   "mimetype": "text/x-python",
   "name": "python",
   "nbconvert_exporter": "python",
   "pygments_lexer": "ipython3",
   "version": "3.12.7"
  }
 },
 "nbformat": 4,
 "nbformat_minor": 5
}
