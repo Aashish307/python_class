{
 "cells": [
  {
   "cell_type": "code",
   "execution_count": 1,
   "id": "97f1d2f2-861d-44e0-895d-c2880d65af13",
   "metadata": {},
   "outputs": [],
   "source": [
    "# loop\n",
    "# for loop\n",
    "# while loop,"
   ]
  },
  {
   "cell_type": "code",
   "execution_count": 2,
   "id": "d029cfde-1dce-4681-bb84-c7351716ee23",
   "metadata": {},
   "outputs": [],
   "source": [
    "# range(5)    0,1,2,3,4\n",
    "# range(1,5)  1,2,3,4\n",
    "# range(1,10,2) 1,3,5,7,9"
   ]
  },
  {
   "cell_type": "code",
   "execution_count": 3,
   "id": "b8c6a0cf-cb17-43bf-8da3-8ddaa04998b8",
   "metadata": {},
   "outputs": [
    {
     "name": "stdout",
     "output_type": "stream",
     "text": [
      "0 Hello World\n",
      "1 Hello World\n",
      "2 Hello World\n",
      "3 Hello World\n",
      "4 Hello World\n"
     ]
    }
   ],
   "source": [
    "for i in range(5):\n",
    "    print(i, \"Hello World\")"
   ]
  },
  {
   "cell_type": "code",
   "execution_count": 4,
   "id": "685f05bd-edce-4009-b244-37069d5b30ea",
   "metadata": {},
   "outputs": [
    {
     "name": "stdout",
     "output_type": "stream",
     "text": [
      "1 Hello World\n",
      "3 Hello World\n",
      "5 Hello World\n"
     ]
    }
   ],
   "source": [
    "for i in range(1,6,2):       #1, 1+2, 3+2\n",
    "    print(i, \"Hello World\")"
   ]
  },
  {
   "cell_type": "code",
   "execution_count": 5,
   "id": "783db995-1636-4181-b71b-0e5eb47ef821",
   "metadata": {},
   "outputs": [
    {
     "name": "stdout",
     "output_type": "stream",
     "text": [
      "5 Hello World\n",
      "4 Hello World\n",
      "3 Hello World\n",
      "2 Hello World\n",
      "1 Hello World\n"
     ]
    }
   ],
   "source": [
    "for i in range(5,0,-1):\n",
    "    print(i, \"Hello World\")"
   ]
  },
  {
   "cell_type": "code",
   "execution_count": 6,
   "id": "c7fd6c83-5dd2-4b09-967d-b06020687dec",
   "metadata": {},
   "outputs": [],
   "source": [
    "# WAP to create a multiplication table "
   ]
  },
  {
   "cell_type": "code",
   "execution_count": 8,
   "id": "dd3e71df-a23c-4c8c-8b82-c6c94db90d7b",
   "metadata": {},
   "outputs": [
    {
     "name": "stdin",
     "output_type": "stream",
     "text": [
      "Enter x =  5\n"
     ]
    },
    {
     "name": "stdout",
     "output_type": "stream",
     "text": [
      "5\n",
      "10\n",
      "15\n",
      "20\n",
      "25\n",
      "30\n",
      "35\n",
      "40\n",
      "45\n",
      "50\n",
      "55\n"
     ]
    }
   ],
   "source": [
    "x = int(input(\"Enter x = \"))\n",
    "for i in range(1,12):\n",
    "    print(x*i)"
   ]
  },
  {
   "cell_type": "code",
   "execution_count": null,
   "id": "9cf7210c-6dbf-4fe1-a804-41159b122304",
   "metadata": {},
   "outputs": [],
   "source": [
    "x = int(input(\"Enter x = \"))\n",
    "for i in range(1,11):\n",
    "    print(x,\"*\",i,\"=\",x*i)    #5 * 1 = 5"
   ]
  },
  {
   "cell_type": "code",
   "execution_count": null,
   "id": "0ed99a87-2cd5-48ee-aa5b-42b85f6edb56",
   "metadata": {},
   "outputs": [],
   "source": [
    "# WAP that calculates sum of given numbers"
   ]
  },
  {
   "cell_type": "code",
   "execution_count": 16,
   "id": "15ab18df-ba0b-4900-afc0-7dd45a05b4d3",
   "metadata": {},
   "outputs": [
    {
     "name": "stdin",
     "output_type": "stream",
     "text": [
      "Enter no of entries =  2\n",
      "Enter money =  1000\n"
     ]
    },
    {
     "name": "stdout",
     "output_type": "stream",
     "text": [
      "1000.0\n"
     ]
    },
    {
     "name": "stdin",
     "output_type": "stream",
     "text": [
      "Enter money =  1000\n"
     ]
    },
    {
     "name": "stdout",
     "output_type": "stream",
     "text": [
      "2100.0\n"
     ]
    }
   ],
   "source": [
    "s = 0\n",
    "n = int(input(\"Enter no of entries = \"))\n",
    "for i in range(n):\n",
    "    m = int(input(\"Enter money = \"))\n",
    "    s = s*1.1 + m\n",
    "    print(s)"
   ]
  },
  {
   "cell_type": "code",
   "execution_count": 18,
   "id": "90c6574d-ed8f-4941-b542-e92e6917299b",
   "metadata": {},
   "outputs": [
    {
     "name": "stdin",
     "output_type": "stream",
     "text": [
      "Enter no of entries =  2\n",
      "Enter money =  1000\n"
     ]
    },
    {
     "name": "stdout",
     "output_type": "stream",
     "text": [
      "1100.0\n"
     ]
    },
    {
     "name": "stdin",
     "output_type": "stream",
     "text": [
      "Enter money =  1000\n"
     ]
    },
    {
     "name": "stdout",
     "output_type": "stream",
     "text": [
      "2310.0\n"
     ]
    }
   ],
   "source": [
    "s = 0\n",
    "n = int(input(\"Enter no of entries = \"))\n",
    "for i in range(n):\n",
    "    m = int(input(\"Enter money = \"))\n",
    "    s = s + m\n",
    "    s = s*1.1\n",
    "    print(s)"
   ]
  },
  {
   "cell_type": "code",
   "execution_count": 28,
   "id": "fa5daa79-b13d-4a2b-ab66-7b34c0db817c",
   "metadata": {},
   "outputs": [
    {
     "name": "stdin",
     "output_type": "stream",
     "text": [
      "Enter n =  5\n"
     ]
    },
    {
     "name": "stdout",
     "output_type": "stream",
     "text": [
      "1\n",
      "2\n",
      "6\n",
      "24\n",
      "120\n"
     ]
    }
   ],
   "source": [
    "# WAP to calculate factorial\n",
    "#5! = 1*2*3*4*5\n",
    "fac = 1\n",
    "n = int(input(\"Enter n = \"))\n",
    "for i in range(1,n+1):\n",
    "    fac = fac * i\n",
    "    print(fac)"
   ]
  },
  {
   "cell_type": "code",
   "execution_count": 30,
   "id": "c24a7c7d-f342-462d-8ac2-1ae68eabb2cb",
   "metadata": {},
   "outputs": [],
   "source": [
    "# WAP to calculate the sum of all numbers\n",
    "i = 10\n",
    "x = 1+2+3+4+5+6+7+8+9+10"
   ]
  },
  {
   "cell_type": "code",
   "execution_count": 36,
   "id": "3b6fb503-bbd9-4378-a3a8-f66e0069c36e",
   "metadata": {},
   "outputs": [
    {
     "name": "stdout",
     "output_type": "stream",
     "text": [
      "The sum is: 1\n",
      "The sum is: 3\n",
      "The sum is: 6\n",
      "The sum is: 10\n",
      "The sum is: 15\n",
      "The sum is: 21\n",
      "The sum is: 28\n",
      "The sum is: 36\n",
      "The sum is: 45\n",
      "The sum is: 55\n"
     ]
    }
   ],
   "source": [
    "i = 10\n",
    "total = 0\n",
    "for num in range(1, i + 1):\n",
    "    total += num\n",
    "    print(\"The sum is:\", total)"
   ]
  },
  {
   "cell_type": "code",
   "execution_count": 2,
   "id": "6430a713-176a-4f25-a62c-1b5df0e0a5cc",
   "metadata": {},
   "outputs": [],
   "source": [
    "# loop ins string"
   ]
  },
  {
   "cell_type": "code",
   "execution_count": 36,
   "id": "79540d17-03bd-4fa1-8e78-ff65eee66093",
   "metadata": {},
   "outputs": [
    {
     "name": "stdout",
     "output_type": "stream",
     "text": [
      "11\n",
      "H e l l o   W o r l d "
     ]
    }
   ],
   "source": [
    "a = \"Hello World\"\n",
    "print(len(a))\n",
    "for i in a:\n",
    "    print(i, end = \" \")"
   ]
  },
  {
   "cell_type": "code",
   "execution_count": 40,
   "id": "04b1b151-c291-4f7a-99b6-74096bcda00c",
   "metadata": {},
   "outputs": [
    {
     "name": "stdout",
     "output_type": "stream",
     "text": [
      "Hello World I am Python"
     ]
    }
   ],
   "source": [
    "a = \"Hello World. I am Python.\"\n",
    "for i in a:\n",
    "    if i != \".\":\n",
    "        print(i, end = \"\")"
   ]
  },
  {
   "cell_type": "code",
   "execution_count": 42,
   "id": "13d78b4b-cae7-472f-9fd2-c0316b14b772",
   "metadata": {},
   "outputs": [
    {
     "name": "stdout",
     "output_type": "stream",
     "text": [
      "Hello World I am Python"
     ]
    }
   ],
   "source": [
    "a = \"Hello World! I am Python.\"\n",
    "for i in a:\n",
    "     if i != \"!\" and i != \".\":       #True  False = False     \n",
    "        print(i, end = \"\")"
   ]
  },
  {
   "cell_type": "code",
   "execution_count": 48,
   "id": "74598e54-b48f-49ea-8ab2-c3b9210401d4",
   "metadata": {},
   "outputs": [
    {
     "name": "stdin",
     "output_type": "stream",
     "text": [
      "Enter how many people =  2\n",
      "Enter name =  Ram\n",
      "Enter phone =  9854321565\n"
     ]
    },
    {
     "name": "stdout",
     "output_type": "stream",
     "text": [
      "Ram 9854321565\n",
      "\n"
     ]
    },
    {
     "name": "stdin",
     "output_type": "stream",
     "text": [
      "Enter name =  Shyam\n",
      "Enter phone =  9860355125\n"
     ]
    },
    {
     "name": "stdout",
     "output_type": "stream",
     "text": [
      "Ram 9854321565\n",
      "Shyam 9860355125\n",
      "\n"
     ]
    }
   ],
   "source": [
    "# WAP to take name and phone number from users and create a simple data application\n",
    "# info = str()\n",
    "# Ram+985352235\n",
    "# shyam+9860325635\n",
    "info = \"\"\n",
    "n = int(input(\"Enter how many people = \"))\n",
    "for i in range(n):\n",
    "    name = input(\"Enter name = \")\n",
    "    phone = input(\"Enter phone = \")\n",
    "    data = name + \" \" + phone + \"\\n\"\n",
    "    info = info + data\n",
    "\n",
    "    print(info)"
   ]
  },
  {
   "cell_type": "code",
   "execution_count": 56,
   "id": "93bc9bdc-2bcd-4f4c-a446-5bd3b47cf73f",
   "metadata": {},
   "outputs": [
    {
     "name": "stdin",
     "output_type": "stream",
     "text": [
      "Enter n =  2\n",
      "Enter product name =  Momo\n",
      "Enter qut =  2\n",
      "Enter price =  150\n",
      "Enter product name =  Coke\n",
      "Enter qut =  3\n",
      "Enter price =  100\n"
     ]
    },
    {
     "name": "stdout",
     "output_type": "stream",
     "text": [
      "Bill =\n",
      " Momo 150.0 2.0 300.0\n",
      "Coke 100.0 3.0 300.0\n",
      "\n",
      "All total =\n",
      " 600.0\n"
     ]
    }
   ],
   "source": [
    "info = \"\"\n",
    "grand_total = 0\n",
    "n = int(input(\"Enter n = \"))\n",
    "for i in range(n):\n",
    "    product = input(\"Enter product name = \")\n",
    "    qty = float(input(\"Enter qut = \"))\n",
    "    price = float(input(\"Enter price = \"))\n",
    "    total = price * qty\n",
    "    row = product + \" \" + str(price) +\" \"+ str(qty) +\" \"+ str(total) + \"\\n\"\n",
    "    info = info + row\n",
    "    grand_total = grand_total +total\n",
    "\n",
    "print(\"Bill =\\n\" ,info)\n",
    "print(\"All total =\\n\" ,grand_total)"
   ]
  },
  {
   "cell_type": "code",
   "execution_count": 58,
   "id": "80b9346c-747c-499b-9adc-ba1d22ab95ae",
   "metadata": {},
   "outputs": [
    {
     "name": "stdout",
     "output_type": "stream",
     "text": [
      "\n",
      "o\n",
      "oo\n",
      "ooo\n",
      "oooo\n"
     ]
    }
   ],
   "source": [
    "for i in range(5): #0,1,2,3,4\n",
    "    print(i*\"o\")"
   ]
  },
  {
   "cell_type": "code",
   "execution_count": 60,
   "id": "012c030f-c042-4ef3-9344-f51318067ac1",
   "metadata": {},
   "outputs": [
    {
     "name": "stdout",
     "output_type": "stream",
     "text": [
      "ooooo\n",
      "oooo\n",
      "ooo\n",
      "oo\n",
      "o\n"
     ]
    }
   ],
   "source": [
    "for i in range(5,0,-1): #5,4,3,2,1\n",
    "    print(i*\"o\")"
   ]
  },
  {
   "cell_type": "code",
   "execution_count": 74,
   "id": "d8c0e09c-0c4d-4bac-9386-af398cf6581a",
   "metadata": {},
   "outputs": [
    {
     "name": "stdout",
     "output_type": "stream",
     "text": [
      " o\n",
      "  o\n",
      "    o\n",
      "      o\n",
      "        o\n",
      "        o\n",
      "        o\n"
     ]
    }
   ],
   "source": [
    "for i in range(5):\n",
    "    print((2*i-1)*\" \",*\"o\")\n",
    "print((2*i-1)*\" \",*\"o\")\n",
    "print((2*i-1)*\" \",*\"o\")"
   ]
  },
  {
   "cell_type": "code",
   "execution_count": 4,
   "id": "e37fcad8-333a-4036-a981-5fbeb3be9d70",
   "metadata": {},
   "outputs": [],
   "source": [
    "# Control statemants"
   ]
  },
  {
   "cell_type": "code",
   "execution_count": 6,
   "id": "1f333379-f3f2-46b6-9ef9-9324b313726d",
   "metadata": {},
   "outputs": [],
   "source": [
    "# break\n",
    "# continue"
   ]
  },
  {
   "cell_type": "code",
   "execution_count": 12,
   "id": "ac7092b2-b06b-4738-a5ea-6640be8b56ef",
   "metadata": {},
   "outputs": [
    {
     "name": "stdout",
     "output_type": "stream",
     "text": [
      "0\n",
      "1\n",
      "2\n",
      "3\n",
      "4\n"
     ]
    }
   ],
   "source": [
    "# break\n",
    "for i in range(10):\n",
    "    if i == 5:\n",
    "        break\n",
    "    print(i)"
   ]
  },
  {
   "cell_type": "code",
   "execution_count": 14,
   "id": "8e3cf6e1-fd78-40ed-90b4-e0a2d08daa69",
   "metadata": {},
   "outputs": [
    {
     "name": "stdout",
     "output_type": "stream",
     "text": [
      "0\n",
      "1\n",
      "2\n",
      "3\n",
      "4\n",
      "6\n",
      "7\n",
      "8\n",
      "9\n"
     ]
    }
   ],
   "source": [
    "# continue\n",
    "for i in range(10):\n",
    "    if i == 5:\n",
    "        continue\n",
    "    print(i)"
   ]
  },
  {
   "cell_type": "code",
   "execution_count": 16,
   "id": "29c35379-3985-4888-810f-4b333bd7227f",
   "metadata": {},
   "outputs": [
    {
     "name": "stdout",
     "output_type": "stream",
     "text": [
      "Hello World"
     ]
    }
   ],
   "source": [
    "a = \"Hello World. I am from Kathmandu.\"\n",
    "for i in a:\n",
    "    if i == \".\":\n",
    "        break\n",
    "    print(i, end = \"\")"
   ]
  },
  {
   "cell_type": "code",
   "execution_count": 20,
   "id": "cecd882c-dc7c-4d52-81ed-81917fd3f7ef",
   "metadata": {},
   "outputs": [
    {
     "name": "stdout",
     "output_type": "stream",
     "text": [
      "Hello World I am from Kathmandu"
     ]
    }
   ],
   "source": [
    "a = \"Hello World. I am from Kathmandu.\"\n",
    "for i in a:\n",
    "    if i == \".\":\n",
    "        continue\n",
    "    else:\n",
    "        print(i, end = \"\")"
   ]
  },
  {
   "cell_type": "code",
   "execution_count": 22,
   "id": "8717d8db-5308-407e-8812-49a92c8e4777",
   "metadata": {},
   "outputs": [
    {
     "name": "stdin",
     "output_type": "stream",
     "text": [
      "Enter n =  11\n"
     ]
    },
    {
     "name": "stdout",
     "output_type": "stream",
     "text": [
      "prime no\n"
     ]
    }
   ],
   "source": [
    "# WAP to find if the number is prime or composite\n",
    "# prime no: 2,3,5,7,11,13\n",
    "# composite no:4,6,8,9,10,12\n",
    "n = int(input(\"Enter n = \"))\n",
    "for i in range(2,n):\n",
    "    if n % i == 0:\n",
    "        print(\"composite no.\")\n",
    "        break\n",
    "else:\n",
    "    print(\"prime no\")"
   ]
  },
  {
   "cell_type": "code",
   "execution_count": 24,
   "id": "85a6fc41-af8e-4d2f-af2d-c36b46a5deb9",
   "metadata": {},
   "outputs": [],
   "source": [
    "# While loop\n",
    "# while <condition>:\n",
    "#     <operations>"
   ]
  },
  {
   "cell_type": "code",
   "execution_count": 26,
   "id": "bc33daa3-660e-439c-8e50-72c9cf8128ab",
   "metadata": {},
   "outputs": [
    {
     "name": "stdout",
     "output_type": "stream",
     "text": [
      "0\n",
      "1\n",
      "2\n",
      "3\n",
      "4\n"
     ]
    }
   ],
   "source": [
    "i = 0\n",
    "while i <5:\n",
    "    print(i)\n",
    "    i = i+1"
   ]
  },
  {
   "cell_type": "code",
   "execution_count": 32,
   "id": "53229c0a-0699-43eb-8641-95c6d2edc889",
   "metadata": {},
   "outputs": [
    {
     "name": "stdout",
     "output_type": "stream",
     "text": [
      "0\n",
      "1\n",
      "2\n",
      "3\n",
      "4\n",
      "5\n"
     ]
    }
   ],
   "source": [
    "i = 0\n",
    "while i <10:\n",
    "    if i == 6:\n",
    "        break\n",
    "    print(i)\n",
    "    i = i+1"
   ]
  },
  {
   "cell_type": "code",
   "execution_count": 1,
   "id": "c56ec7e1-867f-42bd-9608-b3ef3ae86416",
   "metadata": {},
   "outputs": [
    {
     "name": "stdout",
     "output_type": "stream",
     "text": [
      "0\n",
      "1\n",
      "2\n",
      "3\n",
      "4\n",
      "5\n",
      "7\n",
      "8\n",
      "9\n"
     ]
    }
   ],
   "source": [
    "i = 0\n",
    "while i <10:\n",
    "    if i == 6:\n",
    "        i = i + 1\n",
    "        continue\n",
    "    print(i)\n",
    "    i = i+1"
   ]
  },
  {
   "cell_type": "code",
   "execution_count": 1,
   "id": "37b40043-8f22-400b-ba75-199f344986fd",
   "metadata": {},
   "outputs": [
    {
     "name": "stdout",
     "output_type": "stream",
     "text": [
      "5\n",
      "4\n",
      "3\n",
      "2\n",
      "1\n"
     ]
    }
   ],
   "source": [
    "i = 5\n",
    "while i >0:\n",
    "    print(i)\n",
    "    i = i-1"
   ]
  },
  {
   "cell_type": "code",
   "execution_count": 3,
   "id": "98014d95-2e09-4998-b927-dacb3028512b",
   "metadata": {},
   "outputs": [
    {
     "name": "stdin",
     "output_type": "stream",
     "text": [
      "Enter x =  5\n"
     ]
    },
    {
     "name": "stdout",
     "output_type": "stream",
     "text": [
      "5 * 1 = 5\n",
      "5 * 2 = 10\n",
      "5 * 3 = 15\n",
      "5 * 4 = 20\n",
      "5 * 5 = 25\n",
      "5 * 6 = 30\n",
      "5 * 7 = 35\n",
      "5 * 8 = 40\n",
      "5 * 9 = 45\n",
      "5 * 10 = 50\n"
     ]
    }
   ],
   "source": [
    "i = 1\n",
    "x = int(input(\"Enter x = \"))\n",
    "while i<=10:\n",
    "    print(x,\"*\",i,\"=\",x*i)\n",
    "    i = i+1"
   ]
  },
  {
   "cell_type": "code",
   "execution_count": 11,
   "id": "c2d9b3d2-d0d4-4dff-9ef0-0ed450df6a37",
   "metadata": {},
   "outputs": [
    {
     "name": "stdin",
     "output_type": "stream",
     "text": [
      "Enter no of entries =  2\n",
      "Enter money =  1000\n",
      "Enter money =  2000\n"
     ]
    },
    {
     "name": "stdout",
     "output_type": "stream",
     "text": [
      "3000\n"
     ]
    }
   ],
   "source": [
    "i = 0\n",
    "s = 0\n",
    "n = int(input(\"Enter no of entries = \"))\n",
    "while i<n:\n",
    "    m = int(input(\"Enter money = \"))\n",
    "    s = s*1 + m\n",
    "    i = i+1\n",
    "print(s)"
   ]
  },
  {
   "cell_type": "code",
   "execution_count": null,
   "id": "04063dd2-2d09-40d3-a62e-0556c55d6a96",
   "metadata": {},
   "outputs": [],
   "source": []
  }
 ],
 "metadata": {
  "kernelspec": {
   "display_name": "Python [conda env:base] *",
   "language": "python",
   "name": "conda-base-py"
  },
  "language_info": {
   "codemirror_mode": {
    "name": "ipython",
    "version": 3
   },
   "file_extension": ".py",
   "mimetype": "text/x-python",
   "name": "python",
   "nbconvert_exporter": "python",
   "pygments_lexer": "ipython3",
   "version": "3.12.7"
  }
 },
 "nbformat": 4,
 "nbformat_minor": 5
}
