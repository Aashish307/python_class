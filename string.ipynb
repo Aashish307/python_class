{
 "cells": [
  {
   "cell_type": "code",
   "execution_count": 1,
   "id": "f58f56d7-a14b-4baa-b78d-7bcd0dbc5b07",
   "metadata": {},
   "outputs": [
    {
     "name": "stdout",
     "output_type": "stream",
     "text": [
      "Hello Wrold\n",
      "Hello World\n",
      "Hello world\n"
     ]
    }
   ],
   "source": [
    "# string\n",
    "a = 'Hello Wrold'\n",
    "b = \"Hello World\"\n",
    "c = '''Hello world'''\n",
    "\n",
    "print(a)\n",
    "print(b)\n",
    "print(c)"
   ]
  },
  {
   "cell_type": "code",
   "execution_count": 3,
   "id": "a62d98d7-3f08-4850-8e54-69d6cba2da83",
   "metadata": {},
   "outputs": [
    {
     "name": "stdout",
     "output_type": "stream",
     "text": [
      "HelloWorld\n"
     ]
    }
   ],
   "source": [
    "a = \"Hello\"\n",
    "b = \"World\"\n",
    "c = a+b\n",
    "print(c)"
   ]
  },
  {
   "cell_type": "code",
   "execution_count": 7,
   "id": "fde2ed69-5bf4-4660-89cf-04382cbf5506",
   "metadata": {},
   "outputs": [
    {
     "name": "stdout",
     "output_type": "stream",
     "text": [
      "Hello World Hello World \n"
     ]
    }
   ],
   "source": [
    "a = \"Hello World \"\n",
    "print(a*2)"
   ]
  },
  {
   "cell_type": "code",
   "execution_count": 9,
   "id": "6a5e3da4-225b-468a-b485-30ecd78bdc0c",
   "metadata": {},
   "outputs": [
    {
     "name": "stdin",
     "output_type": "stream",
     "text": [
      "Enter name =  Ram\n"
     ]
    },
    {
     "name": "stdout",
     "output_type": "stream",
     "text": [
      "Ram\n"
     ]
    }
   ],
   "source": [
    "name = input(\"Enter name = \")\n",
    "print(name)"
   ]
  },
  {
   "cell_type": "code",
   "execution_count": 11,
   "id": "2b0944e4-3058-48f2-bdc9-bb896df4a018",
   "metadata": {},
   "outputs": [],
   "source": [
    "# Imutable datatype"
   ]
  },
  {
   "cell_type": "code",
   "execution_count": 19,
   "id": "cd557d57-c1d9-4644-a0c3-b002b0348a54",
   "metadata": {},
   "outputs": [
    {
     "name": "stdout",
     "output_type": "stream",
     "text": [
      "H\n",
      "e\n",
      "l\n",
      "l\n",
      "o\n"
     ]
    }
   ],
   "source": [
    "a = \"Hello\"\n",
    "for i in a:\n",
    "    print(i)"
   ]
  },
  {
   "cell_type": "code",
   "execution_count": 2,
   "id": "8284bdbe-8085-413c-ac3a-18c1e32f8db1",
   "metadata": {},
   "outputs": [
    {
     "name": "stdout",
     "output_type": "stream",
     "text": [
      "0\n",
      "1\n",
      "2\n",
      "3\n",
      "4\n",
      "5\n",
      "6\n",
      "7\n",
      "8\n",
      "9\n"
     ]
    }
   ],
   "source": [
    "a = 10\n",
    "for i in range(a):\n",
    "    print(i)"
   ]
  },
  {
   "cell_type": "code",
   "execution_count": 31,
   "id": "71fd3792-2e3b-4477-8b87-f8618b073a83",
   "metadata": {},
   "outputs": [
    {
     "name": "stdout",
     "output_type": "stream",
     "text": [
      "H\n",
      "d\n"
     ]
    }
   ],
   "source": [
    "#Indexing\n",
    "a = \"Hello World\"\n",
    "print(a[0])\n",
    "print(a[-1])"
   ]
  },
  {
   "cell_type": "code",
   "execution_count": 39,
   "id": "2ccb87bf-0038-4f0e-a52a-61c8056173f0",
   "metadata": {},
   "outputs": [
    {
     "name": "stdout",
     "output_type": "stream",
     "text": [
      "Hello\n",
      " World\n"
     ]
    }
   ],
   "source": [
    "#Slicing\n",
    "b = a[0:5]\n",
    "c = a[5:]\n",
    "print(b)\n",
    "print(c)"
   ]
  },
  {
   "cell_type": "code",
   "execution_count": 43,
   "id": "adf44473-6e2b-4751-a9ad-6917d4180f8e",
   "metadata": {},
   "outputs": [
    {
     "name": "stdout",
     "output_type": "stream",
     "text": [
      "H e l l o   W o r l d "
     ]
    }
   ],
   "source": [
    "a = \"Hello World\"\n",
    "l = len(a)\n",
    "for i in range(l):\n",
    "    print(a[i], end = \" \")"
   ]
  },
  {
   "cell_type": "code",
   "execution_count": 45,
   "id": "a1302cfe-468f-4c7d-8f21-3b7ba2fc588c",
   "metadata": {},
   "outputs": [
    {
     "name": "stdout",
     "output_type": "stream",
     "text": [
      "H e l l o   W o r l d "
     ]
    }
   ],
   "source": [
    "i = 0\n",
    "while i<len(a):\n",
    "    print(a[i], end =\" \")\n",
    "    i = i+1"
   ]
  },
  {
   "cell_type": "code",
   "execution_count": 47,
   "id": "9c4b08fb-9552-4770-99da-a122f04351f5",
   "metadata": {},
   "outputs": [
    {
     "name": "stdout",
     "output_type": "stream",
     "text": [
      "Hello World I am Ram. I am from Kathmandu. I am 34\n"
     ]
    }
   ],
   "source": [
    "# string formating\n",
    "name = \"Ram\"\n",
    "age = 34\n",
    "add = \"Kathmandu\"\n",
    "info = f\"Hello World I am {name}. I am from {add}. I am {age}\"\n",
    "print(info)"
   ]
  },
  {
   "cell_type": "code",
   "execution_count": 49,
   "id": "1ce9822f-5a4e-4e1b-8f74-68f6819b0c99",
   "metadata": {},
   "outputs": [],
   "source": [
    "# WAP to create a billing system using string formatting"
   ]
  },
  {
   "cell_type": "code",
   "execution_count": null,
   "id": "9d3fc996-17f3-49f8-81f7-4b34a970fe83",
   "metadata": {},
   "outputs": [],
   "source": [
    "info = \"\"\n",
    "grand_total = 0\n",
    "n = int(input(\"Enter n = \"))\n",
    "for i in range(n):\n",
    "    product = input(\"Enter product name = \")\n",
    "    qty = float(input(\"Enter qut = \"))\n",
    "    price = float(input(\"Enter price = \"))\n",
    "    total = price * qty\n",
    "    row = f\"{product} {price} {qty} {total}\\n\"\n",
    "    info = info + row\n",
    "    grand_total = grand_total +total \n",
    "\n",
    "print(\"Bill =\\n\" ,info)\n",
    "print(\"All total =\\n\" ,grand_total)"
   ]
  },
  {
   "cell_type": "code",
   "execution_count": 61,
   "id": "d931f878-fd5c-4c56-b9ef-0ba7aee3c548",
   "metadata": {},
   "outputs": [
    {
     "name": "stdout",
     "output_type": "stream",
     "text": [
      "Yes\n",
      "1\n"
     ]
    }
   ],
   "source": [
    "# search in string\n",
    "a = \"Ram Shyam Hari Sita Gopal\"\n",
    "b = \"Ram\"\n",
    "if b in a:\n",
    "    print(\"Yes\")\n",
    "    print(a.count(\"Ram\"))\n",
    "else:\n",
    "    print(\"No\")"
   ]
  },
  {
   "cell_type": "code",
   "execution_count": 69,
   "id": "08e5e679-6a83-42cb-9b19-008fdfbfda56",
   "metadata": {},
   "outputs": [
    {
     "name": "stdin",
     "output_type": "stream",
     "text": [
      "Enter name = Ram\n"
     ]
    },
    {
     "name": "stdout",
     "output_type": "stream",
     "text": [
      "Yes\n",
      "1\n"
     ]
    }
   ],
   "source": [
    "a = \"Ram Shyam Hari Sita Gopal\"\n",
    "b = input(\"Enter name =\")\n",
    "if b in a:\n",
    "    print(\"Yes\")\n",
    "    print(a.count(b))\n",
    "else:\n",
    "    print(\"No\")"
   ]
  },
  {
   "cell_type": "code",
   "execution_count": 73,
   "id": "7da90446-f87d-4f51-9605-25878486d9c5",
   "metadata": {},
   "outputs": [
    {
     "name": "stdout",
     "output_type": "stream",
     "text": [
      "ram shyam hari sita gopal\n"
     ]
    }
   ],
   "source": [
    "a = \"Ram Shyam Hari Sita Gopal\"\n",
    "a = a.lower()\n",
    "print(a)"
   ]
  },
  {
   "cell_type": "code",
   "execution_count": 85,
   "id": "5e02675c-9b58-4758-ad0c-8153519762f0",
   "metadata": {},
   "outputs": [
    {
     "name": "stdout",
     "output_type": "stream",
     "text": [
      "RAM SHYAM HARI SITA GOPAL\n"
     ]
    }
   ],
   "source": [
    "a = \"Ram Shyam Hari Sita Gopal\"\n",
    "a = a.upper()\n",
    "print(a)"
   ]
  },
  {
   "cell_type": "code",
   "execution_count": 89,
   "id": "72cd5261-06c6-4ddd-b29b-087891c71d81",
   "metadata": {},
   "outputs": [
    {
     "name": "stdin",
     "output_type": "stream",
     "text": [
      "Enter name = Ram\n"
     ]
    },
    {
     "name": "stdout",
     "output_type": "stream",
     "text": [
      "Yes\n",
      "1\n"
     ]
    }
   ],
   "source": [
    "a = \"Ram Shyam Hari Sita Gopal\".lower()\n",
    "b = input(\"Enter name =\").lower()\n",
    "if b in a:\n",
    "    print(\"Yes\")\n",
    "    print(a.count(b))\n",
    "else:\n",
    "    print(\"No\")"
   ]
  },
  {
   "cell_type": "code",
   "execution_count": 95,
   "id": "045e4892-4033-4a86-a4e0-991ceec3a9c4",
   "metadata": {},
   "outputs": [
    {
     "name": "stdout",
     "output_type": "stream",
     "text": [
      "Rama Shyam Hari Sita Gopal Rama Ramaesh\n"
     ]
    }
   ],
   "source": [
    "# replace\n",
    "a = \"Ram Shyam Hari Sita Gopal Ram Ramesh\"\n",
    "a = a.replace(\"Ram\",\"Rama\")\n",
    "print(a)"
   ]
  },
  {
   "cell_type": "code",
   "execution_count": 97,
   "id": "f94e39d7-e048-4b25-b7d8-208d693f8628",
   "metadata": {},
   "outputs": [
    {
     "name": "stdout",
     "output_type": "stream",
     "text": [
      "Ram  Hari Sita Gopal Ram Ramesh\n"
     ]
    }
   ],
   "source": [
    "a = \"Ram Shyam Hari Sita Gopal Ram Ramesh\"\n",
    "a = a.replace(\"Shyam\",\"\")\n",
    "print(a)"
   ]
  },
  {
   "cell_type": "code",
   "execution_count": null,
   "id": "39a34094-adbc-4d93-80e7-9f52bea212a9",
   "metadata": {},
   "outputs": [],
   "source": []
  }
 ],
 "metadata": {
  "kernelspec": {
   "display_name": "Python [conda env:base] *",
   "language": "python",
   "name": "conda-base-py"
  },
  "language_info": {
   "codemirror_mode": {
    "name": "ipython",
    "version": 3
   },
   "file_extension": ".py",
   "mimetype": "text/x-python",
   "name": "python",
   "nbconvert_exporter": "python",
   "pygments_lexer": "ipython3",
   "version": "3.12.7"
  }
 },
 "nbformat": 4,
 "nbformat_minor": 5
}
