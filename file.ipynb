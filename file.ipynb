{
 "cells": [
  {
   "cell_type": "code",
   "execution_count": 2,
   "id": "9ddfbde7-d401-4803-916b-24a5c2993a72",
   "metadata": {},
   "outputs": [],
   "source": [
    "# File\n",
    "# f = open('<file_name>','<modes>')\n",
    "# f.close()\n",
    "\n",
    "# with open('<file_name>','<modes>') as f:\n",
    "#     <operations>\n",
    "\n",
    "# modes\n",
    "# r ->read\n",
    "# w ->write\n",
    "# a ->append\n",
    "# x ->create"
   ]
  },
  {
   "cell_type": "code",
   "execution_count": 3,
   "id": "a63cca26-c262-45c4-aceb-c6d5bd18545d",
   "metadata": {},
   "outputs": [],
   "source": [
    "f = open('data.txt','x')\n",
    "f.close()"
   ]
  },
  {
   "cell_type": "code",
   "execution_count": 5,
   "id": "24a4758c-20bc-4df5-8641-a06a5d09e481",
   "metadata": {},
   "outputs": [
    {
     "name": "stdout",
     "output_type": "stream",
     "text": [
      "1. Hello World\n",
      "2. Hello World\n",
      "3. Hello World\n",
      "4. Hello World\n",
      "5. Hello World\n"
     ]
    }
   ],
   "source": [
    "#read()\n",
    "f = open('data.txt','r')\n",
    "d = f.read()\n",
    "print(d)\n",
    "f.close()"
   ]
  },
  {
   "cell_type": "code",
   "execution_count": 7,
   "id": "4dd26510-5e9c-4c25-83ab-be51272a7b47",
   "metadata": {},
   "outputs": [
    {
     "data": {
      "text/plain": [
       "'1. Hello World\\n2. Hello World\\n3. Hello World\\n4. Hello World\\n5. Hello World'"
      ]
     },
     "execution_count": 7,
     "metadata": {},
     "output_type": "execute_result"
    }
   ],
   "source": [
    "d"
   ]
  },
  {
   "cell_type": "code",
   "execution_count": 11,
   "id": "baa81466-130a-4524-8b5a-3814223b2c27",
   "metadata": {},
   "outputs": [
    {
     "data": {
      "text/plain": [
       "['1. Hello World',\n",
       " '2. Hello World',\n",
       " '3. Hello World',\n",
       " '4. Hello World',\n",
       " '5. Hello World']"
      ]
     },
     "execution_count": 11,
     "metadata": {},
     "output_type": "execute_result"
    }
   ],
   "source": [
    "l = d.split('\\n')\n",
    "l"
   ]
  },
  {
   "cell_type": "code",
   "execution_count": 13,
   "id": "97089ddb-6060-411b-b2a9-748fa74e4802",
   "metadata": {},
   "outputs": [
    {
     "data": {
      "text/plain": [
       "'1. Hello World'"
      ]
     },
     "execution_count": 13,
     "metadata": {},
     "output_type": "execute_result"
    }
   ],
   "source": [
    "l[0]"
   ]
  },
  {
   "cell_type": "code",
   "execution_count": 21,
   "id": "513329cc-1870-4ff9-bb8e-a3ead75453d2",
   "metadata": {},
   "outputs": [],
   "source": [
    "#append()\n",
    "f = open('data.txt','a')\n",
    "d = f.write(\"\\n8. Hello World\")\n",
    "f.close()"
   ]
  },
  {
   "cell_type": "code",
   "execution_count": 23,
   "id": "dbff07a6-538e-4c69-8125-d89e83eb0cc8",
   "metadata": {},
   "outputs": [
    {
     "name": "stdout",
     "output_type": "stream",
     "text": [
      "1. Hello World\n",
      "2. Hello World\n",
      "3. Hello World\n",
      "4. Hello World\n",
      "5. Hello World\n",
      "6. Hello World\n",
      "7. Hello World\n",
      "8. Hello World\n"
     ]
    }
   ],
   "source": [
    "f = open('data.txt','r')\n",
    "d = f.read()\n",
    "print(d)\n",
    "f.close()"
   ]
  },
  {
   "cell_type": "code",
   "execution_count": 9,
   "id": "0cf59603-c192-42c4-b274-33cb93e0a29b",
   "metadata": {},
   "outputs": [],
   "source": [
    "#write()\n",
    "f = open('data1.txt','w')\n",
    "f.write(\"Hello World\")\n",
    "f.close()"
   ]
  },
  {
   "cell_type": "code",
   "execution_count": 1,
   "id": "80f8cbc0-f21a-4714-95c6-c7baba1c1dd9",
   "metadata": {},
   "outputs": [
    {
     "name": "stdin",
     "output_type": "stream",
     "text": [
      "Enter n =  3\n",
      "Enter Name =  Ram\n",
      "Enter Age =  34\n",
      "Enter Add =  Kathmandu\n",
      "Enter Phone =  9845123654\n",
      "Enter Name =  Shyam\n",
      "Enter Age =  34\n",
      "Enter Add =  Bhaktapur\n",
      "Enter Phone =  9863123654\n",
      "Enter Name =  Hari\n",
      "Enter Age =  23\n",
      "Enter Add =  Lalitpur\n",
      "Enter Phone =  9861456654\n"
     ]
    }
   ],
   "source": [
    "# WAP to take name,age,address,phone from user and add it to file\n",
    "info = \"\"\n",
    "n = int(input(\"Enter n = \"))\n",
    "for i in range(n):\n",
    "    Name = input(\"Enter Name = \")\n",
    "    Age = input(\"Enter Age = \")\n",
    "    Add = input(\"Enter Add = \")\n",
    "    Phone = input(\"Enter Phone = \")\n",
    "    data = f\"{Name} {Age} {Add} {Phone}\\n\"\n",
    "    info = info + data\n",
    "\n",
    "f = open('data1.txt','w')\n",
    "f.write(info)\n",
    "f.close()"
   ]
  },
  {
   "cell_type": "code",
   "execution_count": 3,
   "id": "c1a576af-969b-48ac-b411-c82c412706ba",
   "metadata": {},
   "outputs": [
    {
     "name": "stdout",
     "output_type": "stream",
     "text": [
      "Ram 34 Kathmandu 9845123654\n",
      "Shyam 34 Bhaktapur 9863123654\n",
      "Hari 23 Lalitpur 9861456654\n",
      "\n"
     ]
    }
   ],
   "source": [
    "f = open('data1.txt','r')\n",
    "d = f.read()\n",
    "print(d)\n",
    "f.close()"
   ]
  },
  {
   "cell_type": "code",
   "execution_count": 2,
   "id": "277fbf52-c32e-4f81-b690-ff1a2030301c",
   "metadata": {},
   "outputs": [
    {
     "name": "stdin",
     "output_type": "stream",
     "text": [
      "Enter n =  6\n",
      "Enter Name =  Ram\n",
      "Enter Age =  34\n",
      "Enter Add =  Kathmandu\n",
      "Enter Phone =  9863123654\n",
      "Enter Name =  Shyam\n",
      "Enter Age =  45\n",
      "Enter Add =  Bhaktapur\n",
      "Enter Phone =  9841845652\n",
      "Enter Name =  Hari\n",
      "Enter Age =  25\n",
      "Enter Add =  Lalitpur\n",
      "Enter Phone =  9867234565\n",
      "Enter Name =  Sita\n",
      "Enter Age =  26\n",
      "Enter Add =  Jhapa\n",
      "Enter Phone =  9852036545\n",
      "Enter Name =  Gita\n",
      "Enter Age =  28\n",
      "Enter Add =  Banepa\n",
      "Enter Phone =  9861258456\n",
      "Enter Name =  Nabin\n",
      "Enter Age =  30\n",
      "Enter Add =  Lumbini\n",
      "Enter Phone =  9808235698\n"
     ]
    }
   ],
   "source": [
    "info = \"\"\n",
    "n = int(input(\"Enter n = \"))\n",
    "for i in range(n):\n",
    "    Name = input(\"Enter Name = \")\n",
    "    Age = input(\"Enter Age = \")\n",
    "    Add = input(\"Enter Add = \")\n",
    "    Phone = input(\"Enter Phone = \")\n",
    "    data = f\"{Name},{Age},{Add},{Phone}\\n\"\n",
    "    info = info + data\n",
    "\n",
    "f = open('data.csv','w')\n",
    "f.write('Name,Age,Add,Phone\\n')\n",
    "f.write(info)\n",
    "f.close()"
   ]
  },
  {
   "cell_type": "code",
   "execution_count": 5,
   "id": "ca4998f9-5536-4f14-bc6e-6600011f9f5f",
   "metadata": {},
   "outputs": [
    {
     "data": {
      "text/plain": [
       "'C:\\\\Users\\\\acer\\\\Python class'"
      ]
     },
     "execution_count": 5,
     "metadata": {},
     "output_type": "execute_result"
    }
   ],
   "source": [
    "pwd"
   ]
  },
  {
   "cell_type": "code",
   "execution_count": 3,
   "id": "ed4b9cad-5e15-4bbf-b5d3-181ccb22f30c",
   "metadata": {},
   "outputs": [
    {
     "name": "stdin",
     "output_type": "stream",
     "text": [
      "Enter n =  2\n",
      "Enter product name =  Apple\n",
      "Enter qut =  3\n",
      "Enter price =  300\n",
      "Enter product name =  Banana\n",
      "Enter qut =  2\n",
      "Enter price =  150\n"
     ]
    },
    {
     "name": "stdout",
     "output_type": "stream",
     "text": [
      "Bill =\n",
      " Apple,300.0,3.0,900.0,Tue May 13 07:55:41 2025\n",
      "Banana,150.0,2.0,300.0,Tue May 13 07:55:41 2025\n",
      "\n",
      "All total =\n",
      " 1200.0\n"
     ]
    }
   ],
   "source": [
    "import datetime\n",
    "x = datetime.datetime.now()\n",
    "date =x.strftime(\"%c\")\n",
    "\n",
    "info = \"\"\n",
    "grand_total = 0\n",
    "n = int(input(\"Enter n = \"))\n",
    "for i in range(n):\n",
    "    product = input(\"Enter product name = \")\n",
    "    qty = float(input(\"Enter qut = \"))\n",
    "    price = float(input(\"Enter price = \"))\n",
    "    total = price * qty\n",
    "    row = f\"{product},{price},{qty},{total},{date}\\n\"\n",
    "    info = info + row\n",
    "    grand_total = grand_total +total \n",
    "\n",
    "print(\"Bill =\\n\" ,info)\n",
    "print(\"All total =\\n\" ,grand_total)"
   ]
  },
  {
   "cell_type": "code",
   "execution_count": 9,
   "id": "c888a1b4-021b-4244-ba4f-604bef03c46f",
   "metadata": {},
   "outputs": [],
   "source": [
    "f = open('bill.csv','w')\n",
    "f.write('product,price,qty,total,date\\n')\n",
    "f.write(info)\n",
    "f.close()"
   ]
  },
  {
   "cell_type": "code",
   "execution_count": 17,
   "id": "4e4d6f40-52a9-48eb-8df5-6268a1ea5529",
   "metadata": {},
   "outputs": [
    {
     "name": "stdout",
     "output_type": "stream",
     "text": [
      "product,price,qty,total,date\n",
      "Apple,300.0,3.0,900.0,Tue May 13 07:55:41 2025\n",
      "Banana,150.0,2.0,300.0,Tue May 13 07:55:41 2025\n",
      "\n"
     ]
    }
   ],
   "source": [
    "f = open('bill.csv','r')\n",
    "d = f.read()\n",
    "print(d)\n",
    "f.close()"
   ]
  },
  {
   "cell_type": "code",
   "execution_count": 19,
   "id": "a68567ba-b79a-45f0-95e2-22f75904aadb",
   "metadata": {},
   "outputs": [
    {
     "data": {
      "text/plain": [
       "['product,price,qty,total,date',\n",
       " 'Apple,300.0,3.0,900.0,Tue May 13 07:55:41 2025',\n",
       " 'Banana,150.0,2.0,300.0,Tue May 13 07:55:41 2025']"
      ]
     },
     "execution_count": 19,
     "metadata": {},
     "output_type": "execute_result"
    }
   ],
   "source": [
    "data = d.split('\\n')[0:-1]\n",
    "data"
   ]
  },
  {
   "cell_type": "code",
   "execution_count": 21,
   "id": "1d32ff7b-4d93-4cc6-aeca-1aa007c1a4df",
   "metadata": {},
   "outputs": [
    {
     "data": {
      "text/plain": [
       "[['product', 'price', 'qty', 'total', 'date'],\n",
       " ['Apple', '300.0', '3.0', '900.0', 'Tue May 13 07:55:41 2025'],\n",
       " ['Banana', '150.0', '2.0', '300.0', 'Tue May 13 07:55:41 2025']]"
      ]
     },
     "execution_count": 21,
     "metadata": {},
     "output_type": "execute_result"
    }
   ],
   "source": [
    "final_data = []\n",
    "for i in data:\n",
    "    final_data.append(i.split(','))\n",
    "\n",
    "final_data"
   ]
  },
  {
   "cell_type": "code",
   "execution_count": 25,
   "id": "00d3c122-a124-483d-b199-c1104f56998e",
   "metadata": {},
   "outputs": [
    {
     "data": {
      "text/plain": [
       "['total', '900.0', '300.0']"
      ]
     },
     "execution_count": 25,
     "metadata": {},
     "output_type": "execute_result"
    }
   ],
   "source": [
    "t = []\n",
    "for i in final_data:\n",
    "    t.append(i[3])\n",
    "\n",
    "t"
   ]
  },
  {
   "cell_type": "code",
   "execution_count": 27,
   "id": "fc735408-d78c-4776-ac2f-dda24f4cc935",
   "metadata": {},
   "outputs": [
    {
     "data": {
      "text/plain": [
       "['900.0', '300.0']"
      ]
     },
     "execution_count": 27,
     "metadata": {},
     "output_type": "execute_result"
    }
   ],
   "source": [
    "t[1:]"
   ]
  },
  {
   "cell_type": "code",
   "execution_count": 33,
   "id": "1082a1e5-a005-43b9-aacc-b8ce6a14dcc8",
   "metadata": {},
   "outputs": [
    {
     "data": {
      "text/plain": [
       "1200.0"
      ]
     },
     "execution_count": 33,
     "metadata": {},
     "output_type": "execute_result"
    }
   ],
   "source": [
    "total = sum([float(i) for i in t[1:]])\n",
    "total"
   ]
  },
  {
   "cell_type": "code",
   "execution_count": null,
   "id": "293a2a1c-6a8d-4354-a6d7-a3d3ae29e5b5",
   "metadata": {},
   "outputs": [],
   "source": []
  }
 ],
 "metadata": {
  "kernelspec": {
   "display_name": "Python [conda env:base] *",
   "language": "python",
   "name": "conda-base-py"
  },
  "language_info": {
   "codemirror_mode": {
    "name": "ipython",
    "version": 3
   },
   "file_extension": ".py",
   "mimetype": "text/x-python",
   "name": "python",
   "nbconvert_exporter": "python",
   "pygments_lexer": "ipython3",
   "version": "3.12.7"
  }
 },
 "nbformat": 4,
 "nbformat_minor": 5
}
