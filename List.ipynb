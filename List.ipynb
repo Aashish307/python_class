{
 "cells": [
  {
   "cell_type": "markdown",
   "id": "d3c8f24e-663e-4428-b726-5b359bcfed49",
   "metadata": {},
   "source": []
  },
  {
   "cell_type": "code",
   "execution_count": 1,
   "id": "7e21fef8-84d6-4ce3-8ca7-06ef3f6a35d0",
   "metadata": {},
   "outputs": [],
   "source": [
    "# Python collection\n",
    "# List\n",
    "# Tuple\n",
    "# Dict \n",
    "# Set"
   ]
  },
  {
   "cell_type": "code",
   "execution_count": 2,
   "id": "7a1c88d9-d2de-43e4-ae2b-b091c3669bc6",
   "metadata": {},
   "outputs": [],
   "source": [
    "# # List\n",
    "# - Indexing\n",
    "# - Ordered\n",
    "# - Multiple and Duplicate data\n",
    "# - Mutable"
   ]
  },
  {
   "cell_type": "code",
   "execution_count": 3,
   "id": "357d7636-c51d-4d18-83ac-98af9ad1fc86",
   "metadata": {},
   "outputs": [
    {
     "name": "stdout",
     "output_type": "stream",
     "text": [
      "['Apple', 'Ball', 'Cat', 'Apple']\n",
      "[1, 2, 3, 4, 5, 6, 7, 8, 9]\n",
      "<class 'list'>\n"
     ]
    }
   ],
   "source": [
    "l = [\"Apple\",\"Ball\",\"Cat\",\"Apple\"]\n",
    "a = [1,2,3,4,5,6,7,8,9]\n",
    "print(l)\n",
    "print(a)\n",
    "print(type(a))"
   ]
  },
  {
   "cell_type": "code",
   "execution_count": 4,
   "id": "d8827349-bf1e-4b0e-87bb-6c76b76bedb2",
   "metadata": {},
   "outputs": [
    {
     "name": "stdout",
     "output_type": "stream",
     "text": [
      "Apple\n",
      "['Apple', 'Ball']\n",
      "['Apple', 'Cat', 1, 3, True]\n"
     ]
    }
   ],
   "source": [
    "# Indexing and slicing\n",
    "l = [\"Apple\",\"Ball\",\"Cat\",\"Apple\",1,2,3,10.5,True]\n",
    "print(l[0])\n",
    "print(l[0:2])\n",
    "print(l[0:10:2])"
   ]
  },
  {
   "cell_type": "code",
   "execution_count": 5,
   "id": "0e88c126-cdad-41a3-ac1e-213008084b0e",
   "metadata": {},
   "outputs": [
    {
     "name": "stdout",
     "output_type": "stream",
     "text": [
      "Apple\n",
      "Ball\n",
      "Cat\n",
      "Apple\n"
     ]
    }
   ],
   "source": [
    "l = [\"Apple\",\"Ball\",\"Cat\",\"Apple\"]\n",
    "for i in l:\n",
    "    print(i)\n"
   ]
  },
  {
   "cell_type": "code",
   "execution_count": 20,
   "id": "529d0097-1822-402e-8360-81523939f6e7",
   "metadata": {},
   "outputs": [
    {
     "name": "stdout",
     "output_type": "stream",
     "text": [
      "Apple\n",
      "Ball\n",
      "Cat\n",
      "Apple\n"
     ]
    }
   ],
   "source": [
    "# range()\n",
    "l = [\"Apple\",\"Ball\",\"Cat\",\"Apple\"]\n",
    "for i in range(len(l)):\n",
    "    print(l[i])"
   ]
  },
  {
   "cell_type": "code",
   "execution_count": 22,
   "id": "4b1e3448-991c-4c38-b84d-2ffff1095950",
   "metadata": {},
   "outputs": [
    {
     "name": "stdin",
     "output_type": "stream",
     "text": [
      "Enter n =  10\n",
      "Enter x =  258\n",
      "Enter x =  256\n",
      "Enter x =  86\n",
      "Enter x =  78\n",
      "Enter x =  35\n",
      "Enter x =  236\n",
      "Enter x =  453\n",
      "Enter x =  653\n",
      "Enter x =  213\n",
      "Enter x =  225\n"
     ]
    },
    {
     "name": "stdout",
     "output_type": "stream",
     "text": [
      "[258, 256, 86, 78, 35, 236, 453, 653, 213, 225]\n"
     ]
    }
   ],
   "source": [
    "## append() insert() extend()\n",
    "# WAP to take values from user and add it into list\n",
    "# l = list()\n",
    "l = []\n",
    "n = int(input(\"Enter n = \"))\n",
    "for i in range(n):\n",
    "    x = int(input(\"Enter x = \"))\n",
    "    l.append(x)\n",
    "\n",
    "print(l)"
   ]
  },
  {
   "cell_type": "code",
   "execution_count": 24,
   "id": "656580e7-20ed-4401-a513-f03711bfb2ef",
   "metadata": {
    "scrolled": true
   },
   "outputs": [
    {
     "name": "stdout",
     "output_type": "stream",
     "text": [
      "The sum of the values = 2493\n",
      "The min value =  35\n",
      "The max value =  653\n",
      "The max value =  249.3\n",
      "[35, 78, 86, 213, 225, 236, 256, 258, 453, 653]\n",
      "[653, 453, 258, 256, 236, 225, 213, 86, 78, 35]\n"
     ]
    }
   ],
   "source": [
    "print(\"The sum of the values =\",sum(l))\n",
    "print(\"The min value = \",min(l))\n",
    "print(\"The max value = \",max(l))\n",
    "print(\"The max value = \",sum(l)/len(l))\n",
    "l.sort()\n",
    "print(l)\n",
    "l.reverse()\n",
    "print(l)"
   ]
  },
  {
   "cell_type": "code",
   "execution_count": 18,
   "id": "74c60f8e-1a4c-43bb-b32a-559a061ebbe1",
   "metadata": {},
   "outputs": [
    {
     "name": "stdout",
     "output_type": "stream",
     "text": [
      "['Ant', 'Apple', 'Ball', 'Cat', 'Xray', 'banna']\n"
     ]
    }
   ],
   "source": [
    "a = [\"Ball\",\"Cat\",\"Apple\",\"Ant\",\"banna\",\"Xray\"]\n",
    "a.sort()\n",
    "print(a)"
   ]
  },
  {
   "cell_type": "code",
   "execution_count": 28,
   "id": "cced74b7-a661-444f-b34b-b434e26e5928",
   "metadata": {},
   "outputs": [
    {
     "name": "stdout",
     "output_type": "stream",
     "text": [
      "[678, 657, 345, 243, 213, 213, 56, 43, 23, 8]\n"
     ]
    }
   ],
   "source": [
    "l = [213, 345, 23, 657, 43, 678, 213, 56, 8, 243]\n",
    "l.sort(reverse = True)\n",
    "print(l)"
   ]
  },
  {
   "cell_type": "code",
   "execution_count": 36,
   "id": "4de94b7d-553d-4746-841b-8ed4d2850a4f",
   "metadata": {},
   "outputs": [
    {
     "name": "stdout",
     "output_type": "stream",
     "text": [
      "['Ball', 'Cat', 'Apple', 'Ant', 'banna', 'Xray', 'Fish']\n"
     ]
    }
   ],
   "source": [
    "# append\n",
    "a = [\"Ball\",\"Cat\",\"Apple\",\"Ant\",\"banna\",\"Xray\"]\n",
    "a.append(\"Fish\")\n",
    "print(a)"
   ]
  },
  {
   "cell_type": "code",
   "execution_count": 38,
   "id": "058ef4b1-ba90-4534-b902-2fa95d2c9471",
   "metadata": {},
   "outputs": [
    {
     "name": "stdout",
     "output_type": "stream",
     "text": [
      "['Ball', 'Fish', 'Cat', 'Apple', 'Ant', 'banna', 'Xray']\n"
     ]
    }
   ],
   "source": [
    "# insert()\n",
    "a = [\"Ball\",\"Cat\",\"Apple\",\"Ant\",\"banna\",\"Xray\"]\n",
    "a.insert(1,\"Fish\")\n",
    "print(a)"
   ]
  },
  {
   "cell_type": "code",
   "execution_count": 42,
   "id": "21548513-6025-4dd7-89a4-ba480af68cee",
   "metadata": {},
   "outputs": [
    {
     "name": "stdout",
     "output_type": "stream",
     "text": [
      "['Ball', 'Cat', 'Apple', 'Ant', 'banna', 'Xray', 1, 2, 3, 4, 5]\n"
     ]
    }
   ],
   "source": [
    "# extend()\n",
    "a = [\"Ball\",\"Cat\",\"Apple\",\"Ant\",\"banna\",\"Xray\"]\n",
    "b = [1,2,3,4,5]\n",
    "a.extend(b)\n",
    "print(a)"
   ]
  },
  {
   "cell_type": "code",
   "execution_count": 46,
   "id": "43b84ea4-bda3-4d28-9ff5-812f7168d3e1",
   "metadata": {},
   "outputs": [
    {
     "name": "stdout",
     "output_type": "stream",
     "text": [
      "['Ball', 'Cat', 'Apple', 'Ant', 'banna', 'Xray', 1, 2, 3, 4, 5]\n"
     ]
    }
   ],
   "source": [
    "# concat\n",
    "a = [\"Ball\",\"Cat\",\"Apple\",\"Ant\",\"banna\",\"Xray\"]\n",
    "b = [1,2,3,4,5]\n",
    "a = a+b\n",
    "print(a)"
   ]
  },
  {
   "cell_type": "code",
   "execution_count": null,
   "id": "e3cf9b01-6264-492d-8e27-ac35cbdcc900",
   "metadata": {},
   "outputs": [],
   "source": [
    "# CRUD"
   ]
  },
  {
   "cell_type": "code",
   "execution_count": 48,
   "id": "eff22f18-39f1-4381-ab50-f15643c4f3a6",
   "metadata": {},
   "outputs": [
    {
     "name": "stdout",
     "output_type": "stream",
     "text": [
      "['ball', 'Cat', 'Apple', 'Ant', 'banna', 'Xray']\n"
     ]
    }
   ],
   "source": [
    "# Update or Edit\n",
    "a = [\"Ball\",\"Cat\",\"Apple\",\"Ant\",\"banna\",\"Xray\"]\n",
    "a[0] = \"ball\"\n",
    "print(a)"
   ]
  },
  {
   "cell_type": "code",
   "execution_count": 50,
   "id": "5c1f6520-78b1-4069-a29b-5a52b3410782",
   "metadata": {},
   "outputs": [
    {
     "name": "stdout",
     "output_type": "stream",
     "text": [
      "['ball', 'cat', 'Apple', 'Ant', 'banna', 'Xray']\n"
     ]
    }
   ],
   "source": [
    "a[0:2] = [\"ball\",\"cat\"]\n",
    "print(a)"
   ]
  },
  {
   "cell_type": "code",
   "execution_count": 58,
   "id": "43f06d54-54c5-4e55-9468-e66b2c666262",
   "metadata": {},
   "outputs": [
    {
     "name": "stdout",
     "output_type": "stream",
     "text": [
      "['apple', 'Apple', 'Ant', 'banna', 'Xray']\n"
     ]
    }
   ],
   "source": [
    "a = [\"Ball\",\"Cat\", \"Apple\",\"Ant\",\"banna\",\"Xray\"]\n",
    "a[0:2] = [\"apple\"]\n",
    "print(a)"
   ]
  },
  {
   "cell_type": "code",
   "execution_count": 1,
   "id": "1a531e65-19cb-4bcd-aa8c-3fc98f00be44",
   "metadata": {},
   "outputs": [],
   "source": [
    "# Delete\n",
    "# del remove() pop()"
   ]
  },
  {
   "cell_type": "code",
   "execution_count": 3,
   "id": "032e4c23-069c-4735-8169-551c3b367485",
   "metadata": {},
   "outputs": [
    {
     "name": "stdout",
     "output_type": "stream",
     "text": [
      "['Cat', 'Apple', 'Ant', 'banna', 'Xray']\n"
     ]
    }
   ],
   "source": [
    "# del\n",
    "a = [\"Ball\",\"Cat\", \"Apple\",\"Ant\",\"banna\",\"Xray\"]\n",
    "del a[0]\n",
    "print(a)"
   ]
  },
  {
   "cell_type": "code",
   "execution_count": 5,
   "id": "da8fa4bb-a685-4b38-bdec-d5c4389751fd",
   "metadata": {},
   "outputs": [
    {
     "name": "stdout",
     "output_type": "stream",
     "text": [
      "['Ant', 'banna', 'Xray']\n"
     ]
    }
   ],
   "source": [
    "a = [\"Ball\",\"Cat\", \"Apple\",\"Ant\",\"banna\",\"Xray\"]\n",
    "del a[0:3]\n",
    "print(a)"
   ]
  },
  {
   "cell_type": "code",
   "execution_count": 7,
   "id": "156ac149-a145-4df2-93bc-d7936033e0c4",
   "metadata": {},
   "outputs": [
    {
     "name": "stdout",
     "output_type": "stream",
     "text": [
      "['Cat', 'Apple', 'Ant', 'banna', 'Xray']\n"
     ]
    }
   ],
   "source": [
    "# remove()\n",
    "a = [\"Ball\",\"Cat\", \"Apple\",\"Ant\",\"banna\",\"Xray\"]\n",
    "a.remove(\"Ball\")\n",
    "print(a)"
   ]
  },
  {
   "cell_type": "code",
   "execution_count": 9,
   "id": "62132a96-41f2-4096-8f3e-55c1c028d0a6",
   "metadata": {},
   "outputs": [
    {
     "name": "stdout",
     "output_type": "stream",
     "text": [
      "['Cat', 'Apple', 'Ant', 'banna', 'Xray']\n"
     ]
    }
   ],
   "source": [
    "a = [\"Ball\",\"Cat\", \"Apple\",\"Ball\",\"Ant\",\"banna\",\"Xray\",\"Ball\"]\n",
    "c = a.count(\"Ball\")\n",
    "for i in range(c):\n",
    "    a.remove(\"Ball\")\n",
    "    \n",
    "print(a)"
   ]
  },
  {
   "cell_type": "code",
   "execution_count": 11,
   "id": "1a314ad5-9ce4-4792-9f10-83f2595689c6",
   "metadata": {},
   "outputs": [
    {
     "data": {
      "text/plain": [
       "0"
      ]
     },
     "execution_count": 11,
     "metadata": {},
     "output_type": "execute_result"
    }
   ],
   "source": [
    "# index()\n",
    "a = [\"Ball\",\"Cat\", \"Apple\",\"Ball\",\"Ant\",\"banna\",\"Xray\",\"Ball\"]\n",
    "a.index(\"Ball\")"
   ]
  },
  {
   "cell_type": "code",
   "execution_count": 15,
   "id": "6ed4e74e-b548-492d-ad2e-dadda52b2283",
   "metadata": {},
   "outputs": [
    {
     "name": "stdout",
     "output_type": "stream",
     "text": [
      "0\n",
      "3\n",
      "7\n"
     ]
    }
   ],
   "source": [
    "a = [\"Ball\",\"Cat\", \"Apple\",\"Ball\",\"Ant\",\"banna\",\"Xray\",\"Ball\"]\n",
    "l = len(a)\n",
    "for i in range(l):\n",
    "    if a[i] == \"Ball\":\n",
    "        print(i)"
   ]
  },
  {
   "cell_type": "code",
   "execution_count": 17,
   "id": "8c9baed6-4470-4a54-8877-f27ea0db19db",
   "metadata": {},
   "outputs": [
    {
     "name": "stdout",
     "output_type": "stream",
     "text": [
      "['Cat', 'Apple', 'Ball', 'Ant', 'banna', 'Xray', 'Ball']\n"
     ]
    }
   ],
   "source": [
    "a = [\"Ball\",\"Cat\", \"Apple\",\"Ball\",\"Ant\",\"banna\",\"Xray\",\"Ball\"]\n",
    "del a[0]\n",
    "print(a)"
   ]
  },
  {
   "cell_type": "code",
   "execution_count": 19,
   "id": "5bb5c52d-9ffa-4684-9115-cccd641d62d9",
   "metadata": {},
   "outputs": [
    {
     "name": "stdout",
     "output_type": "stream",
     "text": [
      "['Ball', 'Apple', 'Ball', 'Ant', 'banna', 'Xray', 'Ball']\n",
      "Cat\n"
     ]
    }
   ],
   "source": [
    "# pop()\n",
    "a = [\"Ball\",\"Cat\", \"Apple\",\"Ball\",\"Ant\",\"banna\",\"Xray\",\"Ball\"]\n",
    "b = a.pop(1)\n",
    "print(a)\n",
    "print(b)"
   ]
  },
  {
   "cell_type": "code",
   "execution_count": 21,
   "id": "18cc283b-7ed6-40e7-bbb1-74b6b80f3d88",
   "metadata": {},
   "outputs": [
    {
     "name": "stdout",
     "output_type": "stream",
     "text": [
      "Yes\n",
      "3\n"
     ]
    }
   ],
   "source": [
    "# search\n",
    "a = [\"Ball\",\"Cat\", \"Apple\",\"Ball\",\"Ant\",\"banna\",\"Xray\",\"Ball\"]\n",
    "if \"Ball\" in a:\n",
    "    print(\"Yes\")\n",
    "    print(a.count(\"Ball\"))\n",
    "else:\n",
    "    print(\"No\")"
   ]
  },
  {
   "cell_type": "code",
   "execution_count": 23,
   "id": "47b26421-60e0-426e-a2b6-f556c34507a2",
   "metadata": {},
   "outputs": [
    {
     "name": "stdout",
     "output_type": "stream",
     "text": [
      "['Cat', 'Apple', 'Ball', 'Ant', 'banna', 'Xray']\n"
     ]
    }
   ],
   "source": [
    "a = [\"Ball\",\"Cat\", \"Apple\",\"Ball\",\"Ant\",\"banna\",\"Xray\",\"Ball\"]\n",
    "del a[0]\n",
    "del a[6]\n",
    "print(a)"
   ]
  },
  {
   "cell_type": "code",
   "execution_count": 25,
   "id": "37c90af3-181d-4361-8963-80f4a48c9c86",
   "metadata": {},
   "outputs": [],
   "source": [
    "# list inside list (nested list)"
   ]
  },
  {
   "cell_type": "code",
   "execution_count": 33,
   "id": "5c7f8899-0918-4f1e-a2d6-96f1cb3635b0",
   "metadata": {},
   "outputs": [
    {
     "name": "stdout",
     "output_type": "stream",
     "text": [
      "[[1, 2, 3], [4, 5, 6], [7, 8, 9]]\n"
     ]
    }
   ],
   "source": [
    "a = [[1,2,3],\n",
    "     [4,5,6],\n",
    "     [7,8,9]]\n",
    "print(a)"
   ]
  },
  {
   "cell_type": "code",
   "execution_count": 31,
   "id": "2b515b58-878a-4b50-850f-f5fddee9159a",
   "metadata": {},
   "outputs": [
    {
     "name": "stdout",
     "output_type": "stream",
     "text": [
      "[7, 8, 9]\n"
     ]
    }
   ],
   "source": [
    "print(a[2])"
   ]
  },
  {
   "cell_type": "code",
   "execution_count": 43,
   "id": "afa3662d-48a3-410f-9277-43e3d4715c7c",
   "metadata": {},
   "outputs": [
    {
     "name": "stdout",
     "output_type": "stream",
     "text": [
      "1\n"
     ]
    }
   ],
   "source": [
    "print(a[0][0])"
   ]
  },
  {
   "cell_type": "code",
   "execution_count": 55,
   "id": "84685f59-69ba-48da-afa3-2eb32259e9be",
   "metadata": {},
   "outputs": [
    {
     "name": "stdin",
     "output_type": "stream",
     "text": [
      "Enter n =  3\n",
      "Enter Name = Ram\n",
      "Enter Age = 56\n",
      "Enter Address = Kathmandu\n",
      "Enter Name = Shyam\n",
      "Enter Age = 45\n",
      "Enter Address = Bhaktapur\n",
      "Enter Name = Hari\n",
      "Enter Age = 56\n",
      "Enter Address = Lalitpur\n"
     ]
    },
    {
     "name": "stdout",
     "output_type": "stream",
     "text": [
      "[['Ram', 56, 'Kathmandu'], ['Shyam', 45, 'Bhaktapur'], ['Hari', 56, 'Lalitpur']]\n"
     ]
    }
   ],
   "source": [
    "# a = [['Ram',34,\"Kathmandu\"],\n",
    "#      ['Shyam',56,\"Bhaktapur\"]\n",
    "#      [\"Hari\",56,\"Lalitpur\"]]\n",
    "\n",
    "l = []\n",
    "n =int(input(\"Enter n = \"))\n",
    "for i in range(n):\n",
    "    Name = input(\"Enter Name =\")\n",
    "    Age = int(input(\"Enter Age =\"))\n",
    "    Address = input(\"Enter Address =\")\n",
    "    l.append([Name,Age,Address])\n",
    "\n",
    "print(l)"
   ]
  },
  {
   "cell_type": "code",
   "execution_count": 65,
   "id": "80899796-6df6-489a-baa0-45057735e173",
   "metadata": {},
   "outputs": [
    {
     "name": "stdin",
     "output_type": "stream",
     "text": [
      "Enter name =  Ram\n"
     ]
    },
    {
     "name": "stdout",
     "output_type": "stream",
     "text": [
      "['Ram', 56, 'Kathmandu']\n"
     ]
    }
   ],
   "source": [
    "# Search\n",
    "Name = input(\"Enter name = \")\n",
    "for i in l:\n",
    "    if \"Ram\" in i:\n",
    "      print(i)"
   ]
  },
  {
   "cell_type": "code",
   "execution_count": 67,
   "id": "b730e6c5-dfe5-40c0-99e5-f178cdc5d37f",
   "metadata": {},
   "outputs": [],
   "source": [
    "# WAP to search if the given name record is in the list"
   ]
  },
  {
   "cell_type": "code",
   "execution_count": 71,
   "id": "fa68073f-2ebe-4a04-98d6-b8d4c7e755b1",
   "metadata": {},
   "outputs": [
    {
     "name": "stdout",
     "output_type": "stream",
     "text": [
      "[['Ram', 45, 'Kathmandu'], ['Shyam', 23, 'Bhaktapur'], ['Hari', 56, 'Lalitpur'], ['Sita', 34, 'Jhapa']]\n"
     ]
    }
   ],
   "source": [
    "l = [['Ram', 45, 'Kathmandu'], ['Shyam', 23, 'Bhaktapur'], ['Hari', 56, 'Lalitpur']]\n",
    "a = [['Sita', 34,\"Jhapa\"]]\n",
    "c=l+a\n",
    "print(c)"
   ]
  },
  {
   "cell_type": "code",
   "execution_count": 81,
   "id": "dc5cbc22-268d-4c51-9747-37127746706a",
   "metadata": {},
   "outputs": [
    {
     "data": {
      "text/plain": [
       "[['Ram Prasad', 45, 'Kathmandu'],\n",
       " ['Shyam', 23, 'Bhaktapur'],\n",
       " ['Hari', 56, 'Lalitpur']]"
      ]
     },
     "execution_count": 81,
     "metadata": {},
     "output_type": "execute_result"
    }
   ],
   "source": [
    "# Update\n",
    "l = [['Ram', 45, 'Kathmandu'], ['Shyam', 23, 'Bhaktapur'], ['Hari', 56, 'Lalitpur']]\n",
    "l[0][0] =\"Ram Prasad\"\n",
    "l"
   ]
  },
  {
   "cell_type": "code",
   "execution_count": 87,
   "id": "eefcde6b-fe2e-43ef-8a15-b2eee849ad08",
   "metadata": {},
   "outputs": [
    {
     "name": "stdout",
     "output_type": "stream",
     "text": [
      "[['Ram', 45, 'Kathmandu,Nepal'], ['Shyam', 23, 'Bhaktapur,Nepal'], ['Hari', 56, 'Lalitpur,Nepal']]\n"
     ]
    }
   ],
   "source": [
    "# l = [['Ram', 45, 'Kathmandu,Nepal'], ['Shyam', 23, 'Bhaktapur,Nepal'], ['Hari', 56, 'Lalitpur,Nepal']]\n",
    "l = [['Ram', 45, 'Kathmandu'], ['Shyam', 23, 'Bhaktapur'], ['Hari', 56, 'Lalitpur']]\n",
    "for i in l:\n",
    "    i [2 ]= f\"{i[2]},Nepal\"\n",
    "\n",
    "print(l)"
   ]
  },
  {
   "cell_type": "code",
   "execution_count": 91,
   "id": "accca073-3998-41f1-9102-528ee3314559",
   "metadata": {},
   "outputs": [
    {
     "data": {
      "text/plain": [
       "[['Shyam', 23, 'Bhaktapur,Nepal'], ['Hari', 56, 'Lalitpur,Nepal']]"
      ]
     },
     "execution_count": 91,
     "metadata": {},
     "output_type": "execute_result"
    }
   ],
   "source": [
    "# delete\n",
    "# del remove() pop()\n",
    "l = [['Ram', 45, 'Kathmandu,Nepal'], ['Shyam', 23, 'Bhaktapur,Nepal'], ['Hari', 56, 'Lalitpur,Nepal']]\n",
    "del l[0]\n",
    "l"
   ]
  },
  {
   "cell_type": "code",
   "execution_count": 93,
   "id": "d43fe79f-bcbd-494a-99a1-0d451f13b37a",
   "metadata": {},
   "outputs": [
    {
     "data": {
      "text/plain": [
       "[['Shyam', 23, 'Bhaktapur,Nepal'], ['Hari', 56, 'Lalitpur,Nepal']]"
      ]
     },
     "execution_count": 93,
     "metadata": {},
     "output_type": "execute_result"
    }
   ],
   "source": [
    "l = [['Ram', 45, 'Kathmandu,Nepal'], ['Shyam', 23, 'Bhaktapur,Nepal'], ['Hari', 56, 'Lalitpur,Nepal']]\n",
    "l.remove(['Ram', 45, 'Kathmandu,Nepal'])\n",
    "l"
   ]
  },
  {
   "cell_type": "code",
   "execution_count": 99,
   "id": "e4229e0e-48bf-492e-a0af-8fd1eaa8b548",
   "metadata": {},
   "outputs": [
    {
     "name": "stdout",
     "output_type": "stream",
     "text": [
      "[['Ram', 45, 'Kathmandu,Nepal'], ['Hari', 56, 'Lalitpur,Nepal']]\n"
     ]
    }
   ],
   "source": [
    "l = [['Ram', 45, 'Kathmandu,Nepal'], ['Shyam', 23, 'Bhaktapur,Nepal'], ['Hari', 56, 'Lalitpur,Nepal']]\n",
    "l.pop(1)\n",
    "print(l)"
   ]
  },
  {
   "cell_type": "code",
   "execution_count": null,
   "id": "e43ac0e6-3456-44c2-8f4a-c29f73789636",
   "metadata": {},
   "outputs": [],
   "source": []
  }
 ],
 "metadata": {
  "kernelspec": {
   "display_name": "Python [conda env:base] *",
   "language": "python",
   "name": "conda-base-py"
  },
  "language_info": {
   "codemirror_mode": {
    "name": "ipython",
    "version": 3
   },
   "file_extension": ".py",
   "mimetype": "text/x-python",
   "name": "python",
   "nbconvert_exporter": "python",
   "pygments_lexer": "ipython3",
   "version": "3.12.7"
  }
 },
 "nbformat": 4,
 "nbformat_minor": 5
}
