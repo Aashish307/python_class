{
 "cells": [
  {
   "cell_type": "code",
   "execution_count": 3,
   "id": "b330efed-d884-4daa-9630-ad09ca20e17a",
   "metadata": {},
   "outputs": [],
   "source": [
    "#if <condition>:\n",
    "#    <operation>\n",
    "#elif <condition>:\n",
    "#    <operations>\n",
    "#else:\n",
    "#    <operations>"
   ]
  },
  {
   "cell_type": "code",
   "execution_count": 5,
   "id": "fd0d0a6c-5078-4d3f-9fd8-105efa32e31e",
   "metadata": {},
   "outputs": [],
   "source": [
    "# > < >= <= == |="
   ]
  },
  {
   "cell_type": "code",
   "execution_count": 13,
   "id": "87390318-0164-4e12-af27-4a1809d0b056",
   "metadata": {},
   "outputs": [
    {
     "name": "stdout",
     "output_type": "stream",
     "text": [
      "True\n"
     ]
    }
   ],
   "source": [
    "a = 10\n",
    "b = 3\n",
    "print(a>b)"
   ]
  },
  {
   "cell_type": "code",
   "execution_count": 19,
   "id": "0be03014-d225-4ab6-9fd3-5b2ca5cff7f5",
   "metadata": {},
   "outputs": [
    {
     "data": {
      "text/plain": [
       "True"
      ]
     },
     "execution_count": 19,
     "metadata": {},
     "output_type": "execute_result"
    }
   ],
   "source": [
    "11%2 != 0"
   ]
  },
  {
   "cell_type": "code",
   "execution_count": 21,
   "id": "6a396f97-f317-4df8-9c55-0e41c1232310",
   "metadata": {},
   "outputs": [
    {
     "name": "stdin",
     "output_type": "stream",
     "text": [
      "Enter x =  11\n"
     ]
    },
    {
     "name": "stdout",
     "output_type": "stream",
     "text": [
      "The no is odd\n"
     ]
    }
   ],
   "source": [
    "x = int(input(\"Enter x = \"))\n",
    "if x % 2 == 0:\n",
    "    print(\"The no is even\")\n",
    "else:\n",
    "    print(\"The no is odd\")"
   ]
  },
  {
   "cell_type": "code",
   "execution_count": 29,
   "id": "c706b30e-e118-403b-8a27-5e02338eb56a",
   "metadata": {},
   "outputs": [
    {
     "name": "stdin",
     "output_type": "stream",
     "text": [
      "Enter x =  10\n"
     ]
    },
    {
     "name": "stdout",
     "output_type": "stream",
     "text": [
      "The no is +ve\n"
     ]
    }
   ],
   "source": [
    "x = int(input(\"Enter x = \"))\n",
    "if x >= 0:\n",
    "    print(\"The no is +ve\")\n",
    "else:\n",
    "    print(\"The no is -ve\")"
   ]
  },
  {
   "cell_type": "code",
   "execution_count": 35,
   "id": "cade41a8-9058-49c4-b456-87eb1d37f2d4",
   "metadata": {},
   "outputs": [
    {
     "name": "stdin",
     "output_type": "stream",
     "text": [
      "Enter a =  10\n",
      "Enter b =  15\n"
     ]
    },
    {
     "name": "stdout",
     "output_type": "stream",
     "text": [
      "b is greather than a\n"
     ]
    }
   ],
   "source": [
    "a = int(input(\"Enter a = \"))\n",
    "b = int(input(\"Enter b = \"))\n",
    "if a>b:\n",
    "    print(\"a is greater than b\")\n",
    "elif b>a:\n",
    "    print(\"b is greather than a\")\n",
    "else:\n",
    "    print(\"Both are equal\")"
   ]
  },
  {
   "cell_type": "code",
   "execution_count": 39,
   "id": "be31b1ce-e803-4ad0-a21e-360dc84e3542",
   "metadata": {},
   "outputs": [
    {
     "name": "stdin",
     "output_type": "stream",
     "text": [
      "Enter a =  10\n",
      "Enter b =  3\n",
      "Enter  + or - or * or /  /\n"
     ]
    },
    {
     "name": "stdout",
     "output_type": "stream",
     "text": [
      "3.3333333333333335\n"
     ]
    }
   ],
   "source": [
    "# WAP to create a basic calculator\n",
    "a = int(input(\"Enter a = \"))\n",
    "b = int(input(\"Enter b = \"))\n",
    "o = input(\"Enter  + or - or * or / \")\n",
    "if o == '-':\n",
    "    print(a*b)\n",
    "elif o == '*':\n",
    "    print(a*b)\n",
    "elif o == '/':\n",
    "    print(a/b)\n",
    "else:\n",
    "    print(\"Invalid operator\")"
   ]
  },
  {
   "cell_type": "code",
   "execution_count": 14,
   "id": "df250a41-b91d-4637-9cd0-2b40d9d99918",
   "metadata": {},
   "outputs": [
    {
     "name": "stdin",
     "output_type": "stream",
     "text": [
      "Enter physics marks =  89\n",
      " Enter chemistry marks =  78\n",
      " Enter math marks =  90\n",
      " Enter english marks = 65\n",
      " Enter nepali marks = 85\n"
     ]
    },
    {
     "name": "stdout",
     "output_type": "stream",
     "text": [
      " the total marks 407\n",
      "Percentage 81.4\n",
      "Grade A\n"
     ]
    }
   ],
   "source": [
    "physics = int(input(\"Enter physics marks = \"))\n",
    "chemistry = int(input( \" Enter chemistry marks = \"))\n",
    "math = int(input(\" Enter math marks = \"))\n",
    "english = int(input(\" Enter english marks =\"))\n",
    "nepali = int(input(\" Enter nepali marks =\"))\n",
    "\n",
    "total = physics + chemistry + math + english + nepali\n",
    "\n",
    "per = total/5\n",
    "if per >= 80:\n",
    "    grade =\"A\"\n",
    "elif per >= 60:\n",
    "    grade =\"B\"\n",
    "elif per >= 45:\n",
    "    grade =\"C\"\n",
    "else:\n",
    "    grade =\"F\"\n",
    "    \n",
    "print(\" the total marks\" , total)\n",
    "print(\"Percentage\", per)\n",
    "print(\"Grade\", grade)"
   ]
  },
  {
   "cell_type": "code",
   "execution_count": 1,
   "id": "2871b7e2-ab91-4a19-9180-97acb21b9346",
   "metadata": {},
   "outputs": [
    {
     "name": "stdin",
     "output_type": "stream",
     "text": [
      "Enter number of entries =  2\n",
      "Enter money =  1000\n"
     ]
    },
    {
     "name": "stdout",
     "output_type": "stream",
     "text": [
      "1000\n"
     ]
    },
    {
     "name": "stdin",
     "output_type": "stream",
     "text": [
      "Enter money =  2000\n"
     ]
    },
    {
     "name": "stdout",
     "output_type": "stream",
     "text": [
      "3000\n"
     ]
    }
   ],
   "source": [
    "S = 0 \n",
    "n = int(input(\"Enter number of entries = \"))\n",
    "for i in range(n):\n",
    "    m = int(input(\"Enter money = \"))\n",
    "    S += m\n",
    "    print (S)"
   ]
  },
  {
   "cell_type": "code",
   "execution_count": 6,
   "id": "18c18982-e8ee-4446-aff1-899d0a254b3d",
   "metadata": {},
   "outputs": [
    {
     "name": "stdin",
     "output_type": "stream",
     "text": [
      "Enter number of entries =  2\n",
      "Enter Money =  1000\n"
     ]
    },
    {
     "name": "stdout",
     "output_type": "stream",
     "text": [
      "1000.0\n"
     ]
    },
    {
     "name": "stdin",
     "output_type": "stream",
     "text": [
      "Enter Money =  2000\n"
     ]
    },
    {
     "name": "stdout",
     "output_type": "stream",
     "text": [
      "3100.0\n"
     ]
    }
   ],
   "source": [
    "s = 0\n",
    "n = int(input(\"Enter number of entries = \"))\n",
    "for i in range(n):\n",
    "    m = int(input(\"Enter Money = \"))\n",
    "    s = s*1.1 + m\n",
    "    print(s)"
   ]
  },
  {
   "cell_type": "code",
   "execution_count": 8,
   "id": "ef6fe2c3-5b3f-48f6-9f12-e37efb9f669e",
   "metadata": {},
   "outputs": [
    {
     "name": "stdin",
     "output_type": "stream",
     "text": [
      "Enter number of entries =  2\n",
      "Enter Money =  1000\n"
     ]
    },
    {
     "name": "stdout",
     "output_type": "stream",
     "text": [
      "1100.0\n"
     ]
    },
    {
     "name": "stdin",
     "output_type": "stream",
     "text": [
      "Enter Money =  2000\n"
     ]
    },
    {
     "name": "stdout",
     "output_type": "stream",
     "text": [
      "3410.0000000000005\n"
     ]
    }
   ],
   "source": [
    "s = 0\n",
    "n = int(input(\"Enter number of entries = \"))\n",
    "for i in range(n):\n",
    "    m = int(input(\"Enter Money = \"))\n",
    "    s = s + m\n",
    "    s = s*1.1\n",
    "    print(s)"
   ]
  },
  {
   "cell_type": "code",
   "execution_count": null,
   "id": "74ba11d2-1953-415e-90df-4647f6d6e067",
   "metadata": {},
   "outputs": [],
   "source": []
  }
 ],
 "metadata": {
  "kernelspec": {
   "display_name": "Python [conda env:base] *",
   "language": "python",
   "name": "conda-base-py"
  },
  "language_info": {
   "codemirror_mode": {
    "name": "ipython",
    "version": 3
   },
   "file_extension": ".py",
   "mimetype": "text/x-python",
   "name": "python",
   "nbconvert_exporter": "python",
   "pygments_lexer": "ipython3",
   "version": "3.12.7"
  }
 },
 "nbformat": 4,
 "nbformat_minor": 5
}
