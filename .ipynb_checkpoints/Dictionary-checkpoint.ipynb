{
 "cells": [
  {
   "cell_type": "code",
   "execution_count": 1,
   "id": "1aa48b5c-4868-49c6-9c65-0b9cb9059175",
   "metadata": {},
   "outputs": [],
   "source": [
    "# Dictionary\n",
    "# -indexing\n",
    "# -Multiple and Duplicate values\n",
    "# ordered \n",
    "# mutable"
   ]
  },
  {
   "cell_type": "code",
   "execution_count": 3,
   "id": "59f1052d-bc51-4f1b-aaa4-42b93bd07fff",
   "metadata": {},
   "outputs": [],
   "source": [
    "d = dict()"
   ]
  },
  {
   "cell_type": "code",
   "execution_count": 5,
   "id": "8e91900b-2be5-4ac2-8709-e6fe7949dcd1",
   "metadata": {},
   "outputs": [],
   "source": [
    "# d = {<Key>:<value>,<key>:<value>,......}"
   ]
  },
  {
   "cell_type": "code",
   "execution_count": 7,
   "id": "c052e1aa-30f0-4dd2-b2da-f4c2f95c4be0",
   "metadata": {},
   "outputs": [
    {
     "name": "stdout",
     "output_type": "stream",
     "text": [
      "{'a': 'Apple', 'b': 'Ball', 'c': 'Cat'}\n",
      "<class 'dict'>\n"
     ]
    }
   ],
   "source": [
    "d = {'a':'Apple','b':'Ball','c':'Cat'}\n",
    "print(d)\n",
    "print(type(d))"
   ]
  },
  {
   "cell_type": "code",
   "execution_count": 9,
   "id": "43306822-6f75-4ddb-89ad-69d39fc92fe3",
   "metadata": {},
   "outputs": [
    {
     "name": "stdout",
     "output_type": "stream",
     "text": [
      "Ball\n"
     ]
    }
   ],
   "source": [
    "print(d['b'])"
   ]
  },
  {
   "cell_type": "code",
   "execution_count": 11,
   "id": "496eac35-3e83-4415-8a82-cf23cbf50a26",
   "metadata": {},
   "outputs": [
    {
     "name": "stdout",
     "output_type": "stream",
     "text": [
      "{'a': 'Apple', 'b': 'Ball', 'c': 'Cat', 'A': 'Apple'}\n"
     ]
    }
   ],
   "source": [
    "d = {'a':'Apple','b':'Ball','c':'Cat','A':'Apple'}\n",
    "print(d)"
   ]
  },
  {
   "cell_type": "code",
   "execution_count": 13,
   "id": "ea39aa0a-04b3-445e-be5e-da52ffa9fb06",
   "metadata": {},
   "outputs": [
    {
     "name": "stdout",
     "output_type": "stream",
     "text": [
      "{'a': 'Ant', 'b': 'Ball', 'c': 'Cat'}\n"
     ]
    }
   ],
   "source": [
    "d = {'a':'Apple','b':'Ball','c':'Cat','a':'Ant'}\n",
    "print(d)\n"
   ]
  },
  {
   "cell_type": "code",
   "execution_count": 15,
   "id": "c8f32bf7-ad21-49e9-99f7-0127e829272b",
   "metadata": {},
   "outputs": [
    {
     "name": "stdout",
     "output_type": "stream",
     "text": [
      "a\n",
      "b\n",
      "c\n"
     ]
    }
   ],
   "source": [
    "d = {'a':'Apple','b':'Ball','c':'Cat','a':'Ant'}\n",
    "for i in d:\n",
    "    print(i)"
   ]
  },
  {
   "cell_type": "code",
   "execution_count": 17,
   "id": "7115b87d-7696-46e2-9f9b-23fec29ac98d",
   "metadata": {},
   "outputs": [
    {
     "name": "stdout",
     "output_type": "stream",
     "text": [
      "Ant\n",
      "Ball\n",
      "Cat\n"
     ]
    }
   ],
   "source": [
    "d = {'a':'Apple','b':'Ball','c':'Cat','a':'Ant'}\n",
    "for i in d.values():\n",
    "    print(i)"
   ]
  },
  {
   "cell_type": "code",
   "execution_count": 19,
   "id": "ce8a2e77-573b-478d-8bdc-0b8d30ae13b5",
   "metadata": {},
   "outputs": [
    {
     "name": "stdout",
     "output_type": "stream",
     "text": [
      "('a', 'Ant')\n",
      "('b', 'Ball')\n",
      "('c', 'Cat')\n"
     ]
    }
   ],
   "source": [
    "d = {'a':'Apple','b':'Ball','c':'Cat','a':'Ant'}\n",
    "for i in d.items():\n",
    "    print(i)"
   ]
  },
  {
   "cell_type": "code",
   "execution_count": 23,
   "id": "27393225-0ba6-4f93-b007-6a4498a478cd",
   "metadata": {},
   "outputs": [
    {
     "data": {
      "text/plain": [
       "{'a': 'Apple', 'b': 'Ball', 'c': 'Cat'}"
      ]
     },
     "execution_count": 23,
     "metadata": {},
     "output_type": "execute_result"
    }
   ],
   "source": [
    "d = [['a','Apple'],['b','Ball'],['c','Cat']]\n",
    "dict(d)"
   ]
  },
  {
   "cell_type": "code",
   "execution_count": 25,
   "id": "8ddcd7b5-c423-4af1-b7a8-bc3cd1808732",
   "metadata": {},
   "outputs": [
    {
     "name": "stdout",
     "output_type": "stream",
     "text": [
      "{'a': 'Apple', 'b': 'Ball', 'c': 'Cat'}\n"
     ]
    }
   ],
   "source": [
    "# CRUD\n",
    "d = {}\n",
    "d['a'] = 'Apple'\n",
    "d['b'] = 'Ball'\n",
    "d['c'] = 'Cat'\n",
    "print(d)"
   ]
  },
  {
   "cell_type": "code",
   "execution_count": 31,
   "id": "836b3451-4457-4d96-831a-6ecb94eba942",
   "metadata": {},
   "outputs": [
    {
     "name": "stdin",
     "output_type": "stream",
     "text": [
      "Enter the value of n =  2\n",
      "Enter Name =  Ram\n",
      "Enter Phone =  9860307111\n",
      "Enter Name =  Shyam\n",
      "Enter Phone =  9845842717\n"
     ]
    },
    {
     "name": "stdout",
     "output_type": "stream",
     "text": [
      "{'Ram': '9860307111', 'Shyam': '9845842717'}\n"
     ]
    }
   ],
   "source": [
    "d = {}\n",
    "n = int(input('Enter the value of n = '))\n",
    "for i in range(n):\n",
    "    Name = input(\"Enter Name = \")\n",
    "    Phone = input(\"Enter Phone = \")\n",
    "    d[Name] = Phone\n",
    "\n",
    "print(d)"
   ]
  },
  {
   "cell_type": "code",
   "execution_count": 35,
   "id": "7a409fce-7892-4683-a195-8c394ab6a8ef",
   "metadata": {},
   "outputs": [
    {
     "data": {
      "text/plain": [
       "{'Ram': '9860307111', 'Shyam': '9845842717', 'Hari': '9808778765'}"
      ]
     },
     "execution_count": 35,
     "metadata": {},
     "output_type": "execute_result"
    }
   ],
   "source": [
    "d = {'Ram': '9860307111', 'Shyam': '9845842717'}\n",
    "d['Hari'] = '9808778765'\n",
    "d"
   ]
  },
  {
   "cell_type": "code",
   "execution_count": 39,
   "id": "7c41b705-398d-4ba1-b319-54a92bc5d380",
   "metadata": {},
   "outputs": [
    {
     "data": {
      "text/plain": [
       "{'Ram': '980800000', 'Shyam': '9845842717'}"
      ]
     },
     "execution_count": 39,
     "metadata": {},
     "output_type": "execute_result"
    }
   ],
   "source": [
    "d = {'Ram': '9860307111', 'Shyam': '9845842717'}\n",
    "d['Ram'] = '980800000'\n",
    "d"
   ]
  },
  {
   "cell_type": "code",
   "execution_count": 43,
   "id": "a771fdcd-f963-465b-b5b4-6c0c5e0818a3",
   "metadata": {},
   "outputs": [
    {
     "name": "stdout",
     "output_type": "stream",
     "text": [
      "{'Ram': '9860307111'}\n"
     ]
    }
   ],
   "source": [
    "# delete\n",
    "# del pop()\n",
    "d = {'Ram': '9860307111', 'Shyam': '9845842717'}\n",
    "del d['Shyam']\n",
    "print(d)"
   ]
  },
  {
   "cell_type": "code",
   "execution_count": 49,
   "id": "847c8a94-bfdc-44a4-9f57-18c706905dac",
   "metadata": {},
   "outputs": [
    {
     "name": "stdout",
     "output_type": "stream",
     "text": [
      "9860307111\n",
      "{'Shyam': '9845842717'}\n"
     ]
    }
   ],
   "source": [
    "d = {'Ram': '9860307111', 'Shyam': '9845842717'}\n",
    "a = d.pop('Ram')\n",
    "print(a)\n",
    "print(d)"
   ]
  },
  {
   "cell_type": "code",
   "execution_count": 59,
   "id": "355574b2-2320-431e-a980-a1f15dbc11c6",
   "metadata": {},
   "outputs": [
    {
     "name": "stdout",
     "output_type": "stream",
     "text": [
      "{'Ram': [9860307111, 980842717], 'Shyam': [984350000, 9808778765], 'Hari': [9867556543, 9808118945]}\n"
     ]
    }
   ],
   "source": [
    "# list inside dict\n",
    "d = {\n",
    "    'Ram':[9860307111,980842717],\n",
    "    'Shyam':[984350000,9808778765],\n",
    "    'Hari':[9867556543,9808118945],\n",
    "}\n",
    "print(d)"
   ]
  },
  {
   "cell_type": "code",
   "execution_count": 61,
   "id": "8248f062-e7ce-4c78-8021-98663d3ce459",
   "metadata": {},
   "outputs": [
    {
     "name": "stdin",
     "output_type": "stream",
     "text": [
      "Enter Name =  Ram\n",
      "Enter 0 for ntc or 1 for ncell 1\n"
     ]
    },
    {
     "data": {
      "text/plain": [
       "980842717"
      ]
     },
     "execution_count": 61,
     "metadata": {},
     "output_type": "execute_result"
    }
   ],
   "source": [
    "Name = input(\"Enter Name = \")\n",
    "Mobile = int(input(\"Enter 0 for ntc or 1 for ncell\"))\n",
    "\n",
    "d[Name][Mobile]"
   ]
  },
  {
   "cell_type": "code",
   "execution_count": 63,
   "id": "c6cf2c3c-d882-4302-bfb7-cb3fa9059130",
   "metadata": {},
   "outputs": [
    {
     "data": {
      "text/plain": [
       "{'Name': ['Ram', 'Shyam', 'Hari'],\n",
       " 'Ntc': [9860307111, 9845842717, 9860307222],\n",
       " 'Ncell': [9808667565, 9808556542, 9808452136]}"
      ]
     },
     "execution_count": 63,
     "metadata": {},
     "output_type": "execute_result"
    }
   ],
   "source": [
    "# for multiple names\n",
    "d = {\n",
    "    'Name':['Ram','Shyam','Hari'],\n",
    "    'Ntc':[9860307111,9845842717,9860307222],\n",
    "    'Ncell':[9808667565,9808556542,9808452136]\n",
    "}\n",
    "d"
   ]
  },
  {
   "cell_type": "code",
   "execution_count": 71,
   "id": "85b79b2a-395d-4ead-b6e5-b551051eaca5",
   "metadata": {},
   "outputs": [
    {
     "data": {
      "text/plain": [
       "{'Name': ['Ram', 'Shyam', 'Hari'],\n",
       " 'Ntc': [9860307123, 9845842717, 9860307222],\n",
       " 'Ncell': [9808776575, 9808556542, 9808452136]}"
      ]
     },
     "execution_count": 71,
     "metadata": {},
     "output_type": "execute_result"
    }
   ],
   "source": [
    "d['Ntc'][0] = 9860307123\n",
    "d['Ncell'][0] = 9808776575\n",
    "d"
   ]
  },
  {
   "cell_type": "code",
   "execution_count": 73,
   "id": "fcbb55f0-8097-4d4f-9a31-9b4d1988f1ac",
   "metadata": {},
   "outputs": [
    {
     "data": {
      "text/plain": [
       "{'Name': ['Shyam', 'Hari'],\n",
       " 'Ntc': [9845842717, 9860307222],\n",
       " 'Ncell': [9808556542, 9808452136]}"
      ]
     },
     "execution_count": 73,
     "metadata": {},
     "output_type": "execute_result"
    }
   ],
   "source": [
    "del d['Name'][0]\n",
    "del d['Ntc'][0]\n",
    "del d['Ncell'][0]\n",
    "d"
   ]
  },
  {
   "cell_type": "code",
   "execution_count": 79,
   "id": "3229040c-e68b-4987-bfb7-5755f9e8536a",
   "metadata": {},
   "outputs": [
    {
     "data": {
      "text/plain": [
       "{1: {'Name': 'Ram', 'Ntc': 9860307111, 'Ncell': 98086678654},\n",
       " 2: {'Name': 'Shyam', 'Ntc': 9860307123, 'Ncell': 9808779823},\n",
       " 3: {'Name': 'Hari', 'Ntc': 9860307456, 'Ncell': 9808307111}}"
      ]
     },
     "execution_count": 79,
     "metadata": {},
     "output_type": "execute_result"
    }
   ],
   "source": [
    "#Nested dict\n",
    "d =  {\n",
    "    1:{'Name':'Ram','Ntc':9860307111,'Ncell':98086678654},\n",
    "    2:{'Name':'Shyam','Ntc':9860307123,'Ncell':9808779823},\n",
    "    3:{'Name':'Hari','Ntc':9860307456,'Ncell':9808307111}\n",
    "}\n",
    "d"
   ]
  },
  {
   "cell_type": "code",
   "execution_count": 9,
   "id": "7cee2b35-c8df-4d91-bd00-7e65f95ec4c2",
   "metadata": {},
   "outputs": [
    {
     "data": {
      "text/plain": [
       "{2: {'Name': 'Shyam', 'Ntc': 9860307123, 'Ncell': 9808779823},\n",
       " 3: {'Name': 'Hari', 'Ntc': 9860307456, 'Ncell': 9808307111}}"
      ]
     },
     "execution_count": 9,
     "metadata": {},
     "output_type": "execute_result"
    }
   ],
   "source": [
    "del d[1]\n",
    "d"
   ]
  },
  {
   "cell_type": "code",
   "execution_count": 5,
   "id": "04d2bb9e-8a91-492f-92c9-be77800a36f8",
   "metadata": {},
   "outputs": [
    {
     "data": {
      "text/plain": [
       "{1: {'Name': 'Ram',\n",
       "  'Ntc': 9860307111,\n",
       "  'Ncell': 98086678654,\n",
       "  'Smart': 123645512},\n",
       " 2: {'Name': 'Shyam', 'Ntc': 9860307123, 'Ncell': 9808779823},\n",
       " 3: {'Name': 'Hari', 'Ntc': 9860307456, 'Ncell': 9808307111}}"
      ]
     },
     "execution_count": 5,
     "metadata": {},
     "output_type": "execute_result"
    }
   ],
   "source": [
    "d =  {\n",
    "    1:{'Name':'Ram','Ntc':9860307111,'Ncell':98086678654},\n",
    "    2:{'Name':'Shyam','Ntc':9860307123,'Ncell':9808779823},\n",
    "    3:{'Name':'Hari','Ntc':9860307456,'Ncell':9808307111}\n",
    "}\n",
    "d[1]['Smart'] = 123645512\n",
    "d"
   ]
  },
  {
   "cell_type": "code",
   "execution_count": null,
   "id": "6e3d1e41-d4a0-4bab-a5ef-2c18928a3c08",
   "metadata": {},
   "outputs": [],
   "source": [
    "#  take Subject Marks,Create total,per,grade the\n",
    "# WAP to creat list inside dict and CRUD\n",
    "# WAP to creat dict inside list and CRUD\n",
    "# WAP to creat dict inside dict and CRUD"
   ]
  }
 ],
 "metadata": {
  "kernelspec": {
   "display_name": "Python [conda env:base] *",
   "language": "python",
   "name": "conda-base-py"
  },
  "language_info": {
   "codemirror_mode": {
    "name": "ipython",
    "version": 3
   },
   "file_extension": ".py",
   "mimetype": "text/x-python",
   "name": "python",
   "nbconvert_exporter": "python",
   "pygments_lexer": "ipython3",
   "version": "3.12.7"
  }
 },
 "nbformat": 4,
 "nbformat_minor": 5
}
