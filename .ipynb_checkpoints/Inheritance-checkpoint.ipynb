{
 "cells": [
  {
   "cell_type": "code",
   "execution_count": 2,
   "id": "bfcf4670-488c-4a68-9eaa-686f24b85ded",
   "metadata": {},
   "outputs": [],
   "source": [
    "class A:\n",
    "    pass\n",
    "\n",
    "class B(A):\n",
    "    pass\n",
    "\n",
    "obj = B()"
   ]
  },
  {
   "cell_type": "code",
   "execution_count": 4,
   "id": "9e36455c-e1ef-41f5-9cd8-8f42bf7cb357",
   "metadata": {},
   "outputs": [
    {
     "name": "stdout",
     "output_type": "stream",
     "text": [
      "Hello World I am Ram. I am form Kathmandu. I am 23\n",
      "Ram 23 Kathmandu\n"
     ]
    }
   ],
   "source": [
    "class Data:                            #parent class\n",
    "    def __init__(self):\n",
    "        self.name = \"Ram\"\n",
    "        self.age = 23\n",
    "        self.add = \"Kathmandu\"\n",
    "    def data(self):\n",
    "        print(self.name,self.age,self.add)\n",
    "\n",
    "class Info(Data):                           #child class\n",
    "    def info(self):\n",
    "        print(f\"Hello World I am {self.name}. I am form {self.add}. I am {self.age}\")\n",
    "\n",
    "obj = Info()\n",
    "obj.info()\n",
    "obj.data()"
   ]
  },
  {
   "cell_type": "code",
   "execution_count": 10,
   "id": "d48795d9-e8ab-4916-85a8-f5ab21fd5fec",
   "metadata": {},
   "outputs": [
    {
     "name": "stdin",
     "output_type": "stream",
     "text": [
      "Enter name =  Ram\n",
      "Enter age =  35\n",
      "Enter add =  Lalitpur\n"
     ]
    },
    {
     "name": "stdout",
     "output_type": "stream",
     "text": [
      "Hello World I am Ram. I am form Lalitpur. I am 35\n",
      "Ram 35 Lalitpur\n"
     ]
    }
   ],
   "source": [
    "class Data:                                #parent class\n",
    "    def __init__(self,name,age,add):\n",
    "        self.name = name\n",
    "        self.age = age\n",
    "        self.add = add\n",
    "    def data(self):\n",
    "        print(self.name,self.age,self.add)\n",
    "\n",
    "class Info(Data):                             #child class\n",
    "    def info(self):\n",
    "        print(f\"Hello World I am {self.name}. I am form {self.add}. I am {self.age}\")\n",
    "        \n",
    "name = input(\"Enter name = \")\n",
    "age = int(input(\"Enter age = \"))\n",
    "add = input(\"Enter add = \")\n",
    "\n",
    "obj = Info(name,age,add)\n",
    "obj.info()\n",
    "obj.data()"
   ]
  },
  {
   "cell_type": "code",
   "execution_count": 5,
   "id": "8e770af8-6706-45c4-a8b1-26656b0c8428",
   "metadata": {},
   "outputs": [
    {
     "name": "stdin",
     "output_type": "stream",
     "text": [
      "Enter name =  Ram\n",
      "Enter age =  23\n",
      "Enter add =  Kathmandu\n"
     ]
    },
    {
     "name": "stdout",
     "output_type": "stream",
     "text": [
      "Hello World I am Ram. I am form Kathmandu. I am 23\n",
      "Ram 23 Kathmandu\n"
     ]
    }
   ],
   "source": [
    "class Data:                                #parent class\n",
    "    def __init__(self,add):\n",
    "        self.add = add\n",
    "        \n",
    "    def data(self):\n",
    "        print(self.name,self.age,self.add)\n",
    "\n",
    "class Info(Data):                           #child class\n",
    "    def __init__(self,name,age,add):\n",
    "        self.name = name\n",
    "        self.age = age\n",
    "        Data.__init__(self,add)\n",
    "        \n",
    "    def info(self):\n",
    "        print(f\"Hello World I am {self.name}. I am form {self.add}. I am {self.age}\")\n",
    "        \n",
    "name = input(\"Enter name = \")\n",
    "age = int(input(\"Enter age = \"))\n",
    "add = input(\"Enter add = \")\n",
    "\n",
    "obj = Info(name,age,add)\n",
    "obj.info()\n",
    "obj.data()"
   ]
  },
  {
   "cell_type": "code",
   "execution_count": 12,
   "id": "894abcda-6ee4-4457-a59e-78c91962b006",
   "metadata": {},
   "outputs": [],
   "source": [
    "# multiple-level inheritance\n",
    "class A:\n",
    "    pass\n",
    "class B(A):\n",
    "    pass\n",
    "class C(B):\n",
    "    pass\n",
    "\n",
    "obj = C()"
   ]
  },
  {
   "cell_type": "code",
   "execution_count": 14,
   "id": "540f93ec-832f-4dcd-a67a-740879a7be8c",
   "metadata": {},
   "outputs": [],
   "source": [
    "# multiple inheritance\n",
    "class A:\n",
    "    pass\n",
    "class B:\n",
    "    pass\n",
    "class C(A,B):\n",
    "    pass\n",
    "\n",
    "obj = C()"
   ]
  },
  {
   "cell_type": "code",
   "execution_count": 22,
   "id": "b2ae9ef5-055b-456b-8071-242476cfcbe7",
   "metadata": {},
   "outputs": [
    {
     "name": "stdin",
     "output_type": "stream",
     "text": [
      "Enter name =  Ram\n",
      "Enter age =  23\n",
      "Enter add =  Kathmandu\n",
      "Enter phone =  9863123654\n"
     ]
    },
    {
     "name": "stdout",
     "output_type": "stream",
     "text": [
      "Hello World I am Ram. I am form Kathmandu. I am 23. My phone no is 9863123654.\n",
      "Kathmandu\n"
     ]
    }
   ],
   "source": [
    "class Contact:\n",
    "     def __init__(self,phone):\n",
    "         self.phone = phone\n",
    "     def contact(self):\n",
    "         print(self.phone)\n",
    "             \n",
    "class Data(Contact):                                #parent class\n",
    "    def __init__(self,add,phone):\n",
    "        self.add = add\n",
    "        Contact.__init__(self, phone)\n",
    "    def data(self):\n",
    "        print(self.add)\n",
    "        \n",
    "\n",
    "class Info(Data):                           #child class\n",
    "    def __init__(self,name,age,add,phone):\n",
    "        self.name = name\n",
    "        self.age = age\n",
    "        Data.__init__(self,add,phone)\n",
    "        \n",
    "    def info(self):\n",
    "        print(f\"Hello World I am {self.name}. I am form {self.add}. I am {self.age}. My phone no is {self.phone}.\")\n",
    "        \n",
    "name = input(\"Enter name = \")\n",
    "age = int(input(\"Enter age = \"))\n",
    "add = input(\"Enter add = \")\n",
    "phone = input(\"Enter phone = \")\n",
    "obj = Info(name,age,add,phone)\n",
    "obj.info()\n",
    "obj.data()"
   ]
  },
  {
   "cell_type": "code",
   "execution_count": 34,
   "id": "74ba54ff-70f1-4618-a9de-c8386e19b480",
   "metadata": {},
   "outputs": [
    {
     "name": "stdin",
     "output_type": "stream",
     "text": [
      "Enter name =  Ram\n",
      "Enter age =  23\n",
      "Enter add =  Kathmandu\n",
      "Enter phone =  9863123654\n"
     ]
    },
    {
     "name": "stdout",
     "output_type": "stream",
     "text": [
      "Hello World I am Ram. I am form Kathmandu. I am 23. My phone no is 9863123654.\n",
      "Kathmandu\n"
     ]
    }
   ],
   "source": [
    "#multiple\n",
    "class Contact:\n",
    "     def __init__(self,phone):\n",
    "         self.phone = phone\n",
    "     def contact(self):\n",
    "         print(self.phone)\n",
    "             \n",
    "class Data(Contact):                                #parent class\n",
    "    def __init__(self,add,phone):\n",
    "        self.add = add\n",
    "        Contact.__init__(self, phone)\n",
    "    def data(self):\n",
    "        print(self.add)\n",
    "        \n",
    "\n",
    "class Info(Data,Contact):                           #child class\n",
    "    def __init__(self,name,age,add,phone):\n",
    "        self.name = name\n",
    "        self.age = age\n",
    "        Data.__init__(self,add,phone)\n",
    "        Contact.__init__(self, phone)\n",
    "        \n",
    "    def info(self):\n",
    "        print(f\"Hello World I am {self.name}. I am form {self.add}. I am {self.age}. My phone no is {self.phone}.\")\n",
    "        \n",
    "name = input(\"Enter name = \")\n",
    "age = int(input(\"Enter age = \"))\n",
    "add = input(\"Enter add = \")\n",
    "phone = input(\"Enter phone = \")\n",
    "obj = Info(name,age,add,phone)\n",
    "obj.info()\n",
    "obj.data()"
   ]
  },
  {
   "cell_type": "code",
   "execution_count": 4,
   "id": "84c594c7-8374-47ad-82ab-99d0462e49f0",
   "metadata": {},
   "outputs": [
    {
     "name": "stdout",
     "output_type": "stream",
     "text": [
      "Ram\n",
      "34\n",
      "Kathmandu\n"
     ]
    }
   ],
   "source": [
    "# Public members\n",
    "class Info:\n",
    "    def __init__(self):\n",
    "        self.name = \"Ram\"\n",
    "        self.age = 34\n",
    "        self.add = \"Kathmandu\"\n",
    "    def info():\n",
    "        print(self.name,self.age,self.add)\n",
    "\n",
    "obj = Info()\n",
    "print(obj.name)\n",
    "print(obj.age)\n",
    "print(obj.add)"
   ]
  },
  {
   "cell_type": "code",
   "execution_count": 10,
   "id": "35559b7d-c493-41f0-a172-60f4074fe1f4",
   "metadata": {},
   "outputs": [
    {
     "name": "stdout",
     "output_type": "stream",
     "text": [
      "Hello World I am Ram. I am form Kathmandu. I am 34\n"
     ]
    }
   ],
   "source": [
    "# Protected members\n",
    "class Data:\n",
    "    def __init__(self):\n",
    "        self._name = \"Ram\"\n",
    "        self._age = 34\n",
    "        self._add = \"Kathmandu\"\n",
    "    def data():\n",
    "        print(self._name,self._age,self._add)\n",
    "        \n",
    "class Info(Data):                             \n",
    "    def info(self):\n",
    "        print(f\"Hello World I am {self._name}. I am form {self._add}. I am {self._age}\")\n",
    "        \n",
    "obj = Info()\n",
    "obj.info()"
   ]
  },
  {
   "cell_type": "code",
   "execution_count": 16,
   "id": "fba0c03d-264f-483c-96f6-030f68d60d2e",
   "metadata": {},
   "outputs": [
    {
     "name": "stdout",
     "output_type": "stream",
     "text": [
      "Hello World I am Ram\n"
     ]
    }
   ],
   "source": [
    "#Private Members\n",
    "class Data:\n",
    "    def __init__(self):\n",
    "        self._name = \"Ram\"                  #protected\n",
    "        self._age = 34                      #Private\n",
    "        self._add = \"Kathmandu\"             #Private\n",
    "        self._phone = 9803123654            #Private\n",
    "    def data():\n",
    "        print(self._name,self._age,self._add)\n",
    "        \n",
    "class Info(Data):                             \n",
    "    def info(self):\n",
    "        print(f\"Hello World I am {self._name}\")\n",
    "        \n",
    "obj = Info()\n",
    "obj.info()"
   ]
  },
  {
   "cell_type": "code",
   "execution_count": 24,
   "id": "5a5116bf-198b-4c7f-8c17-956c5d0369b5",
   "metadata": {},
   "outputs": [
    {
     "name": "stdout",
     "output_type": "stream",
     "text": [
      "Hello World I am Ram. I am 34 years old. I am from Kathmandu\n",
      "Ram\n"
     ]
    },
    {
     "data": {
      "text/plain": [
       "'Ram'"
      ]
     },
     "execution_count": 24,
     "metadata": {},
     "output_type": "execute_result"
    }
   ],
   "source": [
    "# str method\n",
    "class Info:\n",
    "    def __init__(self):\n",
    "        self.name =\"Ram\"\n",
    "        self.age = 34\n",
    "        self.add = \"Kathmandu\"\n",
    "        \n",
    "    def __str__(self):\n",
    "        return self.name\n",
    "        \n",
    "    def info(self):\n",
    "        print(f\"Hello World I am {self.name}. I am {self.age} years old. I am from {self.add}\")\n",
    "\n",
    "obj = Info()\n",
    "obj.info()\n",
    "print(obj)\n",
    "obj.__str__()"
   ]
  },
  {
   "cell_type": "code",
   "execution_count": 22,
   "id": "1a58eec1-0cc7-4e4d-9968-e32f5b2fad9c",
   "metadata": {},
   "outputs": [
    {
     "name": "stdout",
     "output_type": "stream",
     "text": [
      "Hello World I am Ram. I am 34 years old. I am from Kathmandu\n"
     ]
    },
    {
     "data": {
      "text/plain": [
       "{1: 'Ram', 2: 34, 3: 'Kathmandu'}"
      ]
     },
     "execution_count": 22,
     "metadata": {},
     "output_type": "execute_result"
    }
   ],
   "source": [
    "#repr method\n",
    "class Info:\n",
    "    def __init__(self):\n",
    "        self.name =\"Ram\"\n",
    "        self.age = 34\n",
    "        self.add = \"Kathmandu\"\n",
    "        \n",
    "    def __repr__(self):\n",
    "        return {1:self.name,2:self.age,3:self.add}\n",
    "        \n",
    "    def info(self):\n",
    "        print(f\"Hello World I am {self.name}. I am {self.age} years old. I am from {self.add}\")\n",
    "\n",
    "obj = Info()\n",
    "obj.info()\n",
    "obj.__repr__()"
   ]
  },
  {
   "cell_type": "code",
   "execution_count": 38,
   "id": "771daadd-5291-4b89-a8c4-2903bfd054fd",
   "metadata": {},
   "outputs": [
    {
     "name": "stdout",
     "output_type": "stream",
     "text": [
      "This is init method 1000\n",
      "This is init method 2000\n",
      "This is init method 3000\n",
      "This is add method 3000\n",
      "This is init method 3000\n",
      "This is add method 6000\n",
      "This is init method 6000\n",
      "This is str method 6000\n",
      "6000\n"
     ]
    }
   ],
   "source": [
    "# Operator overloading\n",
    "class Point:\n",
    "    def __init__(self, x = 0):\n",
    "        self.x = x\n",
    "        print(\"This is init method\",self.x)\n",
    "\n",
    "    def __str__(self):\n",
    "        print(\"This is str method\",self.x)\n",
    "        return str(self.x)\n",
    "\n",
    "    def __add__(self,other):\n",
    "        x = self.x + other.x\n",
    "        print(\"This is add method\",x)\n",
    "        return Point(x)\n",
    "\n",
    "p1 = Point(1000)\n",
    "p2 = Point(2000)\n",
    "p3 = Point(3000)\n",
    "print(p1 + p2+p3)"
   ]
  },
  {
   "cell_type": "code",
   "execution_count": null,
   "id": "4a787f50-c61b-4ece-a952-395e7c41f718",
   "metadata": {},
   "outputs": [],
   "source": []
  }
 ],
 "metadata": {
  "kernelspec": {
   "display_name": "Python [conda env:base] *",
   "language": "python",
   "name": "conda-base-py"
  },
  "language_info": {
   "codemirror_mode": {
    "name": "ipython",
    "version": 3
   },
   "file_extension": ".py",
   "mimetype": "text/x-python",
   "name": "python",
   "nbconvert_exporter": "python",
   "pygments_lexer": "ipython3",
   "version": "3.12.7"
  }
 },
 "nbformat": 4,
 "nbformat_minor": 5
}
