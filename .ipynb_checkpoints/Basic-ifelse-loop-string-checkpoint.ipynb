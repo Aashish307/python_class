{
 "cells": [
  {
   "cell_type": "code",
   "execution_count": 2,
   "id": "f1044e5f-e752-4f16-8312-78ad8d520669",
   "metadata": {},
   "outputs": [
    {
     "name": "stdout",
     "output_type": "stream",
     "text": [
      "10\n"
     ]
    }
   ],
   "source": [
    "a = 10\n",
    "print(a)"
   ]
  },
  {
   "cell_type": "code",
   "execution_count": 4,
   "id": "78f8ad61-d865-4c10-90eb-35e94333cac3",
   "metadata": {},
   "outputs": [
    {
     "name": "stdout",
     "output_type": "stream",
     "text": [
      "10\n",
      "10.5\n",
      "Hello World\n",
      "True\n",
      "10 10.5 Hello World True\n"
     ]
    }
   ],
   "source": [
    "a = 10               #int\n",
    "b = 10.5             #float\n",
    "c = \"Hello World\"    #str\n",
    "d = True             #bool\n",
    "\n",
    "print(a)\n",
    "print(b)\n",
    "print(c)\n",
    "print(d)\n",
    "print(a,b,c,d)"
   ]
  },
  {
   "cell_type": "code",
   "execution_count": 6,
   "id": "f06ac158-9c5d-41f9-a4a0-5dd623be8a28",
   "metadata": {},
   "outputs": [
    {
     "name": "stdout",
     "output_type": "stream",
     "text": [
      "<class 'int'>\n",
      "<class 'float'>\n",
      "<class 'str'>\n",
      "<class 'bool'>\n"
     ]
    }
   ],
   "source": [
    "#datatype int, str, float, bool\n",
    "print(type(a))\n",
    "print(type(b))\n",
    "print(type(c))\n",
    "print(type(d))"
   ]
  },
  {
   "cell_type": "code",
   "execution_count": 8,
   "id": "ff6783a8-5910-4dd4-b38a-4581b88e9d8a",
   "metadata": {},
   "outputs": [],
   "source": [
    "# Operator\n",
    "# + - * / ** // % "
   ]
  },
  {
   "cell_type": "code",
   "execution_count": 10,
   "id": "7b6afef4-c3f4-462f-9f95-219aa79f8665",
   "metadata": {},
   "outputs": [
    {
     "name": "stdout",
     "output_type": "stream",
     "text": [
      "13\n",
      "7\n",
      "30\n",
      "3.3333333333333335\n",
      "1000\n",
      "3\n",
      "1\n"
     ]
    }
   ],
   "source": [
    "# int\n",
    "a = 10\n",
    "b = 3\n",
    "print(a+b)\n",
    "print(a-b)\n",
    "print(a*b)\n",
    "print(a/b)\n",
    "print(a**b)\n",
    "print(a//b)\n",
    "print(a%b)"
   ]
  },
  {
   "cell_type": "code",
   "execution_count": 12,
   "id": "c58930e2-66e6-4909-8476-accc0ed889b6",
   "metadata": {},
   "outputs": [
    {
     "name": "stdout",
     "output_type": "stream",
     "text": [
      "Hello World\n"
     ]
    }
   ],
   "source": [
    "#str\n",
    "a = 'Hello '\n",
    "b = 'World'\n",
    "c = a+b      #concate\n",
    "print(c)"
   ]
  },
  {
   "cell_type": "code",
   "execution_count": 14,
   "id": "430c31bc-8a19-4ae6-885e-203222f3c6b9",
   "metadata": {},
   "outputs": [
    {
     "name": "stdout",
     "output_type": "stream",
     "text": [
      "Hello World\n",
      "Hello World\n",
      "\n"
     ]
    }
   ],
   "source": [
    "a = 'Hello World\\n'\n",
    "print(a*2)"
   ]
  },
  {
   "cell_type": "code",
   "execution_count": 16,
   "id": "e56a2f70-dc46-4be1-ac80-fb4d9aab4937",
   "metadata": {},
   "outputs": [
    {
     "name": "stdout",
     "output_type": "stream",
     "text": [
      "1020\n"
     ]
    }
   ],
   "source": [
    "a = '10'\n",
    "b = '20'\n",
    "c = a+b\n",
    "print(c)"
   ]
  },
  {
   "cell_type": "code",
   "execution_count": 18,
   "id": "1e5a4a34-b00e-42aa-ba87-585d06809b00",
   "metadata": {},
   "outputs": [
    {
     "name": "stdout",
     "output_type": "stream",
     "text": [
      "1\n"
     ]
    }
   ],
   "source": [
    "# bool\n",
    "a = True\n",
    "b = False\n",
    "\n",
    "c = a+b\n",
    "print(c)"
   ]
  },
  {
   "cell_type": "code",
   "execution_count": 20,
   "id": "b7558996-7181-4e98-bcbd-b2336f978690",
   "metadata": {},
   "outputs": [
    {
     "name": "stdout",
     "output_type": "stream",
     "text": [
      "1\n"
     ]
    }
   ],
   "source": [
    "a = True\n",
    "b = False\n",
    "c = a-b\n",
    "print(c)"
   ]
  },
  {
   "cell_type": "code",
   "execution_count": 22,
   "id": "c91caaff-488c-4a80-a725-5aa90a2fba66",
   "metadata": {},
   "outputs": [
    {
     "name": "stdout",
     "output_type": "stream",
     "text": [
      "10.0\n"
     ]
    }
   ],
   "source": [
    "# type casting int() float() bool()\n",
    "a = 10\n",
    "b = float(a)  #int to float\n",
    "print(b)"
   ]
  },
  {
   "cell_type": "code",
   "execution_count": 24,
   "id": "a5e2f0af-e0cf-4718-a41e-185725d599d6",
   "metadata": {},
   "outputs": [
    {
     "name": "stdout",
     "output_type": "stream",
     "text": [
      "10\n"
     ]
    }
   ],
   "source": [
    "b = str(a)\n",
    "print(b)"
   ]
  },
  {
   "cell_type": "code",
   "execution_count": 26,
   "id": "b9f9d25b-d06e-4c6d-ae05-9edeb2e36f49",
   "metadata": {},
   "outputs": [
    {
     "name": "stdout",
     "output_type": "stream",
     "text": [
      "10\n"
     ]
    }
   ],
   "source": [
    "a = 10.5\n",
    "b = int(a)\n",
    "print(b)"
   ]
  },
  {
   "cell_type": "code",
   "execution_count": 28,
   "id": "fcc6848c-b6b6-4533-ae1b-bcef22bb6b91",
   "metadata": {},
   "outputs": [
    {
     "name": "stdout",
     "output_type": "stream",
     "text": [
      "True\n"
     ]
    }
   ],
   "source": [
    "a = 10\n",
    "b = bool(a)\n",
    "print(b)"
   ]
  },
  {
   "cell_type": "code",
   "execution_count": 30,
   "id": "4a2953fc-7e21-481b-993b-72ce43f65a66",
   "metadata": {},
   "outputs": [
    {
     "name": "stdout",
     "output_type": "stream",
     "text": [
      "True\n"
     ]
    }
   ],
   "source": [
    "a = \"Hello\"\n",
    "b = bool(a)\n",
    "print(b)"
   ]
  },
  {
   "cell_type": "code",
   "execution_count": 32,
   "id": "408723c1-fdf8-4824-8033-9c9402827d4e",
   "metadata": {},
   "outputs": [
    {
     "name": "stdin",
     "output_type": "stream",
     "text": [
      " Hello World\n"
     ]
    },
    {
     "name": "stdout",
     "output_type": "stream",
     "text": [
      "Hello World\n"
     ]
    }
   ],
   "source": [
    "# Basic I/O opertaion\n",
    "a = input()\n",
    "print(a)"
   ]
  },
  {
   "cell_type": "code",
   "execution_count": 34,
   "id": "e9e520bc-a370-4b3b-8d08-b934cf312a6a",
   "metadata": {},
   "outputs": [
    {
     "name": "stdin",
     "output_type": "stream",
     "text": [
      "Enter value of a =  Hello World\n"
     ]
    },
    {
     "name": "stdout",
     "output_type": "stream",
     "text": [
      "Hello World\n"
     ]
    }
   ],
   "source": [
    "a = input(\"Enter value of a = \")\n",
    "print(a)"
   ]
  },
  {
   "cell_type": "code",
   "execution_count": 36,
   "id": "2d847c84-8577-4c60-bd16-749abd620235",
   "metadata": {},
   "outputs": [
    {
     "name": "stdin",
     "output_type": "stream",
     "text": [
      "Enter value of a =  10\n",
      "Enter value of b =  10\n"
     ]
    },
    {
     "name": "stdout",
     "output_type": "stream",
     "text": [
      "20\n"
     ]
    }
   ],
   "source": [
    "a = int(input(\"Enter value of a = \"))\n",
    "b = int(input(\"Enter value of b = \"))\n",
    "c = a+b\n",
    "print(c)"
   ]
  },
  {
   "cell_type": "code",
   "execution_count": 40,
   "id": "ec91ec1d-3928-4d2c-adc6-f8e00867e09f",
   "metadata": {},
   "outputs": [
    {
     "name": "stdin",
     "output_type": "stream",
     "text": [
      "Enter p =  10000\n",
      "Enter t =  10.5\n",
      "Enter r =  8.9\n"
     ]
    },
    {
     "name": "stdout",
     "output_type": "stream",
     "text": [
      "The value of 1 =  9345.0\n"
     ]
    }
   ],
   "source": [
    "p = int(input(\"Enter p = \"))\n",
    "t = float(input(\"Enter t = \"))\n",
    "r = float(input(\"Enter r = \"))\n",
    "\n",
    "i = p*t*r/100\n",
    "\n",
    "print(\"The value of 1 = \",i)"
   ]
  },
  {
   "cell_type": "code",
   "execution_count": 42,
   "id": "81dd17b6-4f7f-44c6-b527-5dba30d84fab",
   "metadata": {},
   "outputs": [
    {
     "name": "stdin",
     "output_type": "stream",
     "text": [
      "Enter physics marks =  78\n",
      "Enter chemistry marks =  87\n",
      "Enter math marks =  89\n",
      "Enter english marks =  90\n",
      "Enter nepali marks =  89\n"
     ]
    },
    {
     "name": "stdout",
     "output_type": "stream",
     "text": [
      "The total marks = 433\n",
      "The per = 86.6\n"
     ]
    }
   ],
   "source": [
    "physics = int(input(\"Enter physics marks = \"))\n",
    "chemistry = int(input(\"Enter chemistry marks = \"))\n",
    "math = int(input(\"Enter math marks = \"))\n",
    "english = int(input(\"Enter english marks = \"))\n",
    "nepali = int(input(\"Enter nepali marks = \"))\n",
    "\n",
    "total = physics + chemistry + math + english + nepali\n",
    "\n",
    "per = total/5\n",
    "\n",
    "#print(total); Print(\"is total marks = \")\n",
    "print(\"The total marks =\",total)\n",
    "\n",
    "print(\"The per =\",per)"
   ]
  },
  {
   "cell_type": "code",
   "execution_count": 44,
   "id": "6b360d88-513f-42dc-8276-452195febdb1",
   "metadata": {},
   "outputs": [
    {
     "name": "stdin",
     "output_type": "stream",
     "text": [
      "Enter name Shyam\n"
     ]
    },
    {
     "name": "stdout",
     "output_type": "stream",
     "text": [
      "Shyam67Kathmandu\n"
     ]
    }
   ],
   "source": [
    "name = input(\"Enter name\")\n",
    "age = 67\n",
    "add = \"Kathmandu\"\n",
    "\n",
    "info = name + str(age) + add\n",
    "print(info)"
   ]
  },
  {
   "cell_type": "code",
   "execution_count": 46,
   "id": "3a8dc60d-0bd0-4f12-a606-c5c831403f7b",
   "metadata": {},
   "outputs": [
    {
     "name": "stdout",
     "output_type": "stream",
     "text": [
      "Hello World I am Shyam\n"
     ]
    }
   ],
   "source": [
    "info = \"Hello World I am \"+ name \n",
    "print(info)"
   ]
  },
  {
   "cell_type": "code",
   "execution_count": 48,
   "id": "67f56aa9-faa0-49e1-9b84-e9e1c1d20754",
   "metadata": {},
   "outputs": [
    {
     "name": "stdout",
     "output_type": "stream",
     "text": [
      "Hello World I am Shyam I am from Kathmandu I am 67 Years Old\n"
     ]
    }
   ],
   "source": [
    "info = \"Hello World I am \"+ name + \" I am from \" + add + \" I am \" + str(age) + \" Years Old\"\n",
    "print(info)"
   ]
  },
  {
   "cell_type": "code",
   "execution_count": 50,
   "id": "e4c1e85a-9566-48b6-bee4-2decc09e1f85",
   "metadata": {},
   "outputs": [],
   "source": [
    "#if <condition>:\n",
    "#    <operation>\n",
    "#elif <condition>:\n",
    "#    <operations>\n",
    "#else:\n",
    "#    <operations>"
   ]
  },
  {
   "cell_type": "code",
   "execution_count": 52,
   "id": "ebec4279-8b01-4a5a-b851-02c3faf1a6fe",
   "metadata": {},
   "outputs": [],
   "source": [
    "# > < >= <= == |="
   ]
  },
  {
   "cell_type": "code",
   "execution_count": 54,
   "id": "63e98bc2-2df5-4347-aa67-6710a936ba17",
   "metadata": {},
   "outputs": [
    {
     "name": "stdout",
     "output_type": "stream",
     "text": [
      "True\n"
     ]
    }
   ],
   "source": [
    "a = 10\n",
    "b = 3\n",
    "print(a>b)"
   ]
  },
  {
   "cell_type": "code",
   "execution_count": 56,
   "id": "e6a63eb3-a915-4ba9-8487-d2bdd581a298",
   "metadata": {},
   "outputs": [
    {
     "data": {
      "text/plain": [
       "True"
      ]
     },
     "execution_count": 56,
     "metadata": {},
     "output_type": "execute_result"
    }
   ],
   "source": [
    "11%2 != 0"
   ]
  },
  {
   "cell_type": "code",
   "execution_count": 58,
   "id": "d2a5a1b7-6b09-4cf6-9ed5-fdc57e7db8b9",
   "metadata": {},
   "outputs": [
    {
     "name": "stdin",
     "output_type": "stream",
     "text": [
      "Enter x =  11\n"
     ]
    },
    {
     "name": "stdout",
     "output_type": "stream",
     "text": [
      "The no is odd\n"
     ]
    }
   ],
   "source": [
    "x = int(input(\"Enter x = \"))\n",
    "if x % 2 == 0:\n",
    "    print(\"The no is even\")\n",
    "else:\n",
    "    print(\"The no is odd\")"
   ]
  },
  {
   "cell_type": "code",
   "execution_count": 60,
   "id": "531a7512-add4-4022-9dbe-47690c1c8d90",
   "metadata": {},
   "outputs": [
    {
     "name": "stdin",
     "output_type": "stream",
     "text": [
      "Enter x =  10\n"
     ]
    },
    {
     "name": "stdout",
     "output_type": "stream",
     "text": [
      "The no is +ve\n"
     ]
    }
   ],
   "source": [
    "x = int(input(\"Enter x = \"))\n",
    "if x >= 0:\n",
    "    print(\"The no is +ve\")\n",
    "else:\n",
    "    print(\"The no is -ve\")"
   ]
  },
  {
   "cell_type": "code",
   "execution_count": 62,
   "id": "8394b1f8-a80f-4751-9a88-90e99f08343b",
   "metadata": {},
   "outputs": [
    {
     "name": "stdin",
     "output_type": "stream",
     "text": [
      "Enter a =  10\n",
      "Enter b =  15\n"
     ]
    },
    {
     "name": "stdout",
     "output_type": "stream",
     "text": [
      "b is greather than a\n"
     ]
    }
   ],
   "source": [
    "a = int(input(\"Enter a = \"))\n",
    "b = int(input(\"Enter b = \"))\n",
    "if a>b:\n",
    "    print(\"a is greater than b\")\n",
    "elif b>a:\n",
    "    print(\"b is greather than a\")\n",
    "else:\n",
    "    print(\"Both are equal\")"
   ]
  },
  {
   "cell_type": "code",
   "execution_count": 64,
   "id": "8e24f982-ac37-4441-8419-03fe2daaba0e",
   "metadata": {},
   "outputs": [
    {
     "name": "stdin",
     "output_type": "stream",
     "text": [
      "Enter a =  10\n",
      "Enter b =  0\n",
      "Enter  + or - or * or /  /\n"
     ]
    },
    {
     "name": "stdout",
     "output_type": "stream",
     "text": [
      "The value of b can not be zero\n"
     ]
    }
   ],
   "source": [
    "# WAP to create a basic calculator\n",
    "a = int(input(\"Enter a = \"))\n",
    "b = int(input(\"Enter b = \"))\n",
    "o = input(\"Enter  + or - or * or / \")\n",
    "if o == '-':\n",
    "    print(a*b)\n",
    "elif o == '*':\n",
    "    print(a*b)\n",
    "elif o == '/' and b != 0:\n",
    "    print(a/b)\n",
    "elif o == '/' and b == 0:\n",
    "    print(\"The value of b can not be zero\")\n",
    "else:\n",
    "    print(\"Invalid operator\")"
   ]
  },
  {
   "cell_type": "code",
   "execution_count": 66,
   "id": "e3f889c5-1930-49bd-ab67-e1e7606db103",
   "metadata": {},
   "outputs": [],
   "source": [
    "# Logical operator\n",
    "# and  &\n",
    "# or   |"
   ]
  },
  {
   "cell_type": "code",
   "execution_count": 68,
   "id": "e20f213f-3d3a-4722-a8e6-2a90b2800ca8",
   "metadata": {},
   "outputs": [
    {
     "name": "stdout",
     "output_type": "stream",
     "text": [
      "False\n",
      "False\n",
      "True\n",
      "False\n"
     ]
    }
   ],
   "source": [
    "# and\n",
    "print(True and False)\n",
    "print(False and True)\n",
    "print(True and True)\n",
    "print(False and True)"
   ]
  },
  {
   "cell_type": "code",
   "execution_count": 70,
   "id": "33ce19c6-788b-498a-ae22-d3e8309ed566",
   "metadata": {},
   "outputs": [
    {
     "name": "stdout",
     "output_type": "stream",
     "text": [
      "False\n",
      "False\n",
      "True\n",
      "False\n"
     ]
    }
   ],
   "source": [
    "# or\n",
    "print(True and False)\n",
    "print(False and True)\n",
    "print(True and True)\n",
    "print(False and True)"
   ]
  },
  {
   "cell_type": "code",
   "execution_count": 72,
   "id": "33da5b6a-8b47-45c6-8dcb-989c6a4ad3aa",
   "metadata": {},
   "outputs": [
    {
     "name": "stdin",
     "output_type": "stream",
     "text": [
      "Enter physics marks =  89\n",
      "Enter chemistry marks =  90\n",
      "Enter math marks =  78\n",
      "Enter english marks =  98\n",
      "Enter nepali marks =  90\n"
     ]
    },
    {
     "name": "stdout",
     "output_type": "stream",
     "text": [
      "the total marks 445\n",
      "The per = 89.0\n",
      "The grade = A\n"
     ]
    }
   ],
   "source": [
    "physics = int(input(\"Enter physics marks = \"))\n",
    "chemistry = int(input(\"Enter chemistry marks = \"))\n",
    "math = int(input(\"Enter math marks = \"))\n",
    "english = int(input(\"Enter english marks = \"))\n",
    "nepali = int(input(\"Enter nepali marks = \"))\n",
    "\n",
    "total = physics + chemistry + math + english + nepali\n",
    "\n",
    "per = total/5\n",
    "\n",
    "if per >= 80:\n",
    "    grade = \"A\"\n",
    "elif per >= 60:\n",
    "    grade = \"B\"\n",
    "elif per >= 45:\n",
    "    grade = \"C\"\n",
    "else:\n",
    "    grade = \"F\"\n",
    "\n",
    "print(\"the total marks\",total)\n",
    "print(\"The per =\",per)\n",
    "print(\"The grade =\",grade)"
   ]
  },
  {
   "cell_type": "code",
   "execution_count": 76,
   "id": "75b11949-d730-4dca-98cf-99440cba59b4",
   "metadata": {},
   "outputs": [
    {
     "name": "stdin",
     "output_type": "stream",
     "text": [
      "Enter a =  10\n"
     ]
    },
    {
     "name": "stdout",
     "output_type": "stream",
     "text": [
      "The number is positive\n",
      "It is also even\n"
     ]
    }
   ],
   "source": [
    "# Nested ifelse\n",
    "a = int(input(\"Enter a = \"))\n",
    "\n",
    "if a >= 0:\n",
    "    print(\"The number is positive\")\n",
    "    if a % 2 == 0:\n",
    "        print(\"It is also even\")\n",
    "    else:\n",
    "        print(\"It is also odd\")\n",
    "else:\n",
    "    print(\"The number is negitive\")\n",
    "    if a % 2 == 0:\n",
    "        print(\"It is also even\")\n",
    "    else:\n",
    "        print(\"It is also odd\")"
   ]
  },
  {
   "cell_type": "code",
   "execution_count": 78,
   "id": "27a2bcca-cba4-41bb-95d3-3a760a8dc6f7",
   "metadata": {},
   "outputs": [],
   "source": [
    "# loop\n",
    "# for loop\n",
    "# while loop,"
   ]
  },
  {
   "cell_type": "code",
   "execution_count": 80,
   "id": "c1f587ed-578c-42f2-9363-57dffda324b5",
   "metadata": {},
   "outputs": [],
   "source": [
    "# range(5)    0,1,2,3,4\n",
    "# range(1,5)  1,2,3,4\n",
    "# range(1,10,2) 1,3,5,7,9"
   ]
  },
  {
   "cell_type": "code",
   "execution_count": 82,
   "id": "075bb12f-d5c0-4f40-8e7f-cc4695d25fc3",
   "metadata": {},
   "outputs": [
    {
     "name": "stdout",
     "output_type": "stream",
     "text": [
      "0 Hello World\n",
      "1 Hello World\n",
      "2 Hello World\n",
      "3 Hello World\n",
      "4 Hello World\n"
     ]
    }
   ],
   "source": [
    "for i in range(5):\n",
    "    print(i, \"Hello World\")"
   ]
  },
  {
   "cell_type": "code",
   "execution_count": 84,
   "id": "882f6468-3e7b-4de1-ac1f-e655ec89f954",
   "metadata": {},
   "outputs": [
    {
     "name": "stdout",
     "output_type": "stream",
     "text": [
      "1 Hello World\n",
      "3 Hello World\n",
      "5 Hello World\n"
     ]
    }
   ],
   "source": [
    "for i in range(1,6,2):       #1, 1+2, 3+2\n",
    "    print(i, \"Hello World\")"
   ]
  },
  {
   "cell_type": "code",
   "execution_count": 86,
   "id": "0967e084-079e-41c7-9357-36090c9f35e7",
   "metadata": {},
   "outputs": [
    {
     "name": "stdout",
     "output_type": "stream",
     "text": [
      "5 Hello World\n",
      "4 Hello World\n",
      "3 Hello World\n",
      "2 Hello World\n",
      "1 Hello World\n"
     ]
    }
   ],
   "source": [
    "for i in range(5,0,-1):\n",
    "    print(i, \"Hello World\")"
   ]
  },
  {
   "cell_type": "code",
   "execution_count": 88,
   "id": "964fa3d3-b633-4d62-9460-5ba47870548a",
   "metadata": {},
   "outputs": [],
   "source": [
    "# WAP to create a multiplication table "
   ]
  },
  {
   "cell_type": "code",
   "execution_count": 92,
   "id": "e3d4bb50-2cd4-4896-bedc-497f80355046",
   "metadata": {},
   "outputs": [
    {
     "name": "stdin",
     "output_type": "stream",
     "text": [
      "Enter x =  5\n"
     ]
    },
    {
     "name": "stdout",
     "output_type": "stream",
     "text": [
      "5\n",
      "10\n",
      "15\n",
      "20\n",
      "25\n",
      "30\n",
      "35\n",
      "40\n",
      "45\n",
      "50\n"
     ]
    }
   ],
   "source": [
    "x = int(input(\"Enter x = \"))\n",
    "for i in range(1,11):\n",
    "    print(x*i)"
   ]
  },
  {
   "cell_type": "code",
   "execution_count": 94,
   "id": "2aa7aed9-d346-4f68-92a7-2c4a722070b5",
   "metadata": {},
   "outputs": [
    {
     "name": "stdin",
     "output_type": "stream",
     "text": [
      "Enter x =  5\n"
     ]
    },
    {
     "name": "stdout",
     "output_type": "stream",
     "text": [
      "5 * 1 = 5\n",
      "5 * 2 = 10\n",
      "5 * 3 = 15\n",
      "5 * 4 = 20\n",
      "5 * 5 = 25\n",
      "5 * 6 = 30\n",
      "5 * 7 = 35\n",
      "5 * 8 = 40\n",
      "5 * 9 = 45\n",
      "5 * 10 = 50\n"
     ]
    }
   ],
   "source": [
    "x = int(input(\"Enter x = \"))\n",
    "for i in range(1,11):\n",
    "    print(x,\"*\",i,\"=\",x*i)    #5 * 1 = 5"
   ]
  },
  {
   "cell_type": "code",
   "execution_count": 96,
   "id": "5468de1f-75c8-4106-a1f8-e26b919905db",
   "metadata": {},
   "outputs": [],
   "source": [
    "# WAP that calculates sum of given numbers"
   ]
  },
  {
   "cell_type": "code",
   "execution_count": 98,
   "id": "a25493b7-8718-47f4-9766-6e22f10c0763",
   "metadata": {},
   "outputs": [
    {
     "name": "stdin",
     "output_type": "stream",
     "text": [
      "Enter no of entries =  2\n",
      "Enter money =  1000\n"
     ]
    },
    {
     "name": "stdout",
     "output_type": "stream",
     "text": [
      "1000.0\n"
     ]
    },
    {
     "name": "stdin",
     "output_type": "stream",
     "text": [
      "Enter money =  1000\n"
     ]
    },
    {
     "name": "stdout",
     "output_type": "stream",
     "text": [
      "2100.0\n"
     ]
    }
   ],
   "source": [
    "s = 0\n",
    "n = int(input(\"Enter no of entries = \"))\n",
    "for i in range(n):\n",
    "    m = int(input(\"Enter money = \"))\n",
    "    s = s*1.1 + m\n",
    "    print(s)"
   ]
  },
  {
   "cell_type": "code",
   "execution_count": 106,
   "id": "b7292f73-b187-49e0-bb7a-1b894d9be0b4",
   "metadata": {},
   "outputs": [
    {
     "name": "stdin",
     "output_type": "stream",
     "text": [
      "Enter no of entries =  2\n",
      "Enter money =  1000\n"
     ]
    },
    {
     "name": "stdout",
     "output_type": "stream",
     "text": [
      "1100.0\n"
     ]
    },
    {
     "name": "stdin",
     "output_type": "stream",
     "text": [
      "Enter money =  1000\n"
     ]
    },
    {
     "name": "stdout",
     "output_type": "stream",
     "text": [
      "2310.0\n"
     ]
    }
   ],
   "source": [
    "s = 0\n",
    "n = int(input(\"Enter no of entries = \"))\n",
    "for i in range(n):\n",
    "    m = int(input(\"Enter money = \"))\n",
    "    s = s + m\n",
    "    s = s*1.1\n",
    "    print(s)"
   ]
  },
  {
   "cell_type": "code",
   "execution_count": 108,
   "id": "e3b2d379-da3f-4042-b700-ae9aaf7e967b",
   "metadata": {},
   "outputs": [
    {
     "name": "stdin",
     "output_type": "stream",
     "text": [
      "Enter n =  5\n"
     ]
    },
    {
     "name": "stdout",
     "output_type": "stream",
     "text": [
      "1\n",
      "2\n",
      "6\n",
      "24\n",
      "120\n"
     ]
    }
   ],
   "source": [
    "# WAP to calculate factorial\n",
    "#5! = 1*2*3*4*5\n",
    "fac = 1\n",
    "n = int(input(\"Enter n = \"))\n",
    "for i in range(1,n+1):\n",
    "    fac = fac * i\n",
    "    print(fac)"
   ]
  },
  {
   "cell_type": "code",
   "execution_count": 110,
   "id": "f28c5bba-a794-4d77-a331-d9c11d2c1501",
   "metadata": {},
   "outputs": [],
   "source": [
    "# WAP to calculate the sum of all numbers\n",
    "i = 10\n",
    "x = 1+2+3+4+5+6+7+8+9+10"
   ]
  },
  {
   "cell_type": "code",
   "execution_count": 112,
   "id": "eff801bd-c3dc-4548-a399-9179a0ce64ee",
   "metadata": {},
   "outputs": [
    {
     "name": "stdout",
     "output_type": "stream",
     "text": [
      "The sum is: 1\n",
      "The sum is: 3\n",
      "The sum is: 6\n",
      "The sum is: 10\n",
      "The sum is: 15\n",
      "The sum is: 21\n",
      "The sum is: 28\n",
      "The sum is: 36\n",
      "The sum is: 45\n",
      "The sum is: 55\n"
     ]
    }
   ],
   "source": [
    "i = 10\n",
    "total = 0\n",
    "for num in range(1, i + 1):\n",
    "    total += num\n",
    "    print(\"The sum is:\", total)"
   ]
  },
  {
   "cell_type": "code",
   "execution_count": 114,
   "id": "06dc91ce-3d43-4791-b758-4f0d407fefad",
   "metadata": {},
   "outputs": [],
   "source": [
    "# loop ins string"
   ]
  },
  {
   "cell_type": "code",
   "execution_count": 116,
   "id": "96a007d5-74e3-4028-b6f2-e45fe26af732",
   "metadata": {},
   "outputs": [
    {
     "name": "stdout",
     "output_type": "stream",
     "text": [
      "11\n",
      "H e l l o   W o r l d "
     ]
    }
   ],
   "source": [
    "a = \"Hello World\"\n",
    "print(len(a))\n",
    "for i in a:\n",
    "    print(i, end = \" \")"
   ]
  },
  {
   "cell_type": "code",
   "execution_count": 118,
   "id": "bf58801a-6e4e-4408-ab20-9a64ac90cb31",
   "metadata": {},
   "outputs": [
    {
     "name": "stdout",
     "output_type": "stream",
     "text": [
      "Hello World I am Python"
     ]
    }
   ],
   "source": [
    "a = \"Hello World. I am Python.\"\n",
    "for i in a:\n",
    "    if i != \".\":\n",
    "        print(i, end = \"\")"
   ]
  },
  {
   "cell_type": "code",
   "execution_count": 120,
   "id": "983d98e6-424e-45e3-9f94-e25fb06e8307",
   "metadata": {},
   "outputs": [
    {
     "name": "stdout",
     "output_type": "stream",
     "text": [
      "Hello World I am Python"
     ]
    }
   ],
   "source": [
    "a = \"Hello World! I am Python.\"\n",
    "for i in a:\n",
    "     if i != \"!\" and i != \".\":       #True  False = False     \n",
    "        print(i, end = \"\")"
   ]
  },
  {
   "cell_type": "code",
   "execution_count": 122,
   "id": "19951339-0ddc-41ef-b8e5-39f63911b353",
   "metadata": {},
   "outputs": [
    {
     "name": "stdin",
     "output_type": "stream",
     "text": [
      "Enter how many people =  2\n",
      "Enter name =  Ram\n",
      "Enter phone =  98616516132\n"
     ]
    },
    {
     "name": "stdout",
     "output_type": "stream",
     "text": [
      "Ram 98616516132\n",
      "\n"
     ]
    },
    {
     "name": "stdin",
     "output_type": "stream",
     "text": [
      "Enter name =  Shyam\n",
      "Enter phone =  9808165651\n"
     ]
    },
    {
     "name": "stdout",
     "output_type": "stream",
     "text": [
      "Ram 98616516132\n",
      "Shyam 9808165651\n",
      "\n"
     ]
    }
   ],
   "source": [
    "# WAP to take name and phone number from users and create a simple data application\n",
    "# info = str()\n",
    "# Ram+985352235\n",
    "# shyam+9860325635\n",
    "info = \"\"\n",
    "n = int(input(\"Enter how many people = \"))\n",
    "for i in range(n):\n",
    "    name = input(\"Enter name = \")\n",
    "    phone = input(\"Enter phone = \")\n",
    "    data = name + \" \" + phone + \"\\n\"\n",
    "    info = info + data\n",
    "\n",
    "    print(info)"
   ]
  },
  {
   "cell_type": "code",
   "execution_count": 124,
   "id": "a4aa57a8-53b4-48f3-b54b-4c2a9ac6deec",
   "metadata": {},
   "outputs": [
    {
     "name": "stdin",
     "output_type": "stream",
     "text": [
      "Enter n =  2\n",
      "Enter product name =  momo\n",
      "Enter qut =  2\n",
      "Enter price =  150\n",
      "Enter product name =  coke\n",
      "Enter qut =  2\n",
      "Enter price =  60\n"
     ]
    },
    {
     "name": "stdout",
     "output_type": "stream",
     "text": [
      "Bill =\n",
      " momo 150.0 2.0 300.0\n",
      "coke 60.0 2.0 120.0\n",
      "\n",
      "All total =\n",
      " 420.0\n"
     ]
    }
   ],
   "source": [
    "info = \"\"\n",
    "grand_total = 0\n",
    "n = int(input(\"Enter n = \"))\n",
    "for i in range(n):\n",
    "    product = input(\"Enter product name = \")\n",
    "    qty = float(input(\"Enter qut = \"))\n",
    "    price = float(input(\"Enter price = \"))\n",
    "    total = price * qty\n",
    "    row = product + \" \" + str(price) +\" \"+ str(qty) +\" \"+ str(total) + \"\\n\"\n",
    "    info = info + row\n",
    "    grand_total = grand_total +total\n",
    "\n",
    "print(\"Bill =\\n\" ,info)\n",
    "print(\"All total =\\n\" ,grand_total)"
   ]
  },
  {
   "cell_type": "code",
   "execution_count": 126,
   "id": "76102fb5-1088-4dc4-af17-b275f95ee172",
   "metadata": {},
   "outputs": [
    {
     "name": "stdout",
     "output_type": "stream",
     "text": [
      "\n",
      "o\n",
      "oo\n",
      "ooo\n",
      "oooo\n"
     ]
    }
   ],
   "source": [
    "for i in range(5): #0,1,2,3,4\n",
    "    print(i*\"o\")"
   ]
  },
  {
   "cell_type": "code",
   "execution_count": 128,
   "id": "4f8f7c14-ae28-437e-a4f4-3eaa529aa024",
   "metadata": {},
   "outputs": [
    {
     "name": "stdout",
     "output_type": "stream",
     "text": [
      "ooooo\n",
      "oooo\n",
      "ooo\n",
      "oo\n",
      "o\n"
     ]
    }
   ],
   "source": [
    "for i in range(5,0,-1): #5,4,3,2,1\n",
    "    print(i*\"o\")"
   ]
  },
  {
   "cell_type": "code",
   "execution_count": 130,
   "id": "a5816111-aa78-473b-bcb5-9cf568b540bf",
   "metadata": {},
   "outputs": [
    {
     "name": "stdout",
     "output_type": "stream",
     "text": [
      " o\n",
      "  o\n",
      "    o\n",
      "      o\n",
      "        o\n",
      "        o\n",
      "        o\n"
     ]
    }
   ],
   "source": [
    "for i in range(5):\n",
    "    print((2*i-1)*\" \",*\"o\")\n",
    "print((2*i-1)*\" \",*\"o\")\n",
    "print((2*i-1)*\" \",*\"o\")"
   ]
  },
  {
   "cell_type": "code",
   "execution_count": 132,
   "id": "a8f5a3e4-db3c-4dbe-9203-ac6de6c42f6a",
   "metadata": {},
   "outputs": [],
   "source": [
    "# Control statemants"
   ]
  },
  {
   "cell_type": "code",
   "execution_count": 134,
   "id": "bda81a4c-e0b6-4620-876f-492e57c175db",
   "metadata": {},
   "outputs": [],
   "source": [
    "# break\n",
    "# continue"
   ]
  },
  {
   "cell_type": "code",
   "execution_count": 136,
   "id": "21520318-abcf-42cc-b32d-3d3ebcc89e14",
   "metadata": {},
   "outputs": [
    {
     "name": "stdout",
     "output_type": "stream",
     "text": [
      "0\n",
      "1\n",
      "2\n",
      "3\n",
      "4\n"
     ]
    }
   ],
   "source": [
    "# break\n",
    "for i in range(10):\n",
    "    if i == 5:\n",
    "        break\n",
    "    print(i)"
   ]
  },
  {
   "cell_type": "code",
   "execution_count": 138,
   "id": "62dcedcb-091b-465f-b71b-19ddd7eb7e4a",
   "metadata": {},
   "outputs": [
    {
     "name": "stdout",
     "output_type": "stream",
     "text": [
      "0\n",
      "1\n",
      "2\n",
      "3\n",
      "4\n",
      "6\n",
      "7\n",
      "8\n",
      "9\n"
     ]
    }
   ],
   "source": [
    "# continue\n",
    "for i in range(10):\n",
    "    if i == 5:\n",
    "        continue\n",
    "    print(i)"
   ]
  },
  {
   "cell_type": "code",
   "execution_count": 140,
   "id": "6392ffbb-c99b-45c6-9284-56311bb2fc81",
   "metadata": {},
   "outputs": [
    {
     "name": "stdout",
     "output_type": "stream",
     "text": [
      "Hello World"
     ]
    }
   ],
   "source": [
    "a = \"Hello World. I am from Kathmandu.\"\n",
    "for i in a:\n",
    "    if i == \".\":\n",
    "        break\n",
    "    print(i, end = \"\")"
   ]
  },
  {
   "cell_type": "code",
   "execution_count": 142,
   "id": "3db1aa24-2238-4369-998b-531fe7ea139c",
   "metadata": {},
   "outputs": [
    {
     "name": "stdout",
     "output_type": "stream",
     "text": [
      "Hello World I am from Kathmandu"
     ]
    }
   ],
   "source": [
    "a = \"Hello World. I am from Kathmandu.\"\n",
    "for i in a:\n",
    "    if i == \".\":\n",
    "        continue\n",
    "    else:\n",
    "        print(i, end = \"\")"
   ]
  },
  {
   "cell_type": "code",
   "execution_count": 144,
   "id": "edb98246-1d95-402e-8cfa-a6033fbb69d3",
   "metadata": {},
   "outputs": [
    {
     "name": "stdin",
     "output_type": "stream",
     "text": [
      "Enter n =  11\n"
     ]
    },
    {
     "name": "stdout",
     "output_type": "stream",
     "text": [
      "prime no\n"
     ]
    }
   ],
   "source": [
    "# WAP to find if the number is prime or composite\n",
    "# prime no: 2,3,5,7,11,13\n",
    "# composite no:4,6,8,9,10,12\n",
    "n = int(input(\"Enter n = \"))\n",
    "for i in range(2,n):\n",
    "    if n % i == 0:\n",
    "        print(\"composite no.\")\n",
    "        break\n",
    "else:\n",
    "    print(\"prime no\")"
   ]
  },
  {
   "cell_type": "code",
   "execution_count": 146,
   "id": "d127c707-f744-4bc5-8fb1-fefa9ed84eea",
   "metadata": {},
   "outputs": [],
   "source": [
    "# While loop\n",
    "# while <condition>:\n",
    "#     <operations>"
   ]
  },
  {
   "cell_type": "code",
   "execution_count": 148,
   "id": "227fe9ac-2ab5-4744-8045-4f77d44850ef",
   "metadata": {},
   "outputs": [
    {
     "name": "stdout",
     "output_type": "stream",
     "text": [
      "0\n",
      "1\n",
      "2\n",
      "3\n",
      "4\n"
     ]
    }
   ],
   "source": [
    "i = 0\n",
    "while i <5:\n",
    "    print(i)\n",
    "    i = i+1"
   ]
  },
  {
   "cell_type": "code",
   "execution_count": 150,
   "id": "ff2ae57f-ecc3-45c8-b65c-b27f5d5161c4",
   "metadata": {},
   "outputs": [
    {
     "name": "stdout",
     "output_type": "stream",
     "text": [
      "0\n",
      "1\n",
      "2\n",
      "3\n",
      "4\n",
      "5\n"
     ]
    }
   ],
   "source": [
    "i = 0\n",
    "while i <10:\n",
    "    if i == 6:\n",
    "        break\n",
    "    print(i)\n",
    "    i = i+1"
   ]
  },
  {
   "cell_type": "code",
   "execution_count": 152,
   "id": "97f5d937-0e41-404c-a04a-98888626c7bf",
   "metadata": {},
   "outputs": [
    {
     "name": "stdout",
     "output_type": "stream",
     "text": [
      "0\n",
      "1\n",
      "2\n",
      "3\n",
      "4\n",
      "5\n",
      "7\n",
      "8\n",
      "9\n"
     ]
    }
   ],
   "source": [
    "i = 0\n",
    "while i <10:\n",
    "    if i == 6:\n",
    "        i = i + 1\n",
    "        continue\n",
    "    print(i)\n",
    "    i = i+1"
   ]
  },
  {
   "cell_type": "code",
   "execution_count": 154,
   "id": "c1fd3358-a780-4d21-84ae-660b81b628f6",
   "metadata": {},
   "outputs": [
    {
     "name": "stdout",
     "output_type": "stream",
     "text": [
      "5\n",
      "4\n",
      "3\n",
      "2\n",
      "1\n"
     ]
    }
   ],
   "source": [
    "i = 5\n",
    "while i >0:\n",
    "    print(i)\n",
    "    i = i-1"
   ]
  },
  {
   "cell_type": "code",
   "execution_count": 156,
   "id": "a5f0aab6-6381-4189-9408-b6f1ce1641fc",
   "metadata": {},
   "outputs": [
    {
     "name": "stdin",
     "output_type": "stream",
     "text": [
      "Enter x =  5\n"
     ]
    },
    {
     "name": "stdout",
     "output_type": "stream",
     "text": [
      "5 * 1 = 5\n",
      "5 * 2 = 10\n",
      "5 * 3 = 15\n",
      "5 * 4 = 20\n",
      "5 * 5 = 25\n",
      "5 * 6 = 30\n",
      "5 * 7 = 35\n",
      "5 * 8 = 40\n",
      "5 * 9 = 45\n",
      "5 * 10 = 50\n"
     ]
    }
   ],
   "source": [
    "i = 1\n",
    "x = int(input(\"Enter x = \"))\n",
    "while i<=10:\n",
    "    print(x,\"*\",i,\"=\",x*i)\n",
    "    i = i+1"
   ]
  },
  {
   "cell_type": "code",
   "execution_count": 158,
   "id": "b7db057d-e484-4ddc-a233-2571e064005e",
   "metadata": {},
   "outputs": [
    {
     "name": "stdin",
     "output_type": "stream",
     "text": [
      "Enter no of entries =  2\n",
      "Enter money =  1000\n",
      "Enter money =  2000\n"
     ]
    },
    {
     "name": "stdout",
     "output_type": "stream",
     "text": [
      "3000\n"
     ]
    }
   ],
   "source": [
    "i = 0\n",
    "s = 0\n",
    "n = int(input(\"Enter no of entries = \"))\n",
    "while i<n:\n",
    "    m = int(input(\"Enter money = \"))\n",
    "    s = s*1 + m\n",
    "    i = i+1\n",
    "print(s)"
   ]
  },
  {
   "cell_type": "code",
   "execution_count": 160,
   "id": "59a33297-24eb-4284-88a3-41c636944d5d",
   "metadata": {},
   "outputs": [
    {
     "name": "stdout",
     "output_type": "stream",
     "text": [
      "Hello Wrold\n",
      "Hello World\n",
      "Hello world\n"
     ]
    }
   ],
   "source": [
    "# string\n",
    "a = 'Hello Wrold'\n",
    "b = \"Hello World\"\n",
    "c = '''Hello world'''\n",
    "\n",
    "print(a)\n",
    "print(b)\n",
    "print(c)"
   ]
  },
  {
   "cell_type": "code",
   "execution_count": 162,
   "id": "3ae3c5ea-779a-496b-9e6c-c717904cc652",
   "metadata": {},
   "outputs": [
    {
     "name": "stdout",
     "output_type": "stream",
     "text": [
      "HelloWorld\n"
     ]
    }
   ],
   "source": [
    "a = \"Hello\"\n",
    "b = \"World\"\n",
    "c = a+b\n",
    "print(c)"
   ]
  },
  {
   "cell_type": "code",
   "execution_count": 164,
   "id": "b1eb6904-dcfe-4a43-b753-11314f4688cc",
   "metadata": {},
   "outputs": [
    {
     "name": "stdout",
     "output_type": "stream",
     "text": [
      "Hello World Hello World \n"
     ]
    }
   ],
   "source": [
    "a = \"Hello World \"\n",
    "print(a*2)"
   ]
  },
  {
   "cell_type": "code",
   "execution_count": 166,
   "id": "a06b7a18-5d1e-4474-bb28-e46977f90169",
   "metadata": {},
   "outputs": [
    {
     "name": "stdin",
     "output_type": "stream",
     "text": [
      "Enter name =  Hello World\n"
     ]
    },
    {
     "name": "stdout",
     "output_type": "stream",
     "text": [
      "Hello World\n"
     ]
    }
   ],
   "source": [
    "name = input(\"Enter name = \")\n",
    "print(name)"
   ]
  },
  {
   "cell_type": "code",
   "execution_count": 168,
   "id": "bb412d1f-c150-4a79-8c72-4698a0be75f8",
   "metadata": {},
   "outputs": [],
   "source": [
    "# Imutable datatype"
   ]
  },
  {
   "cell_type": "code",
   "execution_count": 170,
   "id": "12e0cd0b-7b19-4931-a903-554d0c8d4c8c",
   "metadata": {},
   "outputs": [
    {
     "name": "stdout",
     "output_type": "stream",
     "text": [
      "H\n",
      "e\n",
      "l\n",
      "l\n",
      "o\n"
     ]
    }
   ],
   "source": [
    "a = \"Hello\"\n",
    "for i in a:\n",
    "    print(i)"
   ]
  },
  {
   "cell_type": "code",
   "execution_count": 174,
   "id": "877b1fa8-c4c2-428d-b8c9-616886434fd8",
   "metadata": {},
   "outputs": [
    {
     "name": "stdout",
     "output_type": "stream",
     "text": [
      "0\n",
      "1\n",
      "2\n",
      "3\n",
      "4\n",
      "5\n",
      "6\n",
      "7\n",
      "8\n",
      "9\n"
     ]
    }
   ],
   "source": [
    "a = 10\n",
    "for i in range(a):\n",
    "    print(i)"
   ]
  },
  {
   "cell_type": "code",
   "execution_count": 176,
   "id": "c571e9f5-f072-4376-be27-d6475a16ecf1",
   "metadata": {},
   "outputs": [
    {
     "name": "stdout",
     "output_type": "stream",
     "text": [
      "H\n",
      "d\n"
     ]
    }
   ],
   "source": [
    "#Indexing\n",
    "a = \"Hello World\"\n",
    "print(a[0])\n",
    "print(a[-1])"
   ]
  },
  {
   "cell_type": "code",
   "execution_count": 178,
   "id": "7d0ab277-300d-4617-b43c-3d05792b2f3b",
   "metadata": {},
   "outputs": [
    {
     "name": "stdout",
     "output_type": "stream",
     "text": [
      "Hello\n",
      " World\n"
     ]
    }
   ],
   "source": [
    "#Slicing\n",
    "b = a[0:5]\n",
    "c = a[5:]\n",
    "print(b)\n",
    "print(c)"
   ]
  },
  {
   "cell_type": "code",
   "execution_count": 180,
   "id": "2f9aae7f-e968-4c44-912a-ae6b104f5acd",
   "metadata": {},
   "outputs": [
    {
     "name": "stdout",
     "output_type": "stream",
     "text": [
      "H e l l o   W o r l d "
     ]
    }
   ],
   "source": [
    "a = \"Hello World\"\n",
    "l = len(a)\n",
    "for i in range(l):\n",
    "    print(a[i], end = \" \")"
   ]
  },
  {
   "cell_type": "code",
   "execution_count": 182,
   "id": "46d04a52-f0e3-44b0-a3f6-b6b87ec76c5c",
   "metadata": {},
   "outputs": [
    {
     "name": "stdout",
     "output_type": "stream",
     "text": [
      "H e l l o   W o r l d "
     ]
    }
   ],
   "source": [
    "i = 0\n",
    "while i<len(a):\n",
    "    print(a[i], end =\" \")\n",
    "    i = i+1"
   ]
  },
  {
   "cell_type": "code",
   "execution_count": 184,
   "id": "5d0e4cb8-0a6d-405c-b5d8-34a71632493a",
   "metadata": {},
   "outputs": [
    {
     "name": "stdout",
     "output_type": "stream",
     "text": [
      "Hello World I am Ram. I am from Kathmandu. I am 34\n"
     ]
    }
   ],
   "source": [
    "# string formating\n",
    "name = \"Ram\"\n",
    "age = 34\n",
    "add = \"Kathmandu\"\n",
    "info = f\"Hello World I am {name}. I am from {add}. I am {age}\"\n",
    "print(info)"
   ]
  },
  {
   "cell_type": "code",
   "execution_count": 186,
   "id": "ae1ff71a-382e-4c84-ad18-819d17adb7cf",
   "metadata": {},
   "outputs": [],
   "source": [
    "# WAP to create a billing system using string formatting"
   ]
  },
  {
   "cell_type": "code",
   "execution_count": 188,
   "id": "d010fb18-2118-40d3-8cff-93d4cd7bee66",
   "metadata": {},
   "outputs": [
    {
     "name": "stdin",
     "output_type": "stream",
     "text": [
      "Enter n =  2\n",
      "Enter product name =  momo\n",
      "Enter qut =  2\n",
      "Enter price =  150\n",
      "Enter product name =  coke\n",
      "Enter qut =  2\n",
      "Enter price =  70\n"
     ]
    },
    {
     "name": "stdout",
     "output_type": "stream",
     "text": [
      "Bill =\n",
      " momo 150.0 2.0 300.0\n",
      "coke 70.0 2.0 140.0\n",
      "\n",
      "All total =\n",
      " 440.0\n"
     ]
    }
   ],
   "source": [
    "info = \"\"\n",
    "grand_total = 0\n",
    "n = int(input(\"Enter n = \"))\n",
    "for i in range(n):\n",
    "    product = input(\"Enter product name = \")\n",
    "    qty = float(input(\"Enter qut = \"))\n",
    "    price = float(input(\"Enter price = \"))\n",
    "    total = price * qty\n",
    "    row = f\"{product} {price} {qty} {total}\\n\"\n",
    "    info = info + row\n",
    "    grand_total = grand_total +total \n",
    "\n",
    "print(\"Bill =\\n\" ,info)\n",
    "print(\"All total =\\n\" ,grand_total)"
   ]
  },
  {
   "cell_type": "code",
   "execution_count": 190,
   "id": "dcfe799f-6440-4e30-aca9-9bab5df1c9f6",
   "metadata": {},
   "outputs": [
    {
     "name": "stdout",
     "output_type": "stream",
     "text": [
      "Yes\n",
      "1\n"
     ]
    }
   ],
   "source": [
    "# search in string\n",
    "a = \"Ram Shyam Hari Sita Gopal\"\n",
    "b = \"Ram\"\n",
    "if b in a:\n",
    "    print(\"Yes\")\n",
    "    print(a.count(\"Ram\"))\n",
    "else:\n",
    "    print(\"No\")"
   ]
  },
  {
   "cell_type": "code",
   "execution_count": 192,
   "id": "36c6f97d-8b83-456e-b5a3-2bd1e1b9b989",
   "metadata": {},
   "outputs": [
    {
     "name": "stdin",
     "output_type": "stream",
     "text": [
      "Enter name = Ram\n"
     ]
    },
    {
     "name": "stdout",
     "output_type": "stream",
     "text": [
      "Yes\n",
      "1\n"
     ]
    }
   ],
   "source": [
    "a = \"Ram Shyam Hari Sita Gopal\"\n",
    "b = input(\"Enter name =\")\n",
    "if b in a:\n",
    "    print(\"Yes\")\n",
    "    print(a.count(b))\n",
    "else:\n",
    "    print(\"No\")"
   ]
  },
  {
   "cell_type": "code",
   "execution_count": 194,
   "id": "9b060006-efba-424d-9c02-f9d420f71d18",
   "metadata": {},
   "outputs": [
    {
     "name": "stdout",
     "output_type": "stream",
     "text": [
      "ram shyam hari sita gopal\n"
     ]
    }
   ],
   "source": [
    "a = \"Ram Shyam Hari Sita Gopal\"\n",
    "a = a.lower()\n",
    "print(a)"
   ]
  },
  {
   "cell_type": "code",
   "execution_count": 196,
   "id": "be3eda27-7fa0-4dbd-bc8f-925a65efb702",
   "metadata": {},
   "outputs": [
    {
     "name": "stdout",
     "output_type": "stream",
     "text": [
      "RAM SHYAM HARI SITA GOPAL\n"
     ]
    }
   ],
   "source": [
    "a = \"Ram Shyam Hari Sita Gopal\"\n",
    "a = a.upper()\n",
    "print(a)"
   ]
  },
  {
   "cell_type": "code",
   "execution_count": 198,
   "id": "10e588d7-3c54-4a30-9864-cc416d80bfc1",
   "metadata": {},
   "outputs": [
    {
     "name": "stdin",
     "output_type": "stream",
     "text": [
      "Enter name = Ram\n"
     ]
    },
    {
     "name": "stdout",
     "output_type": "stream",
     "text": [
      "Yes\n",
      "1\n"
     ]
    }
   ],
   "source": [
    "a = \"Ram Shyam Hari Sita Gopal\".lower()\n",
    "b = input(\"Enter name =\").lower()\n",
    "if b in a:\n",
    "    print(\"Yes\")\n",
    "    print(a.count(b))\n",
    "else:\n",
    "    print(\"No\")"
   ]
  },
  {
   "cell_type": "code",
   "execution_count": 200,
   "id": "5c9e2fb6-1e2e-489c-92bb-908d6e9f0863",
   "metadata": {},
   "outputs": [
    {
     "name": "stdout",
     "output_type": "stream",
     "text": [
      "Rama Shyam Hari Sita Gopal Rama Ramaesh\n"
     ]
    }
   ],
   "source": [
    "# replace\n",
    "a = \"Ram Shyam Hari Sita Gopal Ram Ramesh\"\n",
    "a = a.replace(\"Ram\",\"Rama\")\n",
    "print(a)"
   ]
  },
  {
   "cell_type": "code",
   "execution_count": 202,
   "id": "688304f7-3909-4e09-8004-f217893dacf2",
   "metadata": {},
   "outputs": [
    {
     "name": "stdout",
     "output_type": "stream",
     "text": [
      "Ram  Hari Sita Gopal Ram Ramesh\n"
     ]
    }
   ],
   "source": [
    "a = \"Ram Shyam Hari Sita Gopal Ram Ramesh\"\n",
    "a = a.replace(\"Shyam\",\"\")\n",
    "print(a)"
   ]
  },
  {
   "cell_type": "code",
   "execution_count": null,
   "id": "cd6b645b-c60e-475e-b700-95393c7eaf99",
   "metadata": {},
   "outputs": [],
   "source": []
  }
 ],
 "metadata": {
  "kernelspec": {
   "display_name": "Python [conda env:base] *",
   "language": "python",
   "name": "conda-base-py"
  },
  "language_info": {
   "codemirror_mode": {
    "name": "ipython",
    "version": 3
   },
   "file_extension": ".py",
   "mimetype": "text/x-python",
   "name": "python",
   "nbconvert_exporter": "python",
   "pygments_lexer": "ipython3",
   "version": "3.12.7"
  }
 },
 "nbformat": 4,
 "nbformat_minor": 5
}
