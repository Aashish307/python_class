{
 "cells": [
  {
   "cell_type": "code",
   "execution_count": 4,
   "id": "6e4bb38a-2298-447f-a21b-663bbe7f1937",
   "metadata": {},
   "outputs": [],
   "source": [
    "# try:\n",
    "#     <code that can raise exception>\n",
    "# except:\n",
    "#     <what to do if an exception occur>"
   ]
  },
  {
   "cell_type": "code",
   "execution_count": 6,
   "id": "fa314f00-ee67-47b7-94a8-e401fb884ef3",
   "metadata": {},
   "outputs": [
    {
     "name": "stdin",
     "output_type": "stream",
     "text": [
      "Enter a =  Ram\n"
     ]
    },
    {
     "name": "stdout",
     "output_type": "stream",
     "text": [
      "Please enter int value\n"
     ]
    }
   ],
   "source": [
    "try:\n",
    "    a = int(input(\"Enter a = \"))\n",
    "    b = int(input(\"Enter b = \"))\n",
    "    print(c)\n",
    "except:\n",
    "    print(\"Please enter int value\")"
   ]
  },
  {
   "cell_type": "code",
   "execution_count": 26,
   "id": "af5b4ad9-0b1a-4016-90fd-a493258428c6",
   "metadata": {},
   "outputs": [
    {
     "name": "stdout",
     "output_type": "stream",
     "text": [
      ",sn,name,age,address\n",
      "0,1,Ram,34,Kathmandu\n",
      "1,2,Shyam,56,Bhaktapur\n",
      "2,3,Hari,34,Lalitpur\n",
      "\n"
     ]
    }
   ],
   "source": [
    "try:\n",
    "    file = open('list_data.csv','r')\n",
    "    data = file.read()\n",
    "    print(data)\n",
    "    file.close()\n",
    "\n",
    "except:\n",
    "    print(\"There is no such file\")"
   ]
  },
  {
   "cell_type": "code",
   "execution_count": 28,
   "id": "01de482b-dcf3-46e1-9471-bdd25e120395",
   "metadata": {},
   "outputs": [
    {
     "name": "stdin",
     "output_type": "stream",
     "text": [
      "Enter a =  lksncl\n"
     ]
    },
    {
     "ename": "ValueError",
     "evalue": "invalid literal for int() with base 10: 'lksncl'",
     "output_type": "error",
     "traceback": [
      "\u001b[1;31m---------------------------------------------------------------------------\u001b[0m",
      "\u001b[1;31mValueError\u001b[0m                                Traceback (most recent call last)",
      "Cell \u001b[1;32mIn[28], line 1\u001b[0m\n\u001b[1;32m----> 1\u001b[0m a \u001b[38;5;241m=\u001b[39m \u001b[38;5;28mint\u001b[39m(\u001b[38;5;28minput\u001b[39m(\u001b[38;5;124m\"\u001b[39m\u001b[38;5;124mEnter a = \u001b[39m\u001b[38;5;124m\"\u001b[39m))\n",
      "\u001b[1;31mValueError\u001b[0m: invalid literal for int() with base 10: 'lksncl'"
     ]
    }
   ],
   "source": [
    "a = int(input(\"Enter a = \"))"
   ]
  },
  {
   "cell_type": "code",
   "execution_count": 30,
   "id": "470ea1bc-8351-4a73-8d00-a0cabdfd9416",
   "metadata": {},
   "outputs": [
    {
     "ename": "ZeroDivisionError",
     "evalue": "division by zero",
     "output_type": "error",
     "traceback": [
      "\u001b[1;31m---------------------------------------------------------------------------\u001b[0m",
      "\u001b[1;31mZeroDivisionError\u001b[0m                         Traceback (most recent call last)",
      "Cell \u001b[1;32mIn[30], line 1\u001b[0m\n\u001b[1;32m----> 1\u001b[0m \u001b[38;5;241m10\u001b[39m\u001b[38;5;241m/\u001b[39m\u001b[38;5;241m0\u001b[39m\n",
      "\u001b[1;31mZeroDivisionError\u001b[0m: division by zero"
     ]
    }
   ],
   "source": [
    "10/0"
   ]
  },
  {
   "cell_type": "code",
   "execution_count": 34,
   "id": "90d25d34-3441-4efe-b373-b72e56013bc5",
   "metadata": {},
   "outputs": [
    {
     "name": "stdin",
     "output_type": "stream",
     "text": [
      "Enter a =  10\n",
      "Enter b =  0\n"
     ]
    },
    {
     "name": "stdout",
     "output_type": "stream",
     "text": [
      "Value of b can not be zero\n"
     ]
    }
   ],
   "source": [
    "try:\n",
    "    a = int(input(\"Enter a = \"))\n",
    "    b = int(input(\"Enter b = \"))\n",
    "    c = a/b\n",
    "    print(c)\n",
    "except ValueError:\n",
    "    print(\"Please enter int value\")\n",
    "except ZeroDivisionError:\n",
    "    print(\"Value of b can not be zero\")"
   ]
  },
  {
   "cell_type": "code",
   "execution_count": 36,
   "id": "d8893d1b-16f5-4637-95f8-79de60af5e12",
   "metadata": {},
   "outputs": [
    {
     "name": "stdin",
     "output_type": "stream",
     "text": [
      "Enter a =  10\n",
      "Enter b =  2\n"
     ]
    },
    {
     "name": "stdout",
     "output_type": "stream",
     "text": [
      "5.0\n"
     ]
    }
   ],
   "source": [
    "try:\n",
    "    a = int(input(\"Enter a = \"))\n",
    "    b = int(input(\"Enter b = \"))\n",
    "    c = a/b\n",
    "\n",
    "except ValueError:\n",
    "    print(\"Please enter int value\")\n",
    "except ZeroDivisionError:\n",
    "    print(\"Value of b can not be zero\")\n",
    "else:\n",
    "    print(c)"
   ]
  },
  {
   "cell_type": "code",
   "execution_count": 40,
   "id": "525bfd58-1a2c-4ffb-ba81-22a6567e6e23",
   "metadata": {},
   "outputs": [
    {
     "ename": "AssertionError",
     "evalue": "",
     "output_type": "error",
     "traceback": [
      "\u001b[1;31m---------------------------------------------------------------------------\u001b[0m",
      "\u001b[1;31mAssertionError\u001b[0m                            Traceback (most recent call last)",
      "Cell \u001b[1;32mIn[40], line 5\u001b[0m\n\u001b[0;32m      2\u001b[0m a \u001b[38;5;241m=\u001b[39m \u001b[38;5;241m10\u001b[39m\n\u001b[0;32m      3\u001b[0m b \u001b[38;5;241m=\u001b[39m \u001b[38;5;241m5\u001b[39m\n\u001b[1;32m----> 5\u001b[0m \u001b[38;5;28;01massert\u001b[39;00m a\u001b[38;5;241m<\u001b[39mb\n",
      "\u001b[1;31mAssertionError\u001b[0m: "
     ]
    }
   ],
   "source": [
    "# assert statements\n",
    "a = 10\n",
    "b = 5\n",
    "\n",
    "assert a<b"
   ]
  },
  {
   "cell_type": "code",
   "execution_count": 52,
   "id": "12c49787-3c3f-4b5c-92a0-3f0d34f03a9e",
   "metadata": {},
   "outputs": [
    {
     "name": "stdin",
     "output_type": "stream",
     "text": [
      "Enter age =  9\n"
     ]
    },
    {
     "name": "stdout",
     "output_type": "stream",
     "text": [
      "You are underage!\n"
     ]
    }
   ],
   "source": [
    "try:\n",
    "    age = int(input(\"Enter age = \"))\n",
    "    assert age > 10\n",
    "except ValueError:\n",
    "    print(\"Enter only int value\")\n",
    "except AssertionError:\n",
    "    print(\"You are underage!\")"
   ]
  },
  {
   "cell_type": "code",
   "execution_count": 60,
   "id": "92746904-713a-4a17-b98a-66fe65b0cda6",
   "metadata": {},
   "outputs": [],
   "source": [
    "# raise ValueError"
   ]
  },
  {
   "cell_type": "code",
   "execution_count": 66,
   "id": "9a2e9b98-5b21-43cc-9998-e3ce61af7bc1",
   "metadata": {},
   "outputs": [
    {
     "name": "stdin",
     "output_type": "stream",
     "text": [
      "Enter age =  10\n"
     ]
    },
    {
     "name": "stdout",
     "output_type": "stream",
     "text": [
      "You entered  10\n"
     ]
    }
   ],
   "source": [
    "try:\n",
    "    age = int(input(\"Enter age = \"))\n",
    "    if type(age) != int:\n",
    "        raise ValueError\n",
    "    else:\n",
    "        print(\"You entered \",age)\n",
    "except ValueError:\n",
    "    print(\"Please enter int value\")\n"
   ]
  },
  {
   "cell_type": "code",
   "execution_count": 82,
   "id": "fcc1bfac-2494-447b-b54a-404c95b63bbb",
   "metadata": {},
   "outputs": [
    {
     "name": "stdin",
     "output_type": "stream",
     "text": [
      "Enter username =  askn\n",
      "Enter username =  alknsdla\n"
     ]
    },
    {
     "name": "stdout",
     "output_type": "stream",
     "text": [
      "Username and password doesnot exists!\n"
     ]
    },
    {
     "name": "stdin",
     "output_type": "stream",
     "text": [
      "Enter username =  admin\n",
      "Enter username =  admin123\n"
     ]
    },
    {
     "name": "stdout",
     "output_type": "stream",
     "text": [
      "Username and password doesnot exists!\n"
     ]
    },
    {
     "name": "stdin",
     "output_type": "stream",
     "text": [
      "Enter username =  admin\n",
      "Enter username =  admin1234\n"
     ]
    },
    {
     "name": "stdout",
     "output_type": "stream",
     "text": [
      "You are login\n",
      "You are logedin in 3 attempt!\n"
     ]
    }
   ],
   "source": [
    "# login\n",
    "username ='admin'\n",
    "password = 'admin1234'\n",
    "c = 1\n",
    "def login():\n",
    "    global c\n",
    "    try:\n",
    "        username1 = input(\"Enter username = \")\n",
    "        password1 = input(\"Enter username = \")\n",
    "        if username==username1 and password==password1:\n",
    "            print(\"You are login\")\n",
    "        else:\n",
    "            raise AssertionError\n",
    "\n",
    "    except:\n",
    "        print(\"Username and password doesnot exists!\")\n",
    "        c = c+1\n",
    "        login()\n",
    "    else:\n",
    "        print(f\"You are logedin in {c} attempt!\")\n",
    "login()\n"
   ]
  },
  {
   "cell_type": "code",
   "execution_count": null,
   "id": "c8c48b87-5f10-41a9-8db7-ffa836e022ed",
   "metadata": {},
   "outputs": [],
   "source": []
  }
 ],
 "metadata": {
  "kernelspec": {
   "display_name": "Python [conda env:base] *",
   "language": "python",
   "name": "conda-base-py"
  },
  "language_info": {
   "codemirror_mode": {
    "name": "ipython",
    "version": 3
   },
   "file_extension": ".py",
   "mimetype": "text/x-python",
   "name": "python",
   "nbconvert_exporter": "python",
   "pygments_lexer": "ipython3",
   "version": "3.12.7"
  }
 },
 "nbformat": 4,
 "nbformat_minor": 5
}
