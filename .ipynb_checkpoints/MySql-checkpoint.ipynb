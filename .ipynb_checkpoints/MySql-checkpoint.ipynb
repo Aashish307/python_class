{
 "cells": [
  {
   "cell_type": "code",
   "execution_count": 2,
   "id": "3d741cae-0ed4-490c-8b9a-3b9e948478d9",
   "metadata": {},
   "outputs": [
    {
     "name": "stdout",
     "output_type": "stream",
     "text": [
      "Collecting mysql-connector\n",
      "  Downloading mysql-connector-2.2.9.tar.gz (11.9 MB)\n",
      "     ---------------------------------------- 0.0/11.9 MB ? eta -:--:--\n",
      "      --------------------------------------- 0.3/11.9 MB ? eta -:--:--\n",
      "     --- ------------------------------------ 1.0/11.9 MB 3.1 MB/s eta 0:00:04\n",
      "     ------- -------------------------------- 2.1/11.9 MB 3.8 MB/s eta 0:00:03\n",
      "     ------------ --------------------------- 3.7/11.9 MB 4.8 MB/s eta 0:00:02\n",
      "     ------------------- -------------------- 5.8/11.9 MB 6.0 MB/s eta 0:00:02\n",
      "     -------------------------- ------------- 7.9/11.9 MB 6.8 MB/s eta 0:00:01\n",
      "     ------------------------------------ --- 10.7/11.9 MB 7.5 MB/s eta 0:00:01\n",
      "     ---------------------------------------- 11.9/11.9 MB 7.3 MB/s eta 0:00:00\n",
      "  Preparing metadata (setup.py): started\n",
      "  Preparing metadata (setup.py): finished with status 'done'\n",
      "Building wheels for collected packages: mysql-connector\n",
      "  Building wheel for mysql-connector (setup.py): started\n",
      "  Building wheel for mysql-connector (setup.py): finished with status 'done'\n",
      "  Created wheel for mysql-connector: filename=mysql_connector-2.2.9-cp312-cp312-win_amd64.whl size=247959 sha256=3826c4411fb18b8bbb820a27532d3f0a1925fc0fa6696a98ce4f75a75e39dbd8\n",
      "  Stored in directory: c:\\users\\acer\\appdata\\local\\pip\\cache\\wheels\\03\\17\\fa\\d7604c72dd3dd6d3eb3d249abf36cc532c9a9b4354b8f1bc4f\n",
      "Successfully built mysql-connector\n",
      "Installing collected packages: mysql-connector\n",
      "Successfully installed mysql-connector-2.2.9\n"
     ]
    }
   ],
   "source": [
    "!pip install mysql-connector"
   ]
  },
  {
   "cell_type": "code",
   "execution_count": 6,
   "id": "9018b8ae-eeca-4a97-b9a4-b099a261e8d2",
   "metadata": {},
   "outputs": [],
   "source": [
    "import mysql.connector  \t\t#importing database\n",
    "\n",
    "database = mysql.connector.connect(\n",
    "    host=\"localhost\",\n",
    "    user=\"root\",\n",
    "    password=\"\",\n",
    "    database = \"python class\"\n",
    ")\n",
    "db = database.cursor() "
   ]
  },
  {
   "cell_type": "code",
   "execution_count": 12,
   "id": "37b28384-51d3-4580-9759-1f16669b0b55",
   "metadata": {},
   "outputs": [
    {
     "name": "stdout",
     "output_type": "stream",
     "text": [
      "(1, 'Ram', 78, 80, 98, 90, 75, 450, 90, 'A')\n",
      "(2, 'Shyam', 87, 90, 75, 80, 77, 430, 80, 'A')\n",
      "(3, 'Hari', 81, 90, 75, 80, 77, 430, 80, 'A')\n",
      "(4, 'Sita', 70, 80, 77, 78, 89, 400, 80, 'A')\n"
     ]
    }
   ],
   "source": [
    "db.execute(\"SELECT * FROM student\") \n",
    "result =db.fetchall()\n",
    "\n",
    "for x in result:\n",
    "  print(x)"
   ]
  },
  {
   "cell_type": "code",
   "execution_count": 16,
   "id": "db1c4120-3950-4ab9-97b1-61d2ae7e6392",
   "metadata": {},
   "outputs": [
    {
     "name": "stdout",
     "output_type": "stream",
     "text": [
      "('Ram', 450, 'A')\n",
      "('Shyam', 430, 'A')\n",
      "('Hari', 430, 'A')\n",
      "('Sita', 400, 'A')\n"
     ]
    }
   ],
   "source": [
    "db.execute(\"SELECT Name,Total,Grade FROM student\")\n",
    "result =db.fetchall()\n",
    "\n",
    "for x in result:\n",
    "  print(x)\n"
   ]
  },
  {
   "cell_type": "code",
   "execution_count": 18,
   "id": "73326384-6b88-4471-8902-0ca57003c69e",
   "metadata": {},
   "outputs": [
    {
     "name": "stdout",
     "output_type": "stream",
     "text": [
      "(1, 'Ram', 78, 80, 98, 90, 75, 450, 90, 'A')\n",
      "(2, 'Shyam', 87, 90, 75, 80, 77, 430, 80, 'A')\n",
      "(3, 'Hari', 81, 90, 75, 80, 77, 430, 80, 'A')\n",
      "(4, 'Sita', 70, 80, 77, 78, 89, 400, 80, 'A')\n"
     ]
    }
   ],
   "source": [
    "db.execute(\"SELECT * FROM student WHERE grade = 'A' \")\n",
    "result =db.fetchall()\n",
    "\n",
    "for x in result:\n",
    "  print(x)\n"
   ]
  },
  {
   "cell_type": "code",
   "execution_count": 22,
   "id": "13a43b68-4756-4252-b594-4077c7ca501f",
   "metadata": {},
   "outputs": [
    {
     "name": "stdout",
     "output_type": "stream",
     "text": [
      "(1, 'Ram', 78, 80, 98, 90, 75, 450, 90, 'A')\n"
     ]
    }
   ],
   "source": [
    "db.execute(\"SELECT * FROM student WHERE Percentage >= 85.0 \")\n",
    "result =db.fetchall()\n",
    "\n",
    "for x in result:\n",
    "  print(x)\n"
   ]
  },
  {
   "cell_type": "code",
   "execution_count": 24,
   "id": "bb1a1835-472b-4489-9a29-94013c1c4e8c",
   "metadata": {},
   "outputs": [],
   "source": [
    "# insert\n",
    "sql = \"\"\"INSERT INTO student (Name, Physics, Chemistry, Math, English, Nepali, Total, Percentage, Grade) VALUES ('Rama', 78, 85, 76, 89, 98, 430, 92, 'A');\"\"\"\n",
    "db.execute(sql)\n",
    "database.commit()"
   ]
  },
  {
   "cell_type": "code",
   "execution_count": 28,
   "id": "778e3deb-9994-42a2-aad3-78b41180a537",
   "metadata": {},
   "outputs": [
    {
     "name": "stdin",
     "output_type": "stream",
     "text": [
      "Enter name =  Sitaram\n",
      "Enter physics marks =  56\n",
      "Enter chemistry marks =  76\n",
      "Enter math marks =  45\n",
      "Enter english marks =  65\n",
      "Enter nepali marks =  75\n"
     ]
    },
    {
     "name": "stdout",
     "output_type": "stream",
     "text": [
      "the total marks 317\n",
      "The per = 63.4\n",
      "The grade = B\n"
     ]
    }
   ],
   "source": [
    "name = input(\"Enter name = \")\n",
    "physics = int(input(\"Enter physics marks = \"))\n",
    "chemistry = int(input(\"Enter chemistry marks = \"))\n",
    "math = int(input(\"Enter math marks = \"))\n",
    "english = int(input(\"Enter english marks = \"))\n",
    "nepali = int(input(\"Enter nepali marks = \"))\n",
    "\n",
    "total = physics + chemistry + math + english + nepali\n",
    "\n",
    "per = total/5\n",
    "\n",
    "if per >= 80:\n",
    "    grade = \"A\"\n",
    "elif per >= 60:\n",
    "    grade = \"B\"\n",
    "elif per >= 45:\n",
    "    grade = \"C\"\n",
    "else:\n",
    "    grade = \"F\"\n",
    "\n",
    "print(\"the total marks\",total)\n",
    "print(\"The per =\",per)\n",
    "print(\"The grade =\",grade)\n",
    "\n",
    "# insert\n",
    "sql = f\"\"\"INSERT INTO student (Name, Physics, Chemistry, Math, English, Nepali, Total, Percentage, Grade) \n",
    "VALUES ('{name}', {physics}, {chemistry}, {math}, {english}, {nepali}, {total}, {per}, '{grade}');\"\"\"\n",
    "db.execute(sql)\n",
    "database.commit()"
   ]
  },
  {
   "cell_type": "code",
   "execution_count": null,
   "id": "b1852a5a-413c-43e9-854c-af43675832e0",
   "metadata": {},
   "outputs": [],
   "source": []
  }
 ],
 "metadata": {
  "kernelspec": {
   "display_name": "Python [conda env:base] *",
   "language": "python",
   "name": "conda-base-py"
  },
  "language_info": {
   "codemirror_mode": {
    "name": "ipython",
    "version": 3
   },
   "file_extension": ".py",
   "mimetype": "text/x-python",
   "name": "python",
   "nbconvert_exporter": "python",
   "pygments_lexer": "ipython3",
   "version": "3.12.7"
  }
 },
 "nbformat": 4,
 "nbformat_minor": 5
}
