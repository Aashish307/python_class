{
 "cells": [
  {
   "cell_type": "code",
   "execution_count": 3,
   "id": "c26453fa-adee-4d61-9cb0-7d6458856668",
   "metadata": {},
   "outputs": [],
   "source": [
    "# Set\n",
    "# -No Indexing\n",
    "# -Multiple but no dublicate\n",
    "# -Not Ordered \n",
    "# -Mutable"
   ]
  },
  {
   "cell_type": "code",
   "execution_count": 6,
   "id": "f42788b5-5219-4520-911a-d2dc2cbe5c03",
   "metadata": {},
   "outputs": [
    {
     "name": "stdout",
     "output_type": "stream",
     "text": [
      "set()\n",
      "{'Ball', 'Apple', 'Cat', 'Dog'}\n",
      "<class 'set'>\n",
      "<class 'dict'>\n"
     ]
    }
   ],
   "source": [
    "a = set()\n",
    "b = {\"Apple\",\"Ball\",\"Cat\",\"Dog\"}\n",
    "c ={}\n",
    "print(a)\n",
    "print(b)\n",
    "\n",
    "print(type(b))\n",
    "print(type(c))"
   ]
  },
  {
   "cell_type": "code",
   "execution_count": 8,
   "id": "89840769-0f1e-4f9d-9d92-dbd8610ee541",
   "metadata": {},
   "outputs": [
    {
     "name": "stdout",
     "output_type": "stream",
     "text": [
      "{'Ball', 'Dog', 'Apple', 'Cat'}\n"
     ]
    }
   ],
   "source": [
    "a = {\"Apple\",\"Ball\",\"Cat\",\"Dog\",\"Apple\"}\n",
    "#a[0]\n",
    "print(a)"
   ]
  },
  {
   "cell_type": "code",
   "execution_count": 10,
   "id": "6bc8aecb-d10a-4ad5-910e-0ea3fb8a825f",
   "metadata": {},
   "outputs": [],
   "source": [
    "# In set no + and *"
   ]
  },
  {
   "cell_type": "code",
   "execution_count": 12,
   "id": "9cc7c306-7cd2-4c67-b1ac-2c70c572aa8e",
   "metadata": {},
   "outputs": [
    {
     "name": "stdout",
     "output_type": "stream",
     "text": [
      "{'Ball', 'Apple', 'Cat'}\n"
     ]
    }
   ],
   "source": [
    "a = set()\n",
    "a.add(\"Apple\")\n",
    "a.add(\"Ball\")\n",
    "a.add(\"Cat\")\n",
    "print(a)"
   ]
  },
  {
   "cell_type": "code",
   "execution_count": 16,
   "id": "e2ed3569-1ce4-4ff5-b774-5f99998c69e7",
   "metadata": {},
   "outputs": [
    {
     "name": "stdout",
     "output_type": "stream",
     "text": [
      "{'Apple', 'Cat'}\n"
     ]
    }
   ],
   "source": [
    "a = {'Ball', 'Apple', 'Cat'}\n",
    "a.remove(\"Ball\")\n",
    "print(a)"
   ]
  },
  {
   "cell_type": "code",
   "execution_count": 8,
   "id": "f781ffe6-cd9f-4346-b98a-b49d784f6e78",
   "metadata": {},
   "outputs": [
    {
     "name": "stdout",
     "output_type": "stream",
     "text": [
      "{1, 2, 3, 4, 5, 6}\n"
     ]
    }
   ],
   "source": [
    "# update()\n",
    "a = {1,2,3}\n",
    "b = {4,5,6}\n",
    "a.update(b)\n",
    "print(a)"
   ]
  },
  {
   "cell_type": "code",
   "execution_count": 10,
   "id": "2fc335d4-1ddb-4b21-8325-ee6236c713ef",
   "metadata": {},
   "outputs": [],
   "source": [
    "# intersection union difference"
   ]
  },
  {
   "cell_type": "code",
   "execution_count": 3,
   "id": "adb7a86e-ac4c-4fb8-b3ab-72b8cbe77d5a",
   "metadata": {},
   "outputs": [
    {
     "name": "stdout",
     "output_type": "stream",
     "text": [
      "{'Jack', 'Nisha'}\n",
      "{'Manish', 'Pravat', 'abc', 'Nabin', 'Nisha', 'Satya', 'Akash', 'Billi', 'Ram', 'xyz', 'Jack', 'Willium', 'Ashok'}\n",
      "{'Pravat', 'abc', 'Ram', 'xyz', 'Willium'}\n",
      "{'Manish', 'Nabin', 'Satya', 'Akash', 'Billi', 'Ashok'}\n"
     ]
    }
   ],
   "source": [
    "U = {'Billi', 'Ashok', 'Akash', 'Nabin', 'Manish', 'Nisha', 'Ram', 'Pravat', 'Willium', 'Satya', 'Jack'}\n",
    "apple = {\"Ram\",\"Nisha\",\"Pravat\",\"Jack\",\"Willium\",\"abc\",\"xyz\"}\n",
    "ms = {\"Billi\",\"Satya\",\"Jack\",\"Akash\",\"Manish\",\"Nabin\",\"Ashok\",\"Nisha\"}\n",
    "\n",
    "#Working on both\n",
    "both = apple.intersection(ms)\n",
    "print(both)\n",
    "\n",
    "#if both merges\n",
    "new = apple.union(ms)\n",
    "print(new)\n",
    "\n",
    "#only apple\n",
    "oa = apple - ms  #apple.difference(ms)\n",
    "print(oa)\n",
    "\n",
    "#only ms\n",
    "om = ms - apple \n",
    "print(om)"
   ]
  },
  {
   "cell_type": "code",
   "execution_count": 5,
   "id": "6ed6c0f1-5b98-47df-83c0-dc68a7991c7d",
   "metadata": {},
   "outputs": [
    {
     "name": "stdout",
     "output_type": "stream",
     "text": [
      "set()\n"
     ]
    }
   ],
   "source": [
    "ue = U-new \n",
    "print(ue)"
   ]
  },
  {
   "cell_type": "code",
   "execution_count": 7,
   "id": "6d3eec12-79cd-4776-bde0-5c3f7f85b2ca",
   "metadata": {},
   "outputs": [],
   "source": [
    "# There is no any mutable data type inside set \n",
    "# No set inside set\n",
    "# No list inside set\n",
    "# No dict inside set"
   ]
  },
  {
   "cell_type": "code",
   "execution_count": 9,
   "id": "7ca6e502-cb1d-4ce1-9b38-f7b03fe1eba9",
   "metadata": {},
   "outputs": [
    {
     "ename": "TypeError",
     "evalue": "unhashable type: 'set'",
     "output_type": "error",
     "traceback": [
      "\u001b[1;31m---------------------------------------------------------------------------\u001b[0m",
      "\u001b[1;31mTypeError\u001b[0m                                 Traceback (most recent call last)",
      "Cell \u001b[1;32mIn[9], line 1\u001b[0m\n\u001b[1;32m----> 1\u001b[0m a \u001b[38;5;241m=\u001b[39m{\u001b[38;5;241m1\u001b[39m,\u001b[38;5;241m2\u001b[39m,\u001b[38;5;241m3\u001b[39m,({\u001b[38;5;241m1\u001b[39m,\u001b[38;5;241m2\u001b[39m},{\u001b[38;5;241m4\u001b[39m,\u001b[38;5;241m6\u001b[39m}),\u001b[38;5;241m4\u001b[39m,\u001b[38;5;241m5\u001b[39m,\u001b[38;5;241m6\u001b[39m}\n\u001b[0;32m      2\u001b[0m a\n",
      "\u001b[1;31mTypeError\u001b[0m: unhashable type: 'set'"
     ]
    }
   ],
   "source": [
    "a ={1,2,3,({1,2},{4,6}),4,5,6}\n",
    "a"
   ]
  },
  {
   "cell_type": "code",
   "execution_count": 17,
   "id": "6ac069d6-f2e7-40e9-a670-ec7bd6c3884b",
   "metadata": {},
   "outputs": [
    {
     "data": {
      "text/plain": [
       "{1: 2, 3: 4}"
      ]
     },
     "execution_count": 17,
     "metadata": {},
     "output_type": "execute_result"
    }
   ],
   "source": [
    "a = ((1,2),(3,4))\n",
    "b = dict(a)\n",
    "b"
   ]
  },
  {
   "cell_type": "code",
   "execution_count": 19,
   "id": "9dab14c3-81bf-4b80-a829-cb5dd634c324",
   "metadata": {},
   "outputs": [
    {
     "data": {
      "text/plain": [
       "dict_items([(1, 2), (3, 4)])"
      ]
     },
     "execution_count": 19,
     "metadata": {},
     "output_type": "execute_result"
    }
   ],
   "source": [
    "b.items()"
   ]
  },
  {
   "cell_type": "code",
   "execution_count": 21,
   "id": "2ea68322-e22c-411a-bbaa-d31842ad1417",
   "metadata": {},
   "outputs": [
    {
     "data": {
      "text/plain": [
       "[1, 3]"
      ]
     },
     "execution_count": 21,
     "metadata": {},
     "output_type": "execute_result"
    }
   ],
   "source": [
    "list(b)"
   ]
  },
  {
   "cell_type": "code",
   "execution_count": null,
   "id": "6c180e1a-b9bc-4542-9cee-003210e26360",
   "metadata": {},
   "outputs": [],
   "source": []
  }
 ],
 "metadata": {
  "kernelspec": {
   "display_name": "Python [conda env:base] *",
   "language": "python",
   "name": "conda-base-py"
  },
  "language_info": {
   "codemirror_mode": {
    "name": "ipython",
    "version": 3
   },
   "file_extension": ".py",
   "mimetype": "text/x-python",
   "name": "python",
   "nbconvert_exporter": "python",
   "pygments_lexer": "ipython3",
   "version": "3.12.7"
  }
 },
 "nbformat": 4,
 "nbformat_minor": 5
}
