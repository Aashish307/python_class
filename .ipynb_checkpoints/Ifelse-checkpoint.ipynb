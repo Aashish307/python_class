{
 "cells": [
  {
   "cell_type": "code",
   "execution_count": 3,
   "id": "b330efed-d884-4daa-9630-ad09ca20e17a",
   "metadata": {},
   "outputs": [],
   "source": [
    "#if <condition>:\n",
    "#    <operation>\n",
    "#elif <condition>:\n",
    "#    <operations>\n",
    "#else:\n",
    "#    <operations>"
   ]
  },
  {
   "cell_type": "code",
   "execution_count": 5,
   "id": "fd0d0a6c-5078-4d3f-9fd8-105efa32e31e",
   "metadata": {},
   "outputs": [],
   "source": [
    "# > < >= <= == |="
   ]
  },
  {
   "cell_type": "code",
   "execution_count": 13,
   "id": "87390318-0164-4e12-af27-4a1809d0b056",
   "metadata": {},
   "outputs": [
    {
     "name": "stdout",
     "output_type": "stream",
     "text": [
      "True\n"
     ]
    }
   ],
   "source": [
    "a = 10\n",
    "b = 3\n",
    "print(a>b)"
   ]
  },
  {
   "cell_type": "code",
   "execution_count": 19,
   "id": "0be03014-d225-4ab6-9fd3-5b2ca5cff7f5",
   "metadata": {},
   "outputs": [
    {
     "data": {
      "text/plain": [
       "True"
      ]
     },
     "execution_count": 19,
     "metadata": {},
     "output_type": "execute_result"
    }
   ],
   "source": [
    "11%2 != 0"
   ]
  },
  {
   "cell_type": "code",
   "execution_count": 21,
   "id": "6a396f97-f317-4df8-9c55-0e41c1232310",
   "metadata": {},
   "outputs": [
    {
     "name": "stdin",
     "output_type": "stream",
     "text": [
      "Enter x =  11\n"
     ]
    },
    {
     "name": "stdout",
     "output_type": "stream",
     "text": [
      "The no is odd\n"
     ]
    }
   ],
   "source": [
    "x = int(input(\"Enter x = \"))\n",
    "if x % 2 == 0:\n",
    "    print(\"The no is even\")\n",
    "else:\n",
    "    print(\"The no is odd\")"
   ]
  },
  {
   "cell_type": "code",
   "execution_count": 29,
   "id": "c706b30e-e118-403b-8a27-5e02338eb56a",
   "metadata": {},
   "outputs": [
    {
     "name": "stdin",
     "output_type": "stream",
     "text": [
      "Enter x =  10\n"
     ]
    },
    {
     "name": "stdout",
     "output_type": "stream",
     "text": [
      "The no is +ve\n"
     ]
    }
   ],
   "source": [
    "x = int(input(\"Enter x = \"))\n",
    "if x >= 0:\n",
    "    print(\"The no is +ve\")\n",
    "else:\n",
    "    print(\"The no is -ve\")"
   ]
  },
  {
   "cell_type": "code",
   "execution_count": 35,
   "id": "cade41a8-9058-49c4-b456-87eb1d37f2d4",
   "metadata": {},
   "outputs": [
    {
     "name": "stdin",
     "output_type": "stream",
     "text": [
      "Enter a =  10\n",
      "Enter b =  15\n"
     ]
    },
    {
     "name": "stdout",
     "output_type": "stream",
     "text": [
      "b is greather than a\n"
     ]
    }
   ],
   "source": [
    "a = int(input(\"Enter a = \"))\n",
    "b = int(input(\"Enter b = \"))\n",
    "if a>b:\n",
    "    print(\"a is greater than b\")\n",
    "elif b>a:\n",
    "    print(\"b is greather than a\")\n",
    "else:\n",
    "    print(\"Both are equal\")"
   ]
  },
  {
   "cell_type": "code",
   "execution_count": 59,
   "id": "be31b1ce-e803-4ad0-a21e-360dc84e3542",
   "metadata": {},
   "outputs": [
    {
     "name": "stdin",
     "output_type": "stream",
     "text": [
      "Enter a =  10\n",
      "Enter b =  0\n",
      "Enter  + or - or * or /  /\n"
     ]
    },
    {
     "name": "stdout",
     "output_type": "stream",
     "text": [
      "The value of b can not be zero\n"
     ]
    }
   ],
   "source": [
    "# WAP to create a basic calculator\n",
    "a = int(input(\"Enter a = \"))\n",
    "b = int(input(\"Enter b = \"))\n",
    "o = input(\"Enter  + or - or * or / \")\n",
    "if o == '-':\n",
    "    print(a*b)\n",
    "elif o == '*':\n",
    "    print(a*b)\n",
    "elif o == '/' and b != 0:\n",
    "    print(a/b)\n",
    "elif o == '/' and b == 0:\n",
    "    print(\"The value of b can not be zero\")\n",
    "else:\n",
    "    print(\"Invalid operator\")"
   ]
  },
  {
   "cell_type": "code",
   "execution_count": 41,
   "id": "df250a41-b91d-4637-9cd0-2b40d9d99918",
   "metadata": {},
   "outputs": [],
   "source": [
    "# Logical operator\n",
    "# and  &\n",
    "# or   |"
   ]
  },
  {
   "cell_type": "code",
   "execution_count": 45,
   "id": "07e6a545-86ca-4c68-b6f8-ebc36173a4d6",
   "metadata": {},
   "outputs": [
    {
     "name": "stdout",
     "output_type": "stream",
     "text": [
      "False\n",
      "False\n",
      "True\n",
      "False\n"
     ]
    }
   ],
   "source": [
    "# and\n",
    "print(True and False)\n",
    "print(False and True)\n",
    "print(True and True)\n",
    "print(False and True)"
   ]
  },
  {
   "cell_type": "code",
   "execution_count": 49,
   "id": "706af8fd-da88-4d86-967b-342976321bb5",
   "metadata": {},
   "outputs": [
    {
     "name": "stdout",
     "output_type": "stream",
     "text": [
      "False\n",
      "False\n",
      "True\n",
      "False\n"
     ]
    }
   ],
   "source": [
    "# or\n",
    "print(True and False)\n",
    "print(False and True)\n",
    "print(True and True)\n",
    "print(False and True)"
   ]
  },
  {
   "cell_type": "code",
   "execution_count": 4,
   "id": "e7b1e5c9-1f7b-46c2-bf61-7d9dd26014f4",
   "metadata": {},
   "outputs": [
    {
     "name": "stdin",
     "output_type": "stream",
     "text": [
      "Enter physics marks =  89\n",
      "Enter chemistry marks =  90\n",
      "Enter math marks =  78\n",
      "Enter english marks =  98\n",
      "Enter nepali marks =  90\n"
     ]
    },
    {
     "name": "stdout",
     "output_type": "stream",
     "text": [
      "the total marks 445\n",
      "The per = 89.0\n",
      "The grade = A\n"
     ]
    }
   ],
   "source": [
    "physics = int(input(\"Enter physics marks = \"))\n",
    "chemistry = int(input(\"Enter chemistry marks = \"))\n",
    "math = int(input(\"Enter math marks = \"))\n",
    "english = int(input(\"Enter english marks = \"))\n",
    "nepali = int(input(\"Enter nepali marks = \"))\n",
    "\n",
    "total = physics + chemistry + math + english + nepali\n",
    "\n",
    "per = total/5\n",
    "\n",
    "if per >= 80:\n",
    "    grade = \"A\"\n",
    "elif per >= 60:\n",
    "    grade = \"B\"\n",
    "elif per >= 45:\n",
    "    grade = \"C\"\n",
    "else:\n",
    "    grade = \"F\"\n",
    "\n",
    "print(\"the total marks\",total)\n",
    "print(\"The per =\",per)\n",
    "print(\"The grade =\",grade)"
   ]
  },
  {
   "cell_type": "code",
   "execution_count": 12,
   "id": "7b722805-85d1-4da0-ad99-ed6e7ffcd558",
   "metadata": {},
   "outputs": [
    {
     "name": "stdin",
     "output_type": "stream",
     "text": [
      "Enter a =  10\n"
     ]
    },
    {
     "name": "stdout",
     "output_type": "stream",
     "text": [
      "The number is positive\n",
      "It is also even\n"
     ]
    }
   ],
   "source": [
    "# Nested ifelse\n",
    "a = int(input(\"Enter a = \"))\n",
    "\n",
    "if a >= 0:\n",
    "    print(\"The number is positive\")\n",
    "    if a % 2 == 0:\n",
    "        print(\"It is also even\")\n",
    "    else:\n",
    "        print(\"It is also odd\")\n",
    "else:\n",
    "    print(\"The number is negitive\")\n",
    "    if a % 2 == 0:\n",
    "        print(\"It is also even\")\n",
    "    else:\n",
    "        print(\"It is also odd\")"
   ]
  },
  {
   "cell_type": "code",
   "execution_count": null,
   "id": "f1faaf23-41d2-4492-8103-90b4c85f004a",
   "metadata": {},
   "outputs": [],
   "source": []
  }
 ],
 "metadata": {
  "kernelspec": {
   "display_name": "Python [conda env:base] *",
   "language": "python",
   "name": "conda-base-py"
  },
  "language_info": {
   "codemirror_mode": {
    "name": "ipython",
    "version": 3
   },
   "file_extension": ".py",
   "mimetype": "text/x-python",
   "name": "python",
   "nbconvert_exporter": "python",
   "pygments_lexer": "ipython3",
   "version": "3.12.7"
  }
 },
 "nbformat": 4,
 "nbformat_minor": 5
}
