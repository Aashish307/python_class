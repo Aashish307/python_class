{
 "cells": [
  {
   "cell_type": "code",
   "execution_count": 1,
   "id": "6cf1bcad-6512-4b53-b1b2-92acce12a061",
   "metadata": {},
   "outputs": [],
   "source": [
    "# tuple\n",
    "# -Indexing\n",
    "# -Multiple and dublicate\n",
    "# -Ordered \n",
    "# -IMutable"
   ]
  },
  {
   "cell_type": "code",
   "execution_count": 3,
   "id": "5699e05a-06e9-413e-a41a-69a1c1555910",
   "metadata": {},
   "outputs": [
    {
     "name": "stdout",
     "output_type": "stream",
     "text": [
      "() (1, 2, 3, 4, 5, 6, 7, 8, 9) ('Apple', 'Ball', 'Cat')\n",
      "<class 'tuple'>\n",
      "<class 'tuple'>\n",
      "<class 'tuple'>\n"
     ]
    }
   ],
   "source": [
    "a = tuple()\n",
    "b = (1,2,3,4,5,6,7,8,9)\n",
    "c = (\"Apple\",\"Ball\",\"Cat\")\n",
    "print(a,b,c)\n",
    "print(type(a))\n",
    "print(type(b))\n",
    "print(type(c))"
   ]
  },
  {
   "cell_type": "code",
   "execution_count": 5,
   "id": "035b2b47-8010-46a6-b228-dfd973a8fec4",
   "metadata": {},
   "outputs": [],
   "source": [
    "# No append() insert() extend()\n",
    "# No Update\n",
    "# No del() remove() pop()\n",
    "# No sort"
   ]
  },
  {
   "cell_type": "code",
   "execution_count": 7,
   "id": "195d474d-8448-4c1f-973e-8b95e5e30b8f",
   "metadata": {},
   "outputs": [],
   "source": [
    "Gender = ('Male','Female','Other')"
   ]
  },
  {
   "cell_type": "code",
   "execution_count": 9,
   "id": "ca37110e-b167-41ce-8b78-030e4483211a",
   "metadata": {},
   "outputs": [
    {
     "name": "stdout",
     "output_type": "stream",
     "text": [
      "(1, 2, 3, 4, 5, 6)\n"
     ]
    }
   ],
   "source": [
    "a = (1,2,3)\n",
    "b = (4,5,6)\n",
    "c = a+b\n",
    "print(c)"
   ]
  },
  {
   "cell_type": "code",
   "execution_count": 2,
   "id": "efeeb88b-e073-41f9-9da9-9e33f05d9ba8",
   "metadata": {},
   "outputs": [
    {
     "data": {
      "text/plain": [
       "tuple"
      ]
     },
     "execution_count": 2,
     "metadata": {},
     "output_type": "execute_result"
    }
   ],
   "source": [
    "a = (\"Apple\",)\n",
    "type(a)"
   ]
  },
  {
   "cell_type": "code",
   "execution_count": 15,
   "id": "3506f302-0fa4-42d7-97d2-70f23b56cbdf",
   "metadata": {},
   "outputs": [
    {
     "name": "stdout",
     "output_type": "stream",
     "text": [
      "('Apple', 'Ball', 'Cat', 'Dog')\n"
     ]
    }
   ],
   "source": [
    "a = (\"Apple\",\"Ball\",\"Cat\")\n",
    "b = (\"Dog\",)\n",
    "c = a+b\n",
    "print(c)"
   ]
  },
  {
   "cell_type": "code",
   "execution_count": 17,
   "id": "28b73519-3f35-4f8a-b0de-fe97f0fea535",
   "metadata": {},
   "outputs": [
    {
     "name": "stdout",
     "output_type": "stream",
     "text": [
      "('Apple', 'Ball', 'Cat')\n"
     ]
    }
   ],
   "source": [
    "a = \"Apple\",\"Ball\",\"Cat\"\n",
    "print(a)"
   ]
  },
  {
   "cell_type": "code",
   "execution_count": 19,
   "id": "aac520ef-8cce-4840-bd31-5d8fadc55c2e",
   "metadata": {},
   "outputs": [
    {
     "data": {
      "text/plain": [
       "['Apple', 'Ball', 'Cat']"
      ]
     },
     "execution_count": 19,
     "metadata": {},
     "output_type": "execute_result"
    }
   ],
   "source": [
    "a = ('Apple', 'Ball', 'Cat')\n",
    "b = list(a)\n",
    "b"
   ]
  },
  {
   "cell_type": "code",
   "execution_count": 21,
   "id": "4fb14f03-c755-48f0-9280-8e8e31ba92af",
   "metadata": {},
   "outputs": [
    {
     "data": {
      "text/plain": [
       "['H', 'e', 'l', 'l', 'o', ' ', 'W', 'o', 'r', 'l', 'd']"
      ]
     },
     "execution_count": 21,
     "metadata": {},
     "output_type": "execute_result"
    }
   ],
   "source": [
    "a =list(\"Hello World\")\n",
    "a"
   ]
  },
  {
   "cell_type": "code",
   "execution_count": 23,
   "id": "501debf4-b518-4fa0-acb1-48ad7f30b871",
   "metadata": {},
   "outputs": [],
   "source": [
    "# min() max() sum()"
   ]
  },
  {
   "cell_type": "code",
   "execution_count": 29,
   "id": "a62dd401-3486-4902-b10a-5a66715ecc61",
   "metadata": {},
   "outputs": [
    {
     "data": {
      "text/plain": [
       "((1, 2, 3), (4, 5, 6), (7, 8, 9))"
      ]
     },
     "execution_count": 29,
     "metadata": {},
     "output_type": "execute_result"
    }
   ],
   "source": [
    "# tuple inside tuple\n",
    "t = ((1,2,3),\n",
    "     (4,5,6),\n",
    "     (7,8,9))\n",
    "t"
   ]
  },
  {
   "cell_type": "code",
   "execution_count": null,
   "id": "b0bceaf9-b908-4f98-9886-e41513eb1dca",
   "metadata": {},
   "outputs": [],
   "source": []
  }
 ],
 "metadata": {
  "kernelspec": {
   "display_name": "Python [conda env:base] *",
   "language": "python",
   "name": "conda-base-py"
  },
  "language_info": {
   "codemirror_mode": {
    "name": "ipython",
    "version": 3
   },
   "file_extension": ".py",
   "mimetype": "text/x-python",
   "name": "python",
   "nbconvert_exporter": "python",
   "pygments_lexer": "ipython3",
   "version": "3.12.7"
  }
 },
 "nbformat": 4,
 "nbformat_minor": 5
}
