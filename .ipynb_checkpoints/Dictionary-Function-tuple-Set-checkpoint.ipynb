{
 "cells": [
  {
   "cell_type": "code",
   "execution_count": 1,
   "id": "1aa48b5c-4868-49c6-9c65-0b9cb9059175",
   "metadata": {},
   "outputs": [],
   "source": [
    "# Dictionary\n",
    "# -indexing\n",
    "# -Multiple and Duplicate values\n",
    "# ordered \n",
    "# mutable"
   ]
  },
  {
   "cell_type": "code",
   "execution_count": 3,
   "id": "59f1052d-bc51-4f1b-aaa4-42b93bd07fff",
   "metadata": {},
   "outputs": [],
   "source": [
    "d = dict()"
   ]
  },
  {
   "cell_type": "code",
   "execution_count": 5,
   "id": "8e91900b-2be5-4ac2-8709-e6fe7949dcd1",
   "metadata": {},
   "outputs": [],
   "source": [
    "# d = {<Key>:<value>,<key>:<value>,......}"
   ]
  },
  {
   "cell_type": "code",
   "execution_count": 7,
   "id": "c052e1aa-30f0-4dd2-b2da-f4c2f95c4be0",
   "metadata": {},
   "outputs": [
    {
     "name": "stdout",
     "output_type": "stream",
     "text": [
      "{'a': 'Apple', 'b': 'Ball', 'c': 'Cat'}\n",
      "<class 'dict'>\n"
     ]
    }
   ],
   "source": [
    "d = {'a':'Apple','b':'Ball','c':'Cat'}\n",
    "print(d)\n",
    "print(type(d))"
   ]
  },
  {
   "cell_type": "code",
   "execution_count": 9,
   "id": "43306822-6f75-4ddb-89ad-69d39fc92fe3",
   "metadata": {},
   "outputs": [
    {
     "name": "stdout",
     "output_type": "stream",
     "text": [
      "Ball\n"
     ]
    }
   ],
   "source": [
    "print(d['b'])"
   ]
  },
  {
   "cell_type": "code",
   "execution_count": 11,
   "id": "496eac35-3e83-4415-8a82-cf23cbf50a26",
   "metadata": {},
   "outputs": [
    {
     "name": "stdout",
     "output_type": "stream",
     "text": [
      "{'a': 'Apple', 'b': 'Ball', 'c': 'Cat', 'A': 'Apple'}\n"
     ]
    }
   ],
   "source": [
    "d = {'a':'Apple','b':'Ball','c':'Cat','A':'Apple'}\n",
    "print(d)"
   ]
  },
  {
   "cell_type": "code",
   "execution_count": 13,
   "id": "ea39aa0a-04b3-445e-be5e-da52ffa9fb06",
   "metadata": {},
   "outputs": [
    {
     "name": "stdout",
     "output_type": "stream",
     "text": [
      "{'a': 'Ant', 'b': 'Ball', 'c': 'Cat'}\n"
     ]
    }
   ],
   "source": [
    "d = {'a':'Apple','b':'Ball','c':'Cat','a':'Ant'}\n",
    "print(d)\n"
   ]
  },
  {
   "cell_type": "code",
   "execution_count": 15,
   "id": "c8f32bf7-ad21-49e9-99f7-0127e829272b",
   "metadata": {},
   "outputs": [
    {
     "name": "stdout",
     "output_type": "stream",
     "text": [
      "a\n",
      "b\n",
      "c\n"
     ]
    }
   ],
   "source": [
    "d = {'a':'Apple','b':'Ball','c':'Cat','a':'Ant'}\n",
    "for i in d:\n",
    "    print(i)"
   ]
  },
  {
   "cell_type": "code",
   "execution_count": 17,
   "id": "7115b87d-7696-46e2-9f9b-23fec29ac98d",
   "metadata": {},
   "outputs": [
    {
     "name": "stdout",
     "output_type": "stream",
     "text": [
      "Ant\n",
      "Ball\n",
      "Cat\n"
     ]
    }
   ],
   "source": [
    "d = {'a':'Apple','b':'Ball','c':'Cat','a':'Ant'}\n",
    "for i in d.values():\n",
    "    print(i)"
   ]
  },
  {
   "cell_type": "code",
   "execution_count": 19,
   "id": "ce8a2e77-573b-478d-8bdc-0b8d30ae13b5",
   "metadata": {},
   "outputs": [
    {
     "name": "stdout",
     "output_type": "stream",
     "text": [
      "('a', 'Ant')\n",
      "('b', 'Ball')\n",
      "('c', 'Cat')\n"
     ]
    }
   ],
   "source": [
    "d = {'a':'Apple','b':'Ball','c':'Cat','a':'Ant'}\n",
    "for i in d.items():\n",
    "    print(i)"
   ]
  },
  {
   "cell_type": "code",
   "execution_count": 23,
   "id": "27393225-0ba6-4f93-b007-6a4498a478cd",
   "metadata": {},
   "outputs": [
    {
     "data": {
      "text/plain": [
       "{'a': 'Apple', 'b': 'Ball', 'c': 'Cat'}"
      ]
     },
     "execution_count": 23,
     "metadata": {},
     "output_type": "execute_result"
    }
   ],
   "source": [
    "d = [['a','Apple'],['b','Ball'],['c','Cat']]\n",
    "dict(d)"
   ]
  },
  {
   "cell_type": "code",
   "execution_count": 25,
   "id": "8ddcd7b5-c423-4af1-b7a8-bc3cd1808732",
   "metadata": {},
   "outputs": [
    {
     "name": "stdout",
     "output_type": "stream",
     "text": [
      "{'a': 'Apple', 'b': 'Ball', 'c': 'Cat'}\n"
     ]
    }
   ],
   "source": [
    "# CRUD\n",
    "d = {}\n",
    "d['a'] = 'Apple'\n",
    "d['b'] = 'Ball'\n",
    "d['c'] = 'Cat'\n",
    "print(d)"
   ]
  },
  {
   "cell_type": "code",
   "execution_count": 31,
   "id": "836b3451-4457-4d96-831a-6ecb94eba942",
   "metadata": {},
   "outputs": [
    {
     "name": "stdin",
     "output_type": "stream",
     "text": [
      "Enter the value of n =  2\n",
      "Enter Name =  Ram\n",
      "Enter Phone =  9860307111\n",
      "Enter Name =  Shyam\n",
      "Enter Phone =  9845842717\n"
     ]
    },
    {
     "name": "stdout",
     "output_type": "stream",
     "text": [
      "{'Ram': '9860307111', 'Shyam': '9845842717'}\n"
     ]
    }
   ],
   "source": [
    "d = {}\n",
    "n = int(input('Enter the value of n = '))\n",
    "for i in range(n):\n",
    "    Name = input(\"Enter Name = \")\n",
    "    Phone = input(\"Enter Phone = \")\n",
    "    d[Name] = Phone\n",
    "\n",
    "print(d)"
   ]
  },
  {
   "cell_type": "code",
   "execution_count": 35,
   "id": "7a409fce-7892-4683-a195-8c394ab6a8ef",
   "metadata": {},
   "outputs": [
    {
     "data": {
      "text/plain": [
       "{'Ram': '9860307111', 'Shyam': '9845842717', 'Hari': '9808778765'}"
      ]
     },
     "execution_count": 35,
     "metadata": {},
     "output_type": "execute_result"
    }
   ],
   "source": [
    "d = {'Ram': '9860307111', 'Shyam': '9845842717'}\n",
    "d['Hari'] = '9808778765'\n",
    "d"
   ]
  },
  {
   "cell_type": "code",
   "execution_count": 39,
   "id": "7c41b705-398d-4ba1-b319-54a92bc5d380",
   "metadata": {},
   "outputs": [
    {
     "data": {
      "text/plain": [
       "{'Ram': '980800000', 'Shyam': '9845842717'}"
      ]
     },
     "execution_count": 39,
     "metadata": {},
     "output_type": "execute_result"
    }
   ],
   "source": [
    "d = {'Ram': '9860307111', 'Shyam': '9845842717'}\n",
    "d['Ram'] = '980800000'\n",
    "d"
   ]
  },
  {
   "cell_type": "code",
   "execution_count": 43,
   "id": "a771fdcd-f963-465b-b5b4-6c0c5e0818a3",
   "metadata": {},
   "outputs": [
    {
     "name": "stdout",
     "output_type": "stream",
     "text": [
      "{'Ram': '9860307111'}\n"
     ]
    }
   ],
   "source": [
    "# delete\n",
    "# del pop()\n",
    "d = {'Ram': '9860307111', 'Shyam': '9845842717'}\n",
    "del d['Shyam']\n",
    "print(d)"
   ]
  },
  {
   "cell_type": "code",
   "execution_count": 49,
   "id": "847c8a94-bfdc-44a4-9f57-18c706905dac",
   "metadata": {},
   "outputs": [
    {
     "name": "stdout",
     "output_type": "stream",
     "text": [
      "9860307111\n",
      "{'Shyam': '9845842717'}\n"
     ]
    }
   ],
   "source": [
    "d = {'Ram': '9860307111', 'Shyam': '9845842717'}\n",
    "a = d.pop('Ram')\n",
    "print(a)\n",
    "print(d)"
   ]
  },
  {
   "cell_type": "code",
   "execution_count": 59,
   "id": "355574b2-2320-431e-a980-a1f15dbc11c6",
   "metadata": {},
   "outputs": [
    {
     "name": "stdout",
     "output_type": "stream",
     "text": [
      "{'Ram': [9860307111, 980842717], 'Shyam': [984350000, 9808778765], 'Hari': [9867556543, 9808118945]}\n"
     ]
    }
   ],
   "source": [
    "# list inside dict\n",
    "d = {\n",
    "    'Ram':[9860307111,980842717],\n",
    "    'Shyam':[984350000,9808778765],\n",
    "    'Hari':[9867556543,9808118945],\n",
    "}\n",
    "print(d)"
   ]
  },
  {
   "cell_type": "code",
   "execution_count": 61,
   "id": "8248f062-e7ce-4c78-8021-98663d3ce459",
   "metadata": {},
   "outputs": [
    {
     "name": "stdin",
     "output_type": "stream",
     "text": [
      "Enter Name =  Ram\n",
      "Enter 0 for ntc or 1 for ncell 1\n"
     ]
    },
    {
     "data": {
      "text/plain": [
       "980842717"
      ]
     },
     "execution_count": 61,
     "metadata": {},
     "output_type": "execute_result"
    }
   ],
   "source": [
    "Name = input(\"Enter Name = \")\n",
    "Mobile = int(input(\"Enter 0 for ntc or 1 for ncell\"))\n",
    "\n",
    "d[Name][Mobile]"
   ]
  },
  {
   "cell_type": "code",
   "execution_count": 63,
   "id": "c6cf2c3c-d882-4302-bfb7-cb3fa9059130",
   "metadata": {},
   "outputs": [
    {
     "data": {
      "text/plain": [
       "{'Name': ['Ram', 'Shyam', 'Hari'],\n",
       " 'Ntc': [9860307111, 9845842717, 9860307222],\n",
       " 'Ncell': [9808667565, 9808556542, 9808452136]}"
      ]
     },
     "execution_count": 63,
     "metadata": {},
     "output_type": "execute_result"
    }
   ],
   "source": [
    "# for multiple names\n",
    "d = {\n",
    "    'Name':['Ram','Shyam','Hari'],\n",
    "    'Ntc':[9860307111,9845842717,9860307222],\n",
    "    'Ncell':[9808667565,9808556542,9808452136]\n",
    "}\n",
    "d"
   ]
  },
  {
   "cell_type": "code",
   "execution_count": 71,
   "id": "85b79b2a-395d-4ead-b6e5-b551051eaca5",
   "metadata": {},
   "outputs": [
    {
     "data": {
      "text/plain": [
       "{'Name': ['Ram', 'Shyam', 'Hari'],\n",
       " 'Ntc': [9860307123, 9845842717, 9860307222],\n",
       " 'Ncell': [9808776575, 9808556542, 9808452136]}"
      ]
     },
     "execution_count": 71,
     "metadata": {},
     "output_type": "execute_result"
    }
   ],
   "source": [
    "d['Ntc'][0] = 9860307123\n",
    "d['Ncell'][0] = 9808776575\n",
    "d"
   ]
  },
  {
   "cell_type": "code",
   "execution_count": 73,
   "id": "fcbb55f0-8097-4d4f-9a31-9b4d1988f1ac",
   "metadata": {},
   "outputs": [
    {
     "data": {
      "text/plain": [
       "{'Name': ['Shyam', 'Hari'],\n",
       " 'Ntc': [9845842717, 9860307222],\n",
       " 'Ncell': [9808556542, 9808452136]}"
      ]
     },
     "execution_count": 73,
     "metadata": {},
     "output_type": "execute_result"
    }
   ],
   "source": [
    "del d['Name'][0]\n",
    "del d['Ntc'][0]\n",
    "del d['Ncell'][0]\n",
    "d"
   ]
  },
  {
   "cell_type": "code",
   "execution_count": 79,
   "id": "3229040c-e68b-4987-bfb7-5755f9e8536a",
   "metadata": {},
   "outputs": [
    {
     "data": {
      "text/plain": [
       "{1: {'Name': 'Ram', 'Ntc': 9860307111, 'Ncell': 98086678654},\n",
       " 2: {'Name': 'Shyam', 'Ntc': 9860307123, 'Ncell': 9808779823},\n",
       " 3: {'Name': 'Hari', 'Ntc': 9860307456, 'Ncell': 9808307111}}"
      ]
     },
     "execution_count": 79,
     "metadata": {},
     "output_type": "execute_result"
    }
   ],
   "source": [
    "#Nested dict\n",
    "d =  {\n",
    "    1:{'Name':'Ram','Ntc':9860307111,'Ncell':98086678654},\n",
    "    2:{'Name':'Shyam','Ntc':9860307123,'Ncell':9808779823},\n",
    "    3:{'Name':'Hari','Ntc':9860307456,'Ncell':9808307111}\n",
    "}\n",
    "d"
   ]
  },
  {
   "cell_type": "code",
   "execution_count": 9,
   "id": "7cee2b35-c8df-4d91-bd00-7e65f95ec4c2",
   "metadata": {},
   "outputs": [
    {
     "data": {
      "text/plain": [
       "{2: {'Name': 'Shyam', 'Ntc': 9860307123, 'Ncell': 9808779823},\n",
       " 3: {'Name': 'Hari', 'Ntc': 9860307456, 'Ncell': 9808307111}}"
      ]
     },
     "execution_count": 9,
     "metadata": {},
     "output_type": "execute_result"
    }
   ],
   "source": [
    "del d[1]\n",
    "d"
   ]
  },
  {
   "cell_type": "code",
   "execution_count": 5,
   "id": "04d2bb9e-8a91-492f-92c9-be77800a36f8",
   "metadata": {},
   "outputs": [
    {
     "data": {
      "text/plain": [
       "{1: {'Name': 'Ram',\n",
       "  'Ntc': 9860307111,\n",
       "  'Ncell': 98086678654,\n",
       "  'Smart': 123645512},\n",
       " 2: {'Name': 'Shyam', 'Ntc': 9860307123, 'Ncell': 9808779823},\n",
       " 3: {'Name': 'Hari', 'Ntc': 9860307456, 'Ncell': 9808307111}}"
      ]
     },
     "execution_count": 5,
     "metadata": {},
     "output_type": "execute_result"
    }
   ],
   "source": [
    "d =  {\n",
    "    1:{'Name':'Ram','Ntc':9860307111,'Ncell':98086678654},\n",
    "    2:{'Name':'Shyam','Ntc':9860307123,'Ncell':9808779823},\n",
    "    3:{'Name':'Hari','Ntc':9860307456,'Ncell':9808307111}\n",
    "}\n",
    "d[1]['Smart'] = 123645512\n",
    "d"
   ]
  },
  {
   "cell_type": "code",
   "execution_count": 2,
   "id": "6e3d1e41-d4a0-4bab-a5ef-2c18928a3c08",
   "metadata": {},
   "outputs": [],
   "source": [
    "#  take Subject Marks,Create total,per,grade the\n",
    "# WAP to creat list inside dict and CRUD\n",
    "# WAP to creat dict inside list and CRUD\n",
    "# WAP to creat dict inside dict and CRUD"
   ]
  },
  {
   "cell_type": "code",
   "execution_count": 4,
   "id": "5c8f53ff-82fd-4a3e-82a6-e93943020d1d",
   "metadata": {},
   "outputs": [],
   "source": [
    "# per defined function\n",
    "# user defined function"
   ]
  },
  {
   "cell_type": "code",
   "execution_count": 6,
   "id": "1d5abc71-c5da-480d-aa04-b998c0ff8c01",
   "metadata": {},
   "outputs": [],
   "source": [
    "# per defined function\n",
    "# print() int() float() str() list() tuple() dict() set()"
   ]
  },
  {
   "cell_type": "code",
   "execution_count": 8,
   "id": "d986b279-bc09-4b1a-9b7d-31177c3763bd",
   "metadata": {},
   "outputs": [],
   "source": [
    "# def <function_name>():\n",
    "#     <operation>\n",
    "\n",
    "# <function_name>()"
   ]
  },
  {
   "cell_type": "code",
   "execution_count": 10,
   "id": "b61dc30c-f6a9-4954-a7c6-8f33a86fc361",
   "metadata": {},
   "outputs": [
    {
     "name": "stdout",
     "output_type": "stream",
     "text": [
      "Hello World\n"
     ]
    }
   ],
   "source": [
    "def hello():\n",
    "    print(\"Hello World\")\n",
    "\n",
    "hello()"
   ]
  },
  {
   "cell_type": "code",
   "execution_count": 12,
   "id": "1702474c-5474-4e6c-9ec1-2e46078262b3",
   "metadata": {},
   "outputs": [
    {
     "name": "stdin",
     "output_type": "stream",
     "text": [
      "Enter l =  10\n",
      "Enter b =  2\n"
     ]
    },
    {
     "name": "stdout",
     "output_type": "stream",
     "text": [
      "20\n"
     ]
    }
   ],
   "source": [
    "def area():\n",
    "    l = int(input(\"Enter l = \"))          #local variable\n",
    "    b = int(input(\"Enter b = \"))          #Local varibale\n",
    "    a = l*b                               #local varibale\n",
    "    print(a)\n",
    "    \n",
    "area()         "
   ]
  },
  {
   "cell_type": "code",
   "execution_count": 14,
   "id": "86313ad2-6691-4813-9c65-bc7293cbbcbf",
   "metadata": {},
   "outputs": [
    {
     "name": "stdin",
     "output_type": "stream",
     "text": [
      "Enter l =  10\n",
      "Enter b =  10\n"
     ]
    },
    {
     "name": "stdout",
     "output_type": "stream",
     "text": [
      "100\n",
      "10\n"
     ]
    }
   ],
   "source": [
    "l = int(input(\"Enter l = \"))          #Global variable\n",
    "b = int(input(\"Enter b = \"))          #Global varibale\n",
    "def area():\n",
    "    a = l*b                               #local varibale\n",
    "    print(a)\n",
    "    \n",
    "area()   \n",
    "print(l)"
   ]
  },
  {
   "cell_type": "code",
   "execution_count": 16,
   "id": "548f4cbf-7242-4eee-8bc2-c8c7354d9b1f",
   "metadata": {},
   "outputs": [
    {
     "name": "stdin",
     "output_type": "stream",
     "text": [
      "Enter l =  10\n",
      "Enter b =  10\n"
     ]
    },
    {
     "name": "stdout",
     "output_type": "stream",
     "text": [
      "100\n",
      "10\n"
     ]
    }
   ],
   "source": [
    "def area():\n",
    "    global l,b\n",
    "    l = int(input(\"Enter l = \"))          #local variable\n",
    "    b = int(input(\"Enter b = \"))          #Local varibale\n",
    "    a = l*b                               #local varibale\n",
    "    print(a)\n",
    "    \n",
    "area()\n",
    "print(l)"
   ]
  },
  {
   "cell_type": "code",
   "execution_count": 18,
   "id": "8b39badd-cf3f-4c9e-b192-97c7132faffa",
   "metadata": {},
   "outputs": [],
   "source": [
    "# arguments and parameter"
   ]
  },
  {
   "cell_type": "code",
   "execution_count": 20,
   "id": "66d2f6b2-404f-4447-a573-89bec91915ef",
   "metadata": {},
   "outputs": [
    {
     "name": "stdin",
     "output_type": "stream",
     "text": [
      "Enter l =  100\n",
      "Enter b =  10\n"
     ]
    },
    {
     "name": "stdout",
     "output_type": "stream",
     "text": [
      "1000\n"
     ]
    }
   ],
   "source": [
    "def area(l,b):                        #L,b parameter\n",
    "    a = l*b                               #local varibale\n",
    "    print(a)\n",
    "\n",
    "l = int(input(\"Enter l = \"))          #global variable\n",
    "b = int(input(\"Enter b = \"))          #global varibale\n",
    "area(l,b)                             #L,b arguments"
   ]
  },
  {
   "cell_type": "code",
   "execution_count": 22,
   "id": "8367f1ab-baab-469b-abad-192629ce39f8",
   "metadata": {},
   "outputs": [
    {
     "name": "stdout",
     "output_type": "stream",
     "text": [
      "Hello World I am Ram. I am from Kathmandu. I am 45\n"
     ]
    }
   ],
   "source": [
    "def info(name,age,add):\n",
    "    data = f\"Hello World I am {name}. I am from {add}. I am {age}\"\n",
    "    print(data)\n",
    "\n",
    "info(\"Ram\",45,\"Kathmandu\")"
   ]
  },
  {
   "cell_type": "code",
   "execution_count": 24,
   "id": "fdc6d321-0d05-48ee-8de7-7450e9be5149",
   "metadata": {},
   "outputs": [
    {
     "name": "stdout",
     "output_type": "stream",
     "text": [
      "c\n",
      "C++\n",
      "Java\n",
      "Python\n"
     ]
    }
   ],
   "source": [
    "def language(lan = \"Python\"):\n",
    "    print(lan)\n",
    "\n",
    "language(\"c\")\n",
    "language(\"C++\")\n",
    "language(\"Java\")\n",
    "language()"
   ]
  },
  {
   "cell_type": "code",
   "execution_count": 26,
   "id": "34d0aa81-5fe2-49c4-8c6b-d5334046cbe6",
   "metadata": {},
   "outputs": [
    {
     "name": "stdout",
     "output_type": "stream",
     "text": [
      "Hello World, I am Ram. I am from Nepal. I am 45 years old\n"
     ]
    }
   ],
   "source": [
    "def info(name,age,add=\"Nepal\"):\n",
    "    data = f\"Hello World, I am {name}. I am from {add}. I am {age} years old\"\n",
    "    print(data)\n",
    "\n",
    "info(\"Ram\",45)"
   ]
  },
  {
   "cell_type": "code",
   "execution_count": 28,
   "id": "f6aaa5b0-09d0-40ef-973c-c13b56893cd8",
   "metadata": {},
   "outputs": [
    {
     "name": "stdin",
     "output_type": "stream",
     "text": [
      "Enter l = 10\n",
      "Enter b = 5\n",
      "Enter h = 10\n"
     ]
    },
    {
     "name": "stdout",
     "output_type": "stream",
     "text": [
      "50\n",
      "500\n"
     ]
    }
   ],
   "source": [
    "# return type function\n",
    "def area(l,b):\n",
    "    a = l*b\n",
    "    return a\n",
    "\n",
    "l = int(input(\"Enter l =\"))\n",
    "b = int(input(\"Enter b =\"))\n",
    "h = int(input(\"Enter h =\"))\n",
    "\n",
    "#print (area(l,b))\n",
    "ar = area(l,b)\n",
    "v = ar*h\n",
    "print(ar)\n",
    "print(v)"
   ]
  },
  {
   "cell_type": "code",
   "execution_count": 2,
   "id": "4865ea0a-5aaf-4c52-acad-240508cb75d7",
   "metadata": {},
   "outputs": [
    {
     "name": "stdin",
     "output_type": "stream",
     "text": [
      "Enter a =  100\n",
      "Enter b =  20\n",
      "Enter  + or - or * or /  /\n"
     ]
    },
    {
     "name": "stdout",
     "output_type": "stream",
     "text": [
      "5.0\n"
     ]
    }
   ],
   "source": [
    "def add(a,b):\n",
    "    return a+b\n",
    "def sub(a,b):\n",
    "    return a-b\n",
    "def mul(a,b):\n",
    "    return a*b\n",
    "def div(a,b):\n",
    "    return a/b\n",
    "a = int(input(\"Enter a = \"))\n",
    "b = int(input(\"Enter b = \"))\n",
    "o = input(\"Enter  + or - or * or / \")\n",
    "if o == '+':\n",
    "    print(add(a,b))\n",
    "elif o == '-':\n",
    "    print(sub(a,b))\n",
    "elif o == '*': \n",
    "    print(mul(a,b))\n",
    "elif o == '/': \n",
    "    print(div(a,b))\n",
    "else:\n",
    "    print(\"Invalid operator\")"
   ]
  },
  {
   "cell_type": "code",
   "execution_count": 4,
   "id": "4e5f6279-3854-4152-80fa-92637df18282",
   "metadata": {},
   "outputs": [],
   "source": [
    "# # recursive function\n",
    "# def hello():\n",
    "#     print(\"Hello World\")\n",
    "#     hello()\n",
    "# hello()"
   ]
  },
  {
   "cell_type": "code",
   "execution_count": 6,
   "id": "fa653160-9112-4be9-9f56-ccbd4db4bceb",
   "metadata": {},
   "outputs": [
    {
     "name": "stdin",
     "output_type": "stream",
     "text": [
      "Enter y for more print =  y\n"
     ]
    },
    {
     "name": "stdout",
     "output_type": "stream",
     "text": [
      "Hello World\n"
     ]
    },
    {
     "name": "stdin",
     "output_type": "stream",
     "text": [
      "Enter y for more print =  y\n"
     ]
    },
    {
     "name": "stdout",
     "output_type": "stream",
     "text": [
      "Hello World\n"
     ]
    },
    {
     "name": "stdin",
     "output_type": "stream",
     "text": [
      "Enter y for more print =  dvjs\n"
     ]
    }
   ],
   "source": [
    " # recursive function\n",
    "def hello():\n",
    "    x = input(\"Enter y for more print = \")\n",
    "    if x == 'y':\n",
    "        print(\"Hello World\")     \n",
    "        hello()\n",
    "    \n",
    "hello()"
   ]
  },
  {
   "cell_type": "code",
   "execution_count": null,
   "id": "a888e072-76d6-4d3b-8c95-d20058230b96",
   "metadata": {},
   "outputs": [],
   "source": [
    "# lambda function\n",
    "# lambda <arguments>:<operations>"
   ]
  },
  {
   "cell_type": "code",
   "execution_count": 8,
   "id": "1f21912a-c8ad-437e-87e8-f779a96ab893",
   "metadata": {},
   "outputs": [
    {
     "data": {
      "text/plain": [
       "16"
      ]
     },
     "execution_count": 8,
     "metadata": {},
     "output_type": "execute_result"
    }
   ],
   "source": [
    "x = lambda a:a**2\n",
    "x(4)"
   ]
  },
  {
   "cell_type": "code",
   "execution_count": 10,
   "id": "ff1ab87c-cdce-43ba-95e9-8e25b02a185f",
   "metadata": {},
   "outputs": [
    {
     "data": {
      "text/plain": [
       "20"
      ]
     },
     "execution_count": 10,
     "metadata": {},
     "output_type": "execute_result"
    }
   ],
   "source": [
    "x = lambda l,b:l*b\n",
    "x(4,5)"
   ]
  },
  {
   "cell_type": "code",
   "execution_count": null,
   "id": "53d1824f-8ec4-4f87-927d-8005cfe5bcc5",
   "metadata": {},
   "outputs": [],
   "source": [
    "# filter\n",
    "# list(filter(lambda <arguments>:<operation>,list))"
   ]
  },
  {
   "cell_type": "code",
   "execution_count": 12,
   "id": "06924f87-a207-4617-9277-d3e983a4dac8",
   "metadata": {},
   "outputs": [
    {
     "data": {
      "text/plain": [
       "[2, 4, 6, 8, 10]"
      ]
     },
     "execution_count": 12,
     "metadata": {},
     "output_type": "execute_result"
    }
   ],
   "source": [
    "l = [1,2,3,4,5,6,7,8,9,10]\n",
    "list(filter(lambda x: x % 2 == 0, l))"
   ]
  },
  {
   "cell_type": "code",
   "execution_count": 14,
   "id": "a69db453-bc2a-4c96-bef5-7e82c7400ab7",
   "metadata": {},
   "outputs": [
    {
     "data": {
      "text/plain": [
       "['Apple', 'Cat', 'Fish']"
      ]
     },
     "execution_count": 14,
     "metadata": {},
     "output_type": "execute_result"
    }
   ],
   "source": [
    "s = [\"Apple\",\"ball\",\"Cat\",\"dog\",\"Fish\"]\n",
    "list(filter(lambda x: x[0].isupper(), s))"
   ]
  },
  {
   "cell_type": "code",
   "execution_count": null,
   "id": "0e6ea6fb-2489-464a-a597-b9b6d2e2068e",
   "metadata": {},
   "outputs": [],
   "source": [
    "#map\n",
    "# list(map(lambda <arguments>:<operation>,list))"
   ]
  },
  {
   "cell_type": "code",
   "execution_count": 16,
   "id": "effc22bf-4c05-42f4-b0f8-4899a703bd76",
   "metadata": {},
   "outputs": [
    {
     "data": {
      "text/plain": [
       "['Apple', 'Ball', 'Cat', 'Dog', 'Fish']"
      ]
     },
     "execution_count": 16,
     "metadata": {},
     "output_type": "execute_result"
    }
   ],
   "source": [
    "s = [\"apple\",\"ball\",\"cat\",\"dog\",\"fish\"]\n",
    "list(map(lambda x:x.title(), s))"
   ]
  },
  {
   "cell_type": "code",
   "execution_count": 18,
   "id": "a03e1a54-67cc-4bdb-84cd-cdbfb7b5ab38",
   "metadata": {},
   "outputs": [
    {
     "data": {
      "text/plain": [
       "[1, 4, 9, 16, 25, 36, 49, 64, 81, 100]"
      ]
     },
     "execution_count": 18,
     "metadata": {},
     "output_type": "execute_result"
    }
   ],
   "source": [
    "l = [1,2,3,4,5,6,7,8,9,10]\n",
    "result = list(map(lambda x:x**2, l))\n",
    "result"
   ]
  },
  {
   "cell_type": "code",
   "execution_count": 20,
   "id": "2c559ebb-38a9-45a3-95d9-932e7a66af61",
   "metadata": {},
   "outputs": [
    {
     "data": {
      "text/plain": [
       "['1', '2', '3', '4', '5', '6', '7', '8', '9', '10']"
      ]
     },
     "execution_count": 20,
     "metadata": {},
     "output_type": "execute_result"
    }
   ],
   "source": [
    "l = [1,2,3,4,5,6,7,8,9,10]\n",
    "result = list(map(lambda x:str(x), l))\n",
    "result"
   ]
  },
  {
   "cell_type": "code",
   "execution_count": 22,
   "id": "dc841331-ebf7-4309-846b-dfee0ca12ff2",
   "metadata": {},
   "outputs": [
    {
     "data": {
      "text/plain": [
       "'[1, 2, 3, 4, 5, 6, 7, 8, 9, 10]'"
      ]
     },
     "execution_count": 22,
     "metadata": {},
     "output_type": "execute_result"
    }
   ],
   "source": [
    "l = [1,2,3,4,5,6,7,8,9,10]\n",
    "str(l)"
   ]
  },
  {
   "cell_type": "code",
   "execution_count": 24,
   "id": "47dfd8fe-6d04-4183-bf2e-78828a19c75e",
   "metadata": {},
   "outputs": [
    {
     "name": "stdout",
     "output_type": "stream",
     "text": [
      "[0, 1, 2, 3, 4, 5, 6, 7, 8, 9]\n"
     ]
    }
   ],
   "source": [
    "# list\n",
    "l = []\n",
    "for i in range(10):\n",
    "    l.append(i)\n",
    "print(l)"
   ]
  },
  {
   "cell_type": "code",
   "execution_count": 26,
   "id": "7e04d56d-21aa-4a7b-9eda-ac9f91058697",
   "metadata": {},
   "outputs": [
    {
     "data": {
      "text/plain": [
       "[0, 1, 2, 3, 4, 5, 6, 7, 8, 9]"
      ]
     },
     "execution_count": 26,
     "metadata": {},
     "output_type": "execute_result"
    }
   ],
   "source": [
    "l = [i for i in range(10)]\n",
    "l"
   ]
  },
  {
   "cell_type": "code",
   "execution_count": 28,
   "id": "0acabad8-9fb9-4d24-b1cf-4dceb096656b",
   "metadata": {},
   "outputs": [
    {
     "data": {
      "text/plain": [
       "['1', '2', '3', '4', '5', '6', '7', '8', '9', '10']"
      ]
     },
     "execution_count": 28,
     "metadata": {},
     "output_type": "execute_result"
    }
   ],
   "source": [
    "l = [1,2,3,4,5,6,7,8,9,10]\n",
    "l = [str(i) for i in l]\n",
    "l"
   ]
  },
  {
   "cell_type": "code",
   "execution_count": 30,
   "id": "f626b370-7d99-4c4e-a5c5-44b6ca849753",
   "metadata": {},
   "outputs": [
    {
     "data": {
      "text/plain": [
       "['APPLE', 'BALL', 'CAT', 'DOG', 'FISH']"
      ]
     },
     "execution_count": 30,
     "metadata": {},
     "output_type": "execute_result"
    }
   ],
   "source": [
    "s = [\"apple\",\"ball\",\"cat\",\"dog\",\"fish\"]\n",
    "l = [i.upper() for i in s]\n",
    "l"
   ]
  },
  {
   "cell_type": "code",
   "execution_count": 32,
   "id": "a969dfc1-7bb0-476f-890f-d54a5bfe1d1e",
   "metadata": {},
   "outputs": [
    {
     "data": {
      "text/plain": [
       "[2, 4, 6, 8, 10]"
      ]
     },
     "execution_count": 32,
     "metadata": {},
     "output_type": "execute_result"
    }
   ],
   "source": [
    "# filter\n",
    "l = [1,2,3,4,5,6,7,8,9,10]\n",
    "f = [i for i in l if i%2==0]\n",
    "f"
   ]
  },
  {
   "cell_type": "code",
   "execution_count": 34,
   "id": "d3cf57aa-3ca8-4c4e-a6a4-41b47c1a77da",
   "metadata": {},
   "outputs": [
    {
     "data": {
      "text/plain": [
       "[10, 20, 30, 40, 50]"
      ]
     },
     "execution_count": 34,
     "metadata": {},
     "output_type": "execute_result"
    }
   ],
   "source": [
    "l = [1,2,3,4,5,6,7,8,9,10]\n",
    "f = [i*5 for i in l if i%2==0]\n",
    "f"
   ]
  },
  {
   "cell_type": "code",
   "execution_count": 36,
   "id": "6e9a323f-5326-47e5-bb95-a48a08f36976",
   "metadata": {},
   "outputs": [
    {
     "data": {
      "text/plain": [
       "['Apple', 'Cat', 'Fish']"
      ]
     },
     "execution_count": 36,
     "metadata": {},
     "output_type": "execute_result"
    }
   ],
   "source": [
    "s = [\"Apple\",\"ball\",\"Cat\",\"dog\",\"Fish\"]\n",
    "l = [i for i in s if i[0].isupper()]\n",
    "l"
   ]
  },
  {
   "cell_type": "code",
   "execution_count": 38,
   "id": "5ea3b783-a55a-4fc7-942d-0dd8d915d673",
   "metadata": {},
   "outputs": [
    {
     "name": "stdout",
     "output_type": "stream",
     "text": [
      "['APPLE', 'CAT']\n"
     ]
    }
   ],
   "source": [
    "a = ['APPLE', 'BALL', 'CAT', 'DOG', 'FISH']\n",
    "b = [\"APPLE\",\"ball\",\"CAT\",\"dog\",\"Fish\"]\n",
    "common = [i for i in b if i in a]\n",
    "print(common)"
   ]
  },
  {
   "cell_type": "code",
   "execution_count": 40,
   "id": "eecfc224-c6f4-4e2d-beb1-b6579aa0698e",
   "metadata": {},
   "outputs": [
    {
     "name": "stdout",
     "output_type": "stream",
     "text": [
      "['ball', 'dog', 'Fish']\n"
     ]
    }
   ],
   "source": [
    "not_common = [i for i in b if i not in a]\n",
    "print(not_common)"
   ]
  },
  {
   "cell_type": "code",
   "execution_count": 32,
   "id": "25d9699f-6981-49a5-a219-e87246032554",
   "metadata": {},
   "outputs": [],
   "source": [
    "# tuple\n",
    "# -Indexing\n",
    "# -Multiple and dublicate\n",
    "# -Ordered \n",
    "# -IMutable"
   ]
  },
  {
   "cell_type": "code",
   "execution_count": 34,
   "id": "91d901ab-4120-43cf-bd8f-200ed8a12b50",
   "metadata": {},
   "outputs": [
    {
     "name": "stdout",
     "output_type": "stream",
     "text": [
      "() (1, 2, 3, 4, 5, 6, 7, 8, 9) ('Apple', 'Ball', 'Cat')\n",
      "<class 'tuple'>\n",
      "<class 'tuple'>\n",
      "<class 'tuple'>\n"
     ]
    }
   ],
   "source": [
    "a = tuple()\n",
    "b = (1,2,3,4,5,6,7,8,9)\n",
    "c = (\"Apple\",\"Ball\",\"Cat\")\n",
    "print(a,b,c)\n",
    "print(type(a))\n",
    "print(type(b))\n",
    "print(type(c))"
   ]
  },
  {
   "cell_type": "code",
   "execution_count": 36,
   "id": "9a1d891f-99d9-407c-86f4-0773ff32051c",
   "metadata": {},
   "outputs": [],
   "source": [
    "# No append() insert() extend()\n",
    "# No Update\n",
    "# No del() remove() pop()\n",
    "# No sort"
   ]
  },
  {
   "cell_type": "code",
   "execution_count": 38,
   "id": "eb06ac1b-50ae-4532-a345-91c518332f28",
   "metadata": {},
   "outputs": [],
   "source": [
    "Gender = ('Male','Female','Other')"
   ]
  },
  {
   "cell_type": "code",
   "execution_count": 40,
   "id": "d15fc3ae-5615-4952-a292-53959b6850cf",
   "metadata": {},
   "outputs": [
    {
     "name": "stdout",
     "output_type": "stream",
     "text": [
      "(1, 2, 3, 4, 5, 6)\n"
     ]
    }
   ],
   "source": [
    "a = (1,2,3)\n",
    "b = (4,5,6)\n",
    "c = a+b\n",
    "print(c)"
   ]
  },
  {
   "cell_type": "code",
   "execution_count": 42,
   "id": "fa8ec1f7-0e24-4b02-94bb-f3f72bb8b1b7",
   "metadata": {},
   "outputs": [
    {
     "data": {
      "text/plain": [
       "tuple"
      ]
     },
     "execution_count": 42,
     "metadata": {},
     "output_type": "execute_result"
    }
   ],
   "source": [
    "a = (\"Apple\",)\n",
    "type(a)"
   ]
  },
  {
   "cell_type": "code",
   "execution_count": 44,
   "id": "8d3d78eb-6a10-4944-b9f9-6cb288c554f9",
   "metadata": {},
   "outputs": [
    {
     "name": "stdout",
     "output_type": "stream",
     "text": [
      "('Apple', 'Ball', 'Cat', 'Dog')\n"
     ]
    }
   ],
   "source": [
    "a = (\"Apple\",\"Ball\",\"Cat\")\n",
    "b = (\"Dog\",)\n",
    "c = a+b\n",
    "print(c)"
   ]
  },
  {
   "cell_type": "code",
   "execution_count": 46,
   "id": "51558230-b6e2-4884-8cd4-3495922c470e",
   "metadata": {},
   "outputs": [
    {
     "name": "stdout",
     "output_type": "stream",
     "text": [
      "('Apple', 'Ball', 'Cat')\n"
     ]
    }
   ],
   "source": [
    "a = \"Apple\",\"Ball\",\"Cat\"\n",
    "print(a)"
   ]
  },
  {
   "cell_type": "code",
   "execution_count": 48,
   "id": "a81dbe92-3857-4e3b-a1f7-df6fb6e7c3d0",
   "metadata": {},
   "outputs": [
    {
     "data": {
      "text/plain": [
       "['Apple', 'Ball', 'Cat']"
      ]
     },
     "execution_count": 48,
     "metadata": {},
     "output_type": "execute_result"
    }
   ],
   "source": [
    "a = ('Apple', 'Ball', 'Cat')\n",
    "b = list(a)\n",
    "b"
   ]
  },
  {
   "cell_type": "code",
   "execution_count": 50,
   "id": "5552e3a6-4f16-4471-922b-c305d35a88fe",
   "metadata": {},
   "outputs": [
    {
     "data": {
      "text/plain": [
       "['H', 'e', 'l', 'l', 'o', ' ', 'W', 'o', 'r', 'l', 'd']"
      ]
     },
     "execution_count": 50,
     "metadata": {},
     "output_type": "execute_result"
    }
   ],
   "source": [
    "a =list(\"Hello World\")\n",
    "a"
   ]
  },
  {
   "cell_type": "code",
   "execution_count": 52,
   "id": "87000739-c58a-46c3-8cb4-bd1a6fd3ea98",
   "metadata": {},
   "outputs": [],
   "source": [
    "# min() max() sum()"
   ]
  },
  {
   "cell_type": "code",
   "execution_count": 54,
   "id": "4f535874-d931-44a8-a03f-3dd92f4c8bb7",
   "metadata": {},
   "outputs": [
    {
     "data": {
      "text/plain": [
       "((1, 2, 3), (4, 5, 6), (7, 8, 9))"
      ]
     },
     "execution_count": 54,
     "metadata": {},
     "output_type": "execute_result"
    }
   ],
   "source": [
    "# tuple inside tuple\n",
    "t = ((1,2,3),\n",
    "     (4,5,6),\n",
    "     (7,8,9))\n",
    "t"
   ]
  },
  {
   "cell_type": "code",
   "execution_count": 56,
   "id": "6cb5ce3f-621b-4df4-beb7-c7a9c5ffb0f4",
   "metadata": {},
   "outputs": [],
   "source": [
    "# Set\n",
    "# -No Indexing\n",
    "# -Multiple but no dublicate\n",
    "# -Not Ordered \n",
    "# -Mutable"
   ]
  },
  {
   "cell_type": "code",
   "execution_count": 58,
   "id": "34b334d9-79cc-448f-95ce-61d27475bc13",
   "metadata": {},
   "outputs": [
    {
     "name": "stdout",
     "output_type": "stream",
     "text": [
      "set()\n",
      "{'Ball', 'Apple', 'Cat', 'Dog'}\n",
      "<class 'set'>\n",
      "<class 'dict'>\n"
     ]
    }
   ],
   "source": [
    "a = set()\n",
    "b = {\"Apple\",\"Ball\",\"Cat\",\"Dog\"}\n",
    "c ={}\n",
    "print(a)\n",
    "print(b)\n",
    "\n",
    "print(type(b))\n",
    "print(type(c))"
   ]
  },
  {
   "cell_type": "code",
   "execution_count": 60,
   "id": "b933f5dd-e380-4d03-b63f-73c1f445a4d4",
   "metadata": {},
   "outputs": [
    {
     "name": "stdout",
     "output_type": "stream",
     "text": [
      "{'Ball', 'Apple', 'Cat', 'Dog'}\n"
     ]
    }
   ],
   "source": [
    "a = {\"Apple\",\"Ball\",\"Cat\",\"Dog\",\"Apple\"}\n",
    "#a[0]\n",
    "print(a)"
   ]
  },
  {
   "cell_type": "code",
   "execution_count": 62,
   "id": "af4629ba-f241-43bc-a0fb-b9da4c033ca2",
   "metadata": {},
   "outputs": [],
   "source": [
    "# In set no + and *"
   ]
  },
  {
   "cell_type": "code",
   "execution_count": 64,
   "id": "24cd6e0c-237c-41e0-90c3-67f241437af0",
   "metadata": {},
   "outputs": [
    {
     "name": "stdout",
     "output_type": "stream",
     "text": [
      "{'Ball', 'Apple', 'Cat'}\n"
     ]
    }
   ],
   "source": [
    "a = set()\n",
    "a.add(\"Apple\")\n",
    "a.add(\"Ball\")\n",
    "a.add(\"Cat\")\n",
    "print(a)"
   ]
  },
  {
   "cell_type": "code",
   "execution_count": 66,
   "id": "873876b9-73e4-4a4b-9ef3-d857bd51bc99",
   "metadata": {},
   "outputs": [
    {
     "name": "stdout",
     "output_type": "stream",
     "text": [
      "{'Apple', 'Cat'}\n"
     ]
    }
   ],
   "source": [
    "a = {'Ball', 'Apple', 'Cat'}\n",
    "a.remove(\"Ball\")\n",
    "print(a)"
   ]
  },
  {
   "cell_type": "code",
   "execution_count": 68,
   "id": "f29d5768-8363-4e3e-bdf1-a6cd8f806d3f",
   "metadata": {},
   "outputs": [
    {
     "name": "stdout",
     "output_type": "stream",
     "text": [
      "{1, 2, 3, 4, 5, 6}\n"
     ]
    }
   ],
   "source": [
    "# update()\n",
    "a = {1,2,3}\n",
    "b = {4,5,6}\n",
    "a.update(b)\n",
    "print(a)"
   ]
  },
  {
   "cell_type": "code",
   "execution_count": 70,
   "id": "a0505ee1-a88c-4e90-b239-548e6fecf69b",
   "metadata": {},
   "outputs": [],
   "source": [
    "# intersection union difference"
   ]
  },
  {
   "cell_type": "code",
   "execution_count": 86,
   "id": "1c516857-22b3-47e8-a975-46d3e0f2bb27",
   "metadata": {},
   "outputs": [
    {
     "name": "stdout",
     "output_type": "stream",
     "text": [
      "{'Nisha', 'Jack'}\n",
      "{'Ashok', 'Steave', 'Satya', 'Manish', 'Willium', 'Nabin', 'Ram', 'Akash', 'Nisha', 'Pravat', 'Jack', 'Bill'}\n",
      "{'Pravat', 'Steave', 'Ram', 'Willium'}\n",
      "{'Ashok', 'Satya', 'Manish', 'Nabin', 'Akash', 'Bill'}\n"
     ]
    }
   ],
   "source": [
    "U = {'Ashok','Akash','Steave','Parvat','Satya','Manish','abc','xyz','Nabin','Bill','Willium','Nisha','Ram','Jack'}\n",
    "apple = {\"Ram\",\"Nisha\",\"Pravat\",\"Steave\",\"Jack\",\"Willium\"}\n",
    "ms = {\"Bill\",\"Satya\",\"Jack\",\"Akash\",\"Manish\",\"Nabin\",\"Ashok\",\"Nisha\"}\n",
    "\n",
    "#Working on both\n",
    "both = apple.intersection(ms)\n",
    "print(both)\n",
    "\n",
    "#if both merges\n",
    "new = apple.union(ms)\n",
    "print(new)\n",
    "\n",
    "#only apple\n",
    "oa = apple - ms  #apple.difference(ms)\n",
    "print(oa)\n",
    "\n",
    "#only ms\n",
    "om = ms - apple \n",
    "print(om)"
   ]
  },
  {
   "cell_type": "code",
   "execution_count": 88,
   "id": "d97e3fd8-415b-4a86-9f25-649b6d88810d",
   "metadata": {},
   "outputs": [
    {
     "name": "stdout",
     "output_type": "stream",
     "text": [
      "{'Parvat', 'abc', 'xyz'}\n"
     ]
    }
   ],
   "source": [
    "ue = U-new \n",
    "print(ue)"
   ]
  },
  {
   "cell_type": "code",
   "execution_count": 76,
   "id": "f0bd9453-61ed-406c-87af-64cd7972e661",
   "metadata": {},
   "outputs": [],
   "source": [
    "# There is no any mutable data type inside set \n",
    "# No set inside set\n",
    "# No list inside set\n",
    "# No dict inside set"
   ]
  },
  {
   "cell_type": "code",
   "execution_count": 78,
   "id": "f4907797-d29d-4670-9df9-db0686b8e950",
   "metadata": {},
   "outputs": [
    {
     "ename": "TypeError",
     "evalue": "unhashable type: 'set'",
     "output_type": "error",
     "traceback": [
      "\u001b[1;31m---------------------------------------------------------------------------\u001b[0m",
      "\u001b[1;31mTypeError\u001b[0m                                 Traceback (most recent call last)",
      "Cell \u001b[1;32mIn[78], line 1\u001b[0m\n\u001b[1;32m----> 1\u001b[0m a \u001b[38;5;241m=\u001b[39m{\u001b[38;5;241m1\u001b[39m,\u001b[38;5;241m2\u001b[39m,\u001b[38;5;241m3\u001b[39m,({\u001b[38;5;241m1\u001b[39m,\u001b[38;5;241m2\u001b[39m},{\u001b[38;5;241m4\u001b[39m,\u001b[38;5;241m6\u001b[39m}),\u001b[38;5;241m4\u001b[39m,\u001b[38;5;241m5\u001b[39m,\u001b[38;5;241m6\u001b[39m}\n\u001b[0;32m      2\u001b[0m a\n",
      "\u001b[1;31mTypeError\u001b[0m: unhashable type: 'set'"
     ]
    }
   ],
   "source": [
    "a ={1,2,3,({1,2},{4,6}),4,5,6}\n",
    "a"
   ]
  },
  {
   "cell_type": "code",
   "execution_count": 80,
   "id": "9ee26be3-7c14-4b5b-91ec-49e9e7427561",
   "metadata": {},
   "outputs": [
    {
     "data": {
      "text/plain": [
       "{1: 2, 3: 4}"
      ]
     },
     "execution_count": 80,
     "metadata": {},
     "output_type": "execute_result"
    }
   ],
   "source": [
    "a = ((1,2),(3,4))\n",
    "b = dict(a)\n",
    "b"
   ]
  },
  {
   "cell_type": "code",
   "execution_count": 82,
   "id": "7e514022-439c-4a08-ae18-b28bdef8c488",
   "metadata": {},
   "outputs": [
    {
     "data": {
      "text/plain": [
       "dict_items([(1, 2), (3, 4)])"
      ]
     },
     "execution_count": 82,
     "metadata": {},
     "output_type": "execute_result"
    }
   ],
   "source": [
    "b.items()"
   ]
  },
  {
   "cell_type": "code",
   "execution_count": 84,
   "id": "9c53fc8b-c12b-483c-9ef9-f8639ac4f135",
   "metadata": {},
   "outputs": [
    {
     "data": {
      "text/plain": [
       "[1, 3]"
      ]
     },
     "execution_count": 84,
     "metadata": {},
     "output_type": "execute_result"
    }
   ],
   "source": [
    "list(b)"
   ]
  },
  {
   "cell_type": "code",
   "execution_count": null,
   "id": "48147ecc-dde6-4990-8e01-ec7fdd0fa684",
   "metadata": {},
   "outputs": [],
   "source": []
  }
 ],
 "metadata": {
  "kernelspec": {
   "display_name": "Python [conda env:base] *",
   "language": "python",
   "name": "conda-base-py"
  },
  "language_info": {
   "codemirror_mode": {
    "name": "ipython",
    "version": 3
   },
   "file_extension": ".py",
   "mimetype": "text/x-python",
   "name": "python",
   "nbconvert_exporter": "python",
   "pygments_lexer": "ipython3",
   "version": "3.12.7"
  }
 },
 "nbformat": 4,
 "nbformat_minor": 5
}
